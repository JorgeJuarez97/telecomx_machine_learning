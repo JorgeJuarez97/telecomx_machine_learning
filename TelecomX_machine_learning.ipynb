{
  "nbformat": 4,
  "nbformat_minor": 0,
  "metadata": {
    "colab": {
      "provenance": []
    },
    "kernelspec": {
      "name": "python3",
      "display_name": "Python 3"
    },
    "language_info": {
      "name": "python"
    }
  },
  "cells": [
    {
      "cell_type": "markdown",
      "source": [
        "# **Telecom X – Parte 2: Predicción de Cancelación (Churn)**"
      ],
      "metadata": {
        "id": "e6J8b59oGQ8p"
      }
    },
    {
      "cell_type": "markdown",
      "source": [
        "La misión es desarrollar modelos predictivos capaces de prever qué clientes tienen mayor probabilidad de cancelar sus servicios.\n",
        "La empresa quiere anticiparse al problema de la cancelación, y se deberá construir un pipeline robusto para esta etapa inicial de modelado."
      ],
      "metadata": {
        "id": "gSf_8sSmGUGz"
      }
    },
    {
      "cell_type": "markdown",
      "source": [
        "**Objetivos del Desafío**\n",
        "\n",
        "* Preparar los datos para el modelado (tratamiento, codificación, normalización).\n",
        "\n",
        "* Realizar análisis de correlación y selección de variables.\n",
        "\n",
        "* Entrenar dos o más modelos de clasificación.\n",
        "\n",
        "* Evaluar el rendimiento de los modelos con métricas.\n",
        "\n",
        "* Interpretar los resultados, incluyendo la importancia de las variables.\n",
        "\n",
        "* Crear una conclusión estratégica señalando los principales factores que influyen en la cancelación."
      ],
      "metadata": {
        "id": "B7PmbeF5GkgI"
      }
    },
    {
      "cell_type": "markdown",
      "source": [
        "# **Preparación de los Datos**"
      ],
      "metadata": {
        "id": "3M5xOXweI2_f"
      }
    },
    {
      "cell_type": "markdown",
      "source": [
        "## **1 - Extracción del Archivo Tratado**"
      ],
      "metadata": {
        "id": "2vcn4yK9H1S9"
      }
    },
    {
      "cell_type": "code",
      "source": [
        "import pandas as pd"
      ],
      "metadata": {
        "id": "4VEUUoezIK2u"
      },
      "execution_count": 1,
      "outputs": []
    },
    {
      "cell_type": "code",
      "source": [
        "url = 'https://raw.githubusercontent.com/JorgeJuarez97/telecomx_machine_learning/refs/heads/main/datos_tratados.csv'"
      ],
      "metadata": {
        "id": "NPDQV6ZuGB7o"
      },
      "execution_count": 2,
      "outputs": []
    },
    {
      "cell_type": "code",
      "execution_count": 3,
      "metadata": {
        "colab": {
          "base_uri": "https://localhost:8080/",
          "height": 342
        },
        "id": "c52YhZrR__cF",
        "outputId": "321223b1-47a0-4546-c72c-5986df1309ea"
      },
      "outputs": [
        {
          "output_type": "execute_result",
          "data": {
            "text/plain": [
              "   customerID  Churn  gender  SeniorCitizen  Partner  Dependents  tenure  \\\n",
              "0  0002-ORFBO      0  female              0        1           1       9   \n",
              "1  0003-MKNFE      0    male              0        0           0       9   \n",
              "2  0004-TLHLJ      1    male              0        0           0       4   \n",
              "3  0011-IGKFF      1    male              1        1           0      13   \n",
              "4  0013-EXCHZ      1  female              1        1           0       3   \n",
              "\n",
              "   PhoneService  MultipleLines InternetService  ...  DeviceProtection  \\\n",
              "0             1              0             dsl  ...                 0   \n",
              "1             1              1             dsl  ...                 0   \n",
              "2             1              0     fiber optic  ...                 1   \n",
              "3             1              0     fiber optic  ...                 1   \n",
              "4             1              0     fiber optic  ...                 0   \n",
              "\n",
              "   TechSupport  StreamingTV  StreamingMovies        Contract  \\\n",
              "0            1            1                0        one year   \n",
              "1            0            0                1  month-to-month   \n",
              "2            0            0                0  month-to-month   \n",
              "3            0            1                1  month-to-month   \n",
              "4            1            1                0  month-to-month   \n",
              "\n",
              "   PaperlessBilling     PaymentMethod  Monthly    Total  CuentasDiarias  \n",
              "0                 1      mailed check     65.6   593.30            2.19  \n",
              "1                 0      mailed check     59.9   542.40            2.00  \n",
              "2                 1  electronic check     73.9   280.85            2.46  \n",
              "3                 1  electronic check     98.0  1237.85            3.27  \n",
              "4                 1      mailed check     83.9   267.40            2.80  \n",
              "\n",
              "[5 rows x 22 columns]"
            ],
            "text/html": [
              "\n",
              "  <div id=\"df-8adc30a6-aa50-4605-9686-cfb3c332fbf0\" class=\"colab-df-container\">\n",
              "    <div>\n",
              "<style scoped>\n",
              "    .dataframe tbody tr th:only-of-type {\n",
              "        vertical-align: middle;\n",
              "    }\n",
              "\n",
              "    .dataframe tbody tr th {\n",
              "        vertical-align: top;\n",
              "    }\n",
              "\n",
              "    .dataframe thead th {\n",
              "        text-align: right;\n",
              "    }\n",
              "</style>\n",
              "<table border=\"1\" class=\"dataframe\">\n",
              "  <thead>\n",
              "    <tr style=\"text-align: right;\">\n",
              "      <th></th>\n",
              "      <th>customerID</th>\n",
              "      <th>Churn</th>\n",
              "      <th>gender</th>\n",
              "      <th>SeniorCitizen</th>\n",
              "      <th>Partner</th>\n",
              "      <th>Dependents</th>\n",
              "      <th>tenure</th>\n",
              "      <th>PhoneService</th>\n",
              "      <th>MultipleLines</th>\n",
              "      <th>InternetService</th>\n",
              "      <th>...</th>\n",
              "      <th>DeviceProtection</th>\n",
              "      <th>TechSupport</th>\n",
              "      <th>StreamingTV</th>\n",
              "      <th>StreamingMovies</th>\n",
              "      <th>Contract</th>\n",
              "      <th>PaperlessBilling</th>\n",
              "      <th>PaymentMethod</th>\n",
              "      <th>Monthly</th>\n",
              "      <th>Total</th>\n",
              "      <th>CuentasDiarias</th>\n",
              "    </tr>\n",
              "  </thead>\n",
              "  <tbody>\n",
              "    <tr>\n",
              "      <th>0</th>\n",
              "      <td>0002-ORFBO</td>\n",
              "      <td>0</td>\n",
              "      <td>female</td>\n",
              "      <td>0</td>\n",
              "      <td>1</td>\n",
              "      <td>1</td>\n",
              "      <td>9</td>\n",
              "      <td>1</td>\n",
              "      <td>0</td>\n",
              "      <td>dsl</td>\n",
              "      <td>...</td>\n",
              "      <td>0</td>\n",
              "      <td>1</td>\n",
              "      <td>1</td>\n",
              "      <td>0</td>\n",
              "      <td>one year</td>\n",
              "      <td>1</td>\n",
              "      <td>mailed check</td>\n",
              "      <td>65.6</td>\n",
              "      <td>593.30</td>\n",
              "      <td>2.19</td>\n",
              "    </tr>\n",
              "    <tr>\n",
              "      <th>1</th>\n",
              "      <td>0003-MKNFE</td>\n",
              "      <td>0</td>\n",
              "      <td>male</td>\n",
              "      <td>0</td>\n",
              "      <td>0</td>\n",
              "      <td>0</td>\n",
              "      <td>9</td>\n",
              "      <td>1</td>\n",
              "      <td>1</td>\n",
              "      <td>dsl</td>\n",
              "      <td>...</td>\n",
              "      <td>0</td>\n",
              "      <td>0</td>\n",
              "      <td>0</td>\n",
              "      <td>1</td>\n",
              "      <td>month-to-month</td>\n",
              "      <td>0</td>\n",
              "      <td>mailed check</td>\n",
              "      <td>59.9</td>\n",
              "      <td>542.40</td>\n",
              "      <td>2.00</td>\n",
              "    </tr>\n",
              "    <tr>\n",
              "      <th>2</th>\n",
              "      <td>0004-TLHLJ</td>\n",
              "      <td>1</td>\n",
              "      <td>male</td>\n",
              "      <td>0</td>\n",
              "      <td>0</td>\n",
              "      <td>0</td>\n",
              "      <td>4</td>\n",
              "      <td>1</td>\n",
              "      <td>0</td>\n",
              "      <td>fiber optic</td>\n",
              "      <td>...</td>\n",
              "      <td>1</td>\n",
              "      <td>0</td>\n",
              "      <td>0</td>\n",
              "      <td>0</td>\n",
              "      <td>month-to-month</td>\n",
              "      <td>1</td>\n",
              "      <td>electronic check</td>\n",
              "      <td>73.9</td>\n",
              "      <td>280.85</td>\n",
              "      <td>2.46</td>\n",
              "    </tr>\n",
              "    <tr>\n",
              "      <th>3</th>\n",
              "      <td>0011-IGKFF</td>\n",
              "      <td>1</td>\n",
              "      <td>male</td>\n",
              "      <td>1</td>\n",
              "      <td>1</td>\n",
              "      <td>0</td>\n",
              "      <td>13</td>\n",
              "      <td>1</td>\n",
              "      <td>0</td>\n",
              "      <td>fiber optic</td>\n",
              "      <td>...</td>\n",
              "      <td>1</td>\n",
              "      <td>0</td>\n",
              "      <td>1</td>\n",
              "      <td>1</td>\n",
              "      <td>month-to-month</td>\n",
              "      <td>1</td>\n",
              "      <td>electronic check</td>\n",
              "      <td>98.0</td>\n",
              "      <td>1237.85</td>\n",
              "      <td>3.27</td>\n",
              "    </tr>\n",
              "    <tr>\n",
              "      <th>4</th>\n",
              "      <td>0013-EXCHZ</td>\n",
              "      <td>1</td>\n",
              "      <td>female</td>\n",
              "      <td>1</td>\n",
              "      <td>1</td>\n",
              "      <td>0</td>\n",
              "      <td>3</td>\n",
              "      <td>1</td>\n",
              "      <td>0</td>\n",
              "      <td>fiber optic</td>\n",
              "      <td>...</td>\n",
              "      <td>0</td>\n",
              "      <td>1</td>\n",
              "      <td>1</td>\n",
              "      <td>0</td>\n",
              "      <td>month-to-month</td>\n",
              "      <td>1</td>\n",
              "      <td>mailed check</td>\n",
              "      <td>83.9</td>\n",
              "      <td>267.40</td>\n",
              "      <td>2.80</td>\n",
              "    </tr>\n",
              "  </tbody>\n",
              "</table>\n",
              "<p>5 rows × 22 columns</p>\n",
              "</div>\n",
              "    <div class=\"colab-df-buttons\">\n",
              "\n",
              "  <div class=\"colab-df-container\">\n",
              "    <button class=\"colab-df-convert\" onclick=\"convertToInteractive('df-8adc30a6-aa50-4605-9686-cfb3c332fbf0')\"\n",
              "            title=\"Convert this dataframe to an interactive table.\"\n",
              "            style=\"display:none;\">\n",
              "\n",
              "  <svg xmlns=\"http://www.w3.org/2000/svg\" height=\"24px\" viewBox=\"0 -960 960 960\">\n",
              "    <path d=\"M120-120v-720h720v720H120Zm60-500h600v-160H180v160Zm220 220h160v-160H400v160Zm0 220h160v-160H400v160ZM180-400h160v-160H180v160Zm440 0h160v-160H620v160ZM180-180h160v-160H180v160Zm440 0h160v-160H620v160Z\"/>\n",
              "  </svg>\n",
              "    </button>\n",
              "\n",
              "  <style>\n",
              "    .colab-df-container {\n",
              "      display:flex;\n",
              "      gap: 12px;\n",
              "    }\n",
              "\n",
              "    .colab-df-convert {\n",
              "      background-color: #E8F0FE;\n",
              "      border: none;\n",
              "      border-radius: 50%;\n",
              "      cursor: pointer;\n",
              "      display: none;\n",
              "      fill: #1967D2;\n",
              "      height: 32px;\n",
              "      padding: 0 0 0 0;\n",
              "      width: 32px;\n",
              "    }\n",
              "\n",
              "    .colab-df-convert:hover {\n",
              "      background-color: #E2EBFA;\n",
              "      box-shadow: 0px 1px 2px rgba(60, 64, 67, 0.3), 0px 1px 3px 1px rgba(60, 64, 67, 0.15);\n",
              "      fill: #174EA6;\n",
              "    }\n",
              "\n",
              "    .colab-df-buttons div {\n",
              "      margin-bottom: 4px;\n",
              "    }\n",
              "\n",
              "    [theme=dark] .colab-df-convert {\n",
              "      background-color: #3B4455;\n",
              "      fill: #D2E3FC;\n",
              "    }\n",
              "\n",
              "    [theme=dark] .colab-df-convert:hover {\n",
              "      background-color: #434B5C;\n",
              "      box-shadow: 0px 1px 3px 1px rgba(0, 0, 0, 0.15);\n",
              "      filter: drop-shadow(0px 1px 2px rgba(0, 0, 0, 0.3));\n",
              "      fill: #FFFFFF;\n",
              "    }\n",
              "  </style>\n",
              "\n",
              "    <script>\n",
              "      const buttonEl =\n",
              "        document.querySelector('#df-8adc30a6-aa50-4605-9686-cfb3c332fbf0 button.colab-df-convert');\n",
              "      buttonEl.style.display =\n",
              "        google.colab.kernel.accessAllowed ? 'block' : 'none';\n",
              "\n",
              "      async function convertToInteractive(key) {\n",
              "        const element = document.querySelector('#df-8adc30a6-aa50-4605-9686-cfb3c332fbf0');\n",
              "        const dataTable =\n",
              "          await google.colab.kernel.invokeFunction('convertToInteractive',\n",
              "                                                    [key], {});\n",
              "        if (!dataTable) return;\n",
              "\n",
              "        const docLinkHtml = 'Like what you see? Visit the ' +\n",
              "          '<a target=\"_blank\" href=https://colab.research.google.com/notebooks/data_table.ipynb>data table notebook</a>'\n",
              "          + ' to learn more about interactive tables.';\n",
              "        element.innerHTML = '';\n",
              "        dataTable['output_type'] = 'display_data';\n",
              "        await google.colab.output.renderOutput(dataTable, element);\n",
              "        const docLink = document.createElement('div');\n",
              "        docLink.innerHTML = docLinkHtml;\n",
              "        element.appendChild(docLink);\n",
              "      }\n",
              "    </script>\n",
              "  </div>\n",
              "\n",
              "\n",
              "    <div id=\"df-04e5f280-ecf1-41cf-8eb2-6db396786a57\">\n",
              "      <button class=\"colab-df-quickchart\" onclick=\"quickchart('df-04e5f280-ecf1-41cf-8eb2-6db396786a57')\"\n",
              "                title=\"Suggest charts\"\n",
              "                style=\"display:none;\">\n",
              "\n",
              "<svg xmlns=\"http://www.w3.org/2000/svg\" height=\"24px\"viewBox=\"0 0 24 24\"\n",
              "     width=\"24px\">\n",
              "    <g>\n",
              "        <path d=\"M19 3H5c-1.1 0-2 .9-2 2v14c0 1.1.9 2 2 2h14c1.1 0 2-.9 2-2V5c0-1.1-.9-2-2-2zM9 17H7v-7h2v7zm4 0h-2V7h2v10zm4 0h-2v-4h2v4z\"/>\n",
              "    </g>\n",
              "</svg>\n",
              "      </button>\n",
              "\n",
              "<style>\n",
              "  .colab-df-quickchart {\n",
              "      --bg-color: #E8F0FE;\n",
              "      --fill-color: #1967D2;\n",
              "      --hover-bg-color: #E2EBFA;\n",
              "      --hover-fill-color: #174EA6;\n",
              "      --disabled-fill-color: #AAA;\n",
              "      --disabled-bg-color: #DDD;\n",
              "  }\n",
              "\n",
              "  [theme=dark] .colab-df-quickchart {\n",
              "      --bg-color: #3B4455;\n",
              "      --fill-color: #D2E3FC;\n",
              "      --hover-bg-color: #434B5C;\n",
              "      --hover-fill-color: #FFFFFF;\n",
              "      --disabled-bg-color: #3B4455;\n",
              "      --disabled-fill-color: #666;\n",
              "  }\n",
              "\n",
              "  .colab-df-quickchart {\n",
              "    background-color: var(--bg-color);\n",
              "    border: none;\n",
              "    border-radius: 50%;\n",
              "    cursor: pointer;\n",
              "    display: none;\n",
              "    fill: var(--fill-color);\n",
              "    height: 32px;\n",
              "    padding: 0;\n",
              "    width: 32px;\n",
              "  }\n",
              "\n",
              "  .colab-df-quickchart:hover {\n",
              "    background-color: var(--hover-bg-color);\n",
              "    box-shadow: 0 1px 2px rgba(60, 64, 67, 0.3), 0 1px 3px 1px rgba(60, 64, 67, 0.15);\n",
              "    fill: var(--button-hover-fill-color);\n",
              "  }\n",
              "\n",
              "  .colab-df-quickchart-complete:disabled,\n",
              "  .colab-df-quickchart-complete:disabled:hover {\n",
              "    background-color: var(--disabled-bg-color);\n",
              "    fill: var(--disabled-fill-color);\n",
              "    box-shadow: none;\n",
              "  }\n",
              "\n",
              "  .colab-df-spinner {\n",
              "    border: 2px solid var(--fill-color);\n",
              "    border-color: transparent;\n",
              "    border-bottom-color: var(--fill-color);\n",
              "    animation:\n",
              "      spin 1s steps(1) infinite;\n",
              "  }\n",
              "\n",
              "  @keyframes spin {\n",
              "    0% {\n",
              "      border-color: transparent;\n",
              "      border-bottom-color: var(--fill-color);\n",
              "      border-left-color: var(--fill-color);\n",
              "    }\n",
              "    20% {\n",
              "      border-color: transparent;\n",
              "      border-left-color: var(--fill-color);\n",
              "      border-top-color: var(--fill-color);\n",
              "    }\n",
              "    30% {\n",
              "      border-color: transparent;\n",
              "      border-left-color: var(--fill-color);\n",
              "      border-top-color: var(--fill-color);\n",
              "      border-right-color: var(--fill-color);\n",
              "    }\n",
              "    40% {\n",
              "      border-color: transparent;\n",
              "      border-right-color: var(--fill-color);\n",
              "      border-top-color: var(--fill-color);\n",
              "    }\n",
              "    60% {\n",
              "      border-color: transparent;\n",
              "      border-right-color: var(--fill-color);\n",
              "    }\n",
              "    80% {\n",
              "      border-color: transparent;\n",
              "      border-right-color: var(--fill-color);\n",
              "      border-bottom-color: var(--fill-color);\n",
              "    }\n",
              "    90% {\n",
              "      border-color: transparent;\n",
              "      border-bottom-color: var(--fill-color);\n",
              "    }\n",
              "  }\n",
              "</style>\n",
              "\n",
              "      <script>\n",
              "        async function quickchart(key) {\n",
              "          const quickchartButtonEl =\n",
              "            document.querySelector('#' + key + ' button');\n",
              "          quickchartButtonEl.disabled = true;  // To prevent multiple clicks.\n",
              "          quickchartButtonEl.classList.add('colab-df-spinner');\n",
              "          try {\n",
              "            const charts = await google.colab.kernel.invokeFunction(\n",
              "                'suggestCharts', [key], {});\n",
              "          } catch (error) {\n",
              "            console.error('Error during call to suggestCharts:', error);\n",
              "          }\n",
              "          quickchartButtonEl.classList.remove('colab-df-spinner');\n",
              "          quickchartButtonEl.classList.add('colab-df-quickchart-complete');\n",
              "        }\n",
              "        (() => {\n",
              "          let quickchartButtonEl =\n",
              "            document.querySelector('#df-04e5f280-ecf1-41cf-8eb2-6db396786a57 button');\n",
              "          quickchartButtonEl.style.display =\n",
              "            google.colab.kernel.accessAllowed ? 'block' : 'none';\n",
              "        })();\n",
              "      </script>\n",
              "    </div>\n",
              "\n",
              "    </div>\n",
              "  </div>\n"
            ],
            "application/vnd.google.colaboratory.intrinsic+json": {
              "type": "dataframe",
              "variable_name": "datos"
            }
          },
          "metadata": {},
          "execution_count": 3
        }
      ],
      "source": [
        "datos = pd.read_csv(url)\n",
        "datos.head()"
      ]
    },
    {
      "cell_type": "markdown",
      "source": [
        "## **2 - Eliminación de Columnas Irrelevantes**"
      ],
      "metadata": {
        "id": "EJqNAeGiImvM"
      }
    },
    {
      "cell_type": "code",
      "source": [
        "datos = datos.drop(columns='customerID')"
      ],
      "metadata": {
        "id": "AtYbCCKUI_xF"
      },
      "execution_count": 4,
      "outputs": []
    },
    {
      "cell_type": "code",
      "source": [
        "datos.sample(1)"
      ],
      "metadata": {
        "colab": {
          "base_uri": "https://localhost:8080/",
          "height": 130
        },
        "id": "hZB0Y2McJMDw",
        "outputId": "328e6dcf-a7d0-4666-bea9-32832adc1fdc"
      },
      "execution_count": 5,
      "outputs": [
        {
          "output_type": "execute_result",
          "data": {
            "text/plain": [
              "      Churn gender  SeniorCitizen  Partner  Dependents  tenure  PhoneService  \\\n",
              "7208      0   male              1        1           0      72             1   \n",
              "\n",
              "      MultipleLines InternetService  OnlineSecurity  ...  DeviceProtection  \\\n",
              "7208              1             dsl               1  ...                 1   \n",
              "\n",
              "      TechSupport  StreamingTV  StreamingMovies  Contract PaperlessBilling  \\\n",
              "7208            0            1                1  two year                1   \n",
              "\n",
              "      PaymentMethod Monthly    Total  CuentasDiarias  \n",
              "7208    credit card    84.1  5981.65             2.8  \n",
              "\n",
              "[1 rows x 21 columns]"
            ],
            "text/html": [
              "\n",
              "  <div id=\"df-42aabcb3-5608-48f9-83db-47c3ea7a529b\" class=\"colab-df-container\">\n",
              "    <div>\n",
              "<style scoped>\n",
              "    .dataframe tbody tr th:only-of-type {\n",
              "        vertical-align: middle;\n",
              "    }\n",
              "\n",
              "    .dataframe tbody tr th {\n",
              "        vertical-align: top;\n",
              "    }\n",
              "\n",
              "    .dataframe thead th {\n",
              "        text-align: right;\n",
              "    }\n",
              "</style>\n",
              "<table border=\"1\" class=\"dataframe\">\n",
              "  <thead>\n",
              "    <tr style=\"text-align: right;\">\n",
              "      <th></th>\n",
              "      <th>Churn</th>\n",
              "      <th>gender</th>\n",
              "      <th>SeniorCitizen</th>\n",
              "      <th>Partner</th>\n",
              "      <th>Dependents</th>\n",
              "      <th>tenure</th>\n",
              "      <th>PhoneService</th>\n",
              "      <th>MultipleLines</th>\n",
              "      <th>InternetService</th>\n",
              "      <th>OnlineSecurity</th>\n",
              "      <th>...</th>\n",
              "      <th>DeviceProtection</th>\n",
              "      <th>TechSupport</th>\n",
              "      <th>StreamingTV</th>\n",
              "      <th>StreamingMovies</th>\n",
              "      <th>Contract</th>\n",
              "      <th>PaperlessBilling</th>\n",
              "      <th>PaymentMethod</th>\n",
              "      <th>Monthly</th>\n",
              "      <th>Total</th>\n",
              "      <th>CuentasDiarias</th>\n",
              "    </tr>\n",
              "  </thead>\n",
              "  <tbody>\n",
              "    <tr>\n",
              "      <th>7208</th>\n",
              "      <td>0</td>\n",
              "      <td>male</td>\n",
              "      <td>1</td>\n",
              "      <td>1</td>\n",
              "      <td>0</td>\n",
              "      <td>72</td>\n",
              "      <td>1</td>\n",
              "      <td>1</td>\n",
              "      <td>dsl</td>\n",
              "      <td>1</td>\n",
              "      <td>...</td>\n",
              "      <td>1</td>\n",
              "      <td>0</td>\n",
              "      <td>1</td>\n",
              "      <td>1</td>\n",
              "      <td>two year</td>\n",
              "      <td>1</td>\n",
              "      <td>credit card</td>\n",
              "      <td>84.1</td>\n",
              "      <td>5981.65</td>\n",
              "      <td>2.8</td>\n",
              "    </tr>\n",
              "  </tbody>\n",
              "</table>\n",
              "<p>1 rows × 21 columns</p>\n",
              "</div>\n",
              "    <div class=\"colab-df-buttons\">\n",
              "\n",
              "  <div class=\"colab-df-container\">\n",
              "    <button class=\"colab-df-convert\" onclick=\"convertToInteractive('df-42aabcb3-5608-48f9-83db-47c3ea7a529b')\"\n",
              "            title=\"Convert this dataframe to an interactive table.\"\n",
              "            style=\"display:none;\">\n",
              "\n",
              "  <svg xmlns=\"http://www.w3.org/2000/svg\" height=\"24px\" viewBox=\"0 -960 960 960\">\n",
              "    <path d=\"M120-120v-720h720v720H120Zm60-500h600v-160H180v160Zm220 220h160v-160H400v160Zm0 220h160v-160H400v160ZM180-400h160v-160H180v160Zm440 0h160v-160H620v160ZM180-180h160v-160H180v160Zm440 0h160v-160H620v160Z\"/>\n",
              "  </svg>\n",
              "    </button>\n",
              "\n",
              "  <style>\n",
              "    .colab-df-container {\n",
              "      display:flex;\n",
              "      gap: 12px;\n",
              "    }\n",
              "\n",
              "    .colab-df-convert {\n",
              "      background-color: #E8F0FE;\n",
              "      border: none;\n",
              "      border-radius: 50%;\n",
              "      cursor: pointer;\n",
              "      display: none;\n",
              "      fill: #1967D2;\n",
              "      height: 32px;\n",
              "      padding: 0 0 0 0;\n",
              "      width: 32px;\n",
              "    }\n",
              "\n",
              "    .colab-df-convert:hover {\n",
              "      background-color: #E2EBFA;\n",
              "      box-shadow: 0px 1px 2px rgba(60, 64, 67, 0.3), 0px 1px 3px 1px rgba(60, 64, 67, 0.15);\n",
              "      fill: #174EA6;\n",
              "    }\n",
              "\n",
              "    .colab-df-buttons div {\n",
              "      margin-bottom: 4px;\n",
              "    }\n",
              "\n",
              "    [theme=dark] .colab-df-convert {\n",
              "      background-color: #3B4455;\n",
              "      fill: #D2E3FC;\n",
              "    }\n",
              "\n",
              "    [theme=dark] .colab-df-convert:hover {\n",
              "      background-color: #434B5C;\n",
              "      box-shadow: 0px 1px 3px 1px rgba(0, 0, 0, 0.15);\n",
              "      filter: drop-shadow(0px 1px 2px rgba(0, 0, 0, 0.3));\n",
              "      fill: #FFFFFF;\n",
              "    }\n",
              "  </style>\n",
              "\n",
              "    <script>\n",
              "      const buttonEl =\n",
              "        document.querySelector('#df-42aabcb3-5608-48f9-83db-47c3ea7a529b button.colab-df-convert');\n",
              "      buttonEl.style.display =\n",
              "        google.colab.kernel.accessAllowed ? 'block' : 'none';\n",
              "\n",
              "      async function convertToInteractive(key) {\n",
              "        const element = document.querySelector('#df-42aabcb3-5608-48f9-83db-47c3ea7a529b');\n",
              "        const dataTable =\n",
              "          await google.colab.kernel.invokeFunction('convertToInteractive',\n",
              "                                                    [key], {});\n",
              "        if (!dataTable) return;\n",
              "\n",
              "        const docLinkHtml = 'Like what you see? Visit the ' +\n",
              "          '<a target=\"_blank\" href=https://colab.research.google.com/notebooks/data_table.ipynb>data table notebook</a>'\n",
              "          + ' to learn more about interactive tables.';\n",
              "        element.innerHTML = '';\n",
              "        dataTable['output_type'] = 'display_data';\n",
              "        await google.colab.output.renderOutput(dataTable, element);\n",
              "        const docLink = document.createElement('div');\n",
              "        docLink.innerHTML = docLinkHtml;\n",
              "        element.appendChild(docLink);\n",
              "      }\n",
              "    </script>\n",
              "  </div>\n",
              "\n",
              "\n",
              "    </div>\n",
              "  </div>\n"
            ],
            "application/vnd.google.colaboratory.intrinsic+json": {
              "type": "dataframe"
            }
          },
          "metadata": {},
          "execution_count": 5
        }
      ]
    },
    {
      "cell_type": "markdown",
      "source": [
        "## **3 - Encoding**"
      ],
      "metadata": {
        "id": "USRy7in5J7nF"
      }
    },
    {
      "cell_type": "code",
      "source": [
        "datos.info()"
      ],
      "metadata": {
        "colab": {
          "base_uri": "https://localhost:8080/"
        },
        "id": "6UGMP7WNJ5mR",
        "outputId": "faa22cec-5d52-494a-87e3-3dd18750df42"
      },
      "execution_count": 6,
      "outputs": [
        {
          "output_type": "stream",
          "name": "stdout",
          "text": [
            "<class 'pandas.core.frame.DataFrame'>\n",
            "RangeIndex: 7267 entries, 0 to 7266\n",
            "Data columns (total 21 columns):\n",
            " #   Column            Non-Null Count  Dtype  \n",
            "---  ------            --------------  -----  \n",
            " 0   Churn             7267 non-null   int64  \n",
            " 1   gender            7267 non-null   object \n",
            " 2   SeniorCitizen     7267 non-null   int64  \n",
            " 3   Partner           7267 non-null   int64  \n",
            " 4   Dependents        7267 non-null   int64  \n",
            " 5   tenure            7267 non-null   int64  \n",
            " 6   PhoneService      7267 non-null   int64  \n",
            " 7   MultipleLines     7267 non-null   int64  \n",
            " 8   InternetService   7267 non-null   object \n",
            " 9   OnlineSecurity    7267 non-null   int64  \n",
            " 10  OnlineBackup      7267 non-null   int64  \n",
            " 11  DeviceProtection  7267 non-null   int64  \n",
            " 12  TechSupport       7267 non-null   int64  \n",
            " 13  StreamingTV       7267 non-null   int64  \n",
            " 14  StreamingMovies   7267 non-null   int64  \n",
            " 15  Contract          7267 non-null   object \n",
            " 16  PaperlessBilling  7267 non-null   int64  \n",
            " 17  PaymentMethod     7267 non-null   object \n",
            " 18  Monthly           7267 non-null   float64\n",
            " 19  Total             7267 non-null   float64\n",
            " 20  CuentasDiarias    7267 non-null   float64\n",
            "dtypes: float64(3), int64(14), object(4)\n",
            "memory usage: 1.2+ MB\n"
          ]
        }
      ]
    },
    {
      "cell_type": "code",
      "source": [
        "categoricas = datos.select_dtypes(include='object').columns\n",
        "categoricas"
      ],
      "metadata": {
        "colab": {
          "base_uri": "https://localhost:8080/"
        },
        "id": "yWdLVxw0KaLd",
        "outputId": "15ee026d-d49c-4654-bad5-11603ade1e9f"
      },
      "execution_count": 7,
      "outputs": [
        {
          "output_type": "execute_result",
          "data": {
            "text/plain": [
              "Index(['gender', 'InternetService', 'Contract', 'PaymentMethod'], dtype='object')"
            ]
          },
          "metadata": {},
          "execution_count": 7
        }
      ]
    },
    {
      "cell_type": "code",
      "source": [
        "datos_codificados = pd.get_dummies(data=datos, columns=categoricas, dtype=int)\n",
        "datos_codificados.head(2)"
      ],
      "metadata": {
        "colab": {
          "base_uri": "https://localhost:8080/",
          "height": 179
        },
        "id": "E7jFUY9QKuAr",
        "outputId": "637641ae-a357-4875-cae5-a15510fd8ea6"
      },
      "execution_count": 8,
      "outputs": [
        {
          "output_type": "execute_result",
          "data": {
            "text/plain": [
              "   Churn  SeniorCitizen  Partner  Dependents  tenure  PhoneService  \\\n",
              "0      0              0        1           1       9             1   \n",
              "1      0              0        0           0       9             1   \n",
              "\n",
              "   MultipleLines  OnlineSecurity  OnlineBackup  DeviceProtection  ...  \\\n",
              "0              0               0             1                 0  ...   \n",
              "1              1               0             0                 0  ...   \n",
              "\n",
              "   InternetService_dsl  InternetService_fiber optic  InternetService_no  \\\n",
              "0                    1                            0                   0   \n",
              "1                    1                            0                   0   \n",
              "\n",
              "   Contract_month-to-month  Contract_one year  Contract_two year  \\\n",
              "0                        0                  1                  0   \n",
              "1                        1                  0                  0   \n",
              "\n",
              "   PaymentMethod_bank transfer  PaymentMethod_credit card  \\\n",
              "0                            0                          0   \n",
              "1                            0                          0   \n",
              "\n",
              "   PaymentMethod_electronic check  PaymentMethod_mailed check  \n",
              "0                               0                           1  \n",
              "1                               0                           1  \n",
              "\n",
              "[2 rows x 29 columns]"
            ],
            "text/html": [
              "\n",
              "  <div id=\"df-6778b233-4036-4d68-adc8-1b1e63ebb973\" class=\"colab-df-container\">\n",
              "    <div>\n",
              "<style scoped>\n",
              "    .dataframe tbody tr th:only-of-type {\n",
              "        vertical-align: middle;\n",
              "    }\n",
              "\n",
              "    .dataframe tbody tr th {\n",
              "        vertical-align: top;\n",
              "    }\n",
              "\n",
              "    .dataframe thead th {\n",
              "        text-align: right;\n",
              "    }\n",
              "</style>\n",
              "<table border=\"1\" class=\"dataframe\">\n",
              "  <thead>\n",
              "    <tr style=\"text-align: right;\">\n",
              "      <th></th>\n",
              "      <th>Churn</th>\n",
              "      <th>SeniorCitizen</th>\n",
              "      <th>Partner</th>\n",
              "      <th>Dependents</th>\n",
              "      <th>tenure</th>\n",
              "      <th>PhoneService</th>\n",
              "      <th>MultipleLines</th>\n",
              "      <th>OnlineSecurity</th>\n",
              "      <th>OnlineBackup</th>\n",
              "      <th>DeviceProtection</th>\n",
              "      <th>...</th>\n",
              "      <th>InternetService_dsl</th>\n",
              "      <th>InternetService_fiber optic</th>\n",
              "      <th>InternetService_no</th>\n",
              "      <th>Contract_month-to-month</th>\n",
              "      <th>Contract_one year</th>\n",
              "      <th>Contract_two year</th>\n",
              "      <th>PaymentMethod_bank transfer</th>\n",
              "      <th>PaymentMethod_credit card</th>\n",
              "      <th>PaymentMethod_electronic check</th>\n",
              "      <th>PaymentMethod_mailed check</th>\n",
              "    </tr>\n",
              "  </thead>\n",
              "  <tbody>\n",
              "    <tr>\n",
              "      <th>0</th>\n",
              "      <td>0</td>\n",
              "      <td>0</td>\n",
              "      <td>1</td>\n",
              "      <td>1</td>\n",
              "      <td>9</td>\n",
              "      <td>1</td>\n",
              "      <td>0</td>\n",
              "      <td>0</td>\n",
              "      <td>1</td>\n",
              "      <td>0</td>\n",
              "      <td>...</td>\n",
              "      <td>1</td>\n",
              "      <td>0</td>\n",
              "      <td>0</td>\n",
              "      <td>0</td>\n",
              "      <td>1</td>\n",
              "      <td>0</td>\n",
              "      <td>0</td>\n",
              "      <td>0</td>\n",
              "      <td>0</td>\n",
              "      <td>1</td>\n",
              "    </tr>\n",
              "    <tr>\n",
              "      <th>1</th>\n",
              "      <td>0</td>\n",
              "      <td>0</td>\n",
              "      <td>0</td>\n",
              "      <td>0</td>\n",
              "      <td>9</td>\n",
              "      <td>1</td>\n",
              "      <td>1</td>\n",
              "      <td>0</td>\n",
              "      <td>0</td>\n",
              "      <td>0</td>\n",
              "      <td>...</td>\n",
              "      <td>1</td>\n",
              "      <td>0</td>\n",
              "      <td>0</td>\n",
              "      <td>1</td>\n",
              "      <td>0</td>\n",
              "      <td>0</td>\n",
              "      <td>0</td>\n",
              "      <td>0</td>\n",
              "      <td>0</td>\n",
              "      <td>1</td>\n",
              "    </tr>\n",
              "  </tbody>\n",
              "</table>\n",
              "<p>2 rows × 29 columns</p>\n",
              "</div>\n",
              "    <div class=\"colab-df-buttons\">\n",
              "\n",
              "  <div class=\"colab-df-container\">\n",
              "    <button class=\"colab-df-convert\" onclick=\"convertToInteractive('df-6778b233-4036-4d68-adc8-1b1e63ebb973')\"\n",
              "            title=\"Convert this dataframe to an interactive table.\"\n",
              "            style=\"display:none;\">\n",
              "\n",
              "  <svg xmlns=\"http://www.w3.org/2000/svg\" height=\"24px\" viewBox=\"0 -960 960 960\">\n",
              "    <path d=\"M120-120v-720h720v720H120Zm60-500h600v-160H180v160Zm220 220h160v-160H400v160Zm0 220h160v-160H400v160ZM180-400h160v-160H180v160Zm440 0h160v-160H620v160ZM180-180h160v-160H180v160Zm440 0h160v-160H620v160Z\"/>\n",
              "  </svg>\n",
              "    </button>\n",
              "\n",
              "  <style>\n",
              "    .colab-df-container {\n",
              "      display:flex;\n",
              "      gap: 12px;\n",
              "    }\n",
              "\n",
              "    .colab-df-convert {\n",
              "      background-color: #E8F0FE;\n",
              "      border: none;\n",
              "      border-radius: 50%;\n",
              "      cursor: pointer;\n",
              "      display: none;\n",
              "      fill: #1967D2;\n",
              "      height: 32px;\n",
              "      padding: 0 0 0 0;\n",
              "      width: 32px;\n",
              "    }\n",
              "\n",
              "    .colab-df-convert:hover {\n",
              "      background-color: #E2EBFA;\n",
              "      box-shadow: 0px 1px 2px rgba(60, 64, 67, 0.3), 0px 1px 3px 1px rgba(60, 64, 67, 0.15);\n",
              "      fill: #174EA6;\n",
              "    }\n",
              "\n",
              "    .colab-df-buttons div {\n",
              "      margin-bottom: 4px;\n",
              "    }\n",
              "\n",
              "    [theme=dark] .colab-df-convert {\n",
              "      background-color: #3B4455;\n",
              "      fill: #D2E3FC;\n",
              "    }\n",
              "\n",
              "    [theme=dark] .colab-df-convert:hover {\n",
              "      background-color: #434B5C;\n",
              "      box-shadow: 0px 1px 3px 1px rgba(0, 0, 0, 0.15);\n",
              "      filter: drop-shadow(0px 1px 2px rgba(0, 0, 0, 0.3));\n",
              "      fill: #FFFFFF;\n",
              "    }\n",
              "  </style>\n",
              "\n",
              "    <script>\n",
              "      const buttonEl =\n",
              "        document.querySelector('#df-6778b233-4036-4d68-adc8-1b1e63ebb973 button.colab-df-convert');\n",
              "      buttonEl.style.display =\n",
              "        google.colab.kernel.accessAllowed ? 'block' : 'none';\n",
              "\n",
              "      async function convertToInteractive(key) {\n",
              "        const element = document.querySelector('#df-6778b233-4036-4d68-adc8-1b1e63ebb973');\n",
              "        const dataTable =\n",
              "          await google.colab.kernel.invokeFunction('convertToInteractive',\n",
              "                                                    [key], {});\n",
              "        if (!dataTable) return;\n",
              "\n",
              "        const docLinkHtml = 'Like what you see? Visit the ' +\n",
              "          '<a target=\"_blank\" href=https://colab.research.google.com/notebooks/data_table.ipynb>data table notebook</a>'\n",
              "          + ' to learn more about interactive tables.';\n",
              "        element.innerHTML = '';\n",
              "        dataTable['output_type'] = 'display_data';\n",
              "        await google.colab.output.renderOutput(dataTable, element);\n",
              "        const docLink = document.createElement('div');\n",
              "        docLink.innerHTML = docLinkHtml;\n",
              "        element.appendChild(docLink);\n",
              "      }\n",
              "    </script>\n",
              "  </div>\n",
              "\n",
              "\n",
              "    <div id=\"df-1b70f2af-a528-436e-80b2-8102491b03b9\">\n",
              "      <button class=\"colab-df-quickchart\" onclick=\"quickchart('df-1b70f2af-a528-436e-80b2-8102491b03b9')\"\n",
              "                title=\"Suggest charts\"\n",
              "                style=\"display:none;\">\n",
              "\n",
              "<svg xmlns=\"http://www.w3.org/2000/svg\" height=\"24px\"viewBox=\"0 0 24 24\"\n",
              "     width=\"24px\">\n",
              "    <g>\n",
              "        <path d=\"M19 3H5c-1.1 0-2 .9-2 2v14c0 1.1.9 2 2 2h14c1.1 0 2-.9 2-2V5c0-1.1-.9-2-2-2zM9 17H7v-7h2v7zm4 0h-2V7h2v10zm4 0h-2v-4h2v4z\"/>\n",
              "    </g>\n",
              "</svg>\n",
              "      </button>\n",
              "\n",
              "<style>\n",
              "  .colab-df-quickchart {\n",
              "      --bg-color: #E8F0FE;\n",
              "      --fill-color: #1967D2;\n",
              "      --hover-bg-color: #E2EBFA;\n",
              "      --hover-fill-color: #174EA6;\n",
              "      --disabled-fill-color: #AAA;\n",
              "      --disabled-bg-color: #DDD;\n",
              "  }\n",
              "\n",
              "  [theme=dark] .colab-df-quickchart {\n",
              "      --bg-color: #3B4455;\n",
              "      --fill-color: #D2E3FC;\n",
              "      --hover-bg-color: #434B5C;\n",
              "      --hover-fill-color: #FFFFFF;\n",
              "      --disabled-bg-color: #3B4455;\n",
              "      --disabled-fill-color: #666;\n",
              "  }\n",
              "\n",
              "  .colab-df-quickchart {\n",
              "    background-color: var(--bg-color);\n",
              "    border: none;\n",
              "    border-radius: 50%;\n",
              "    cursor: pointer;\n",
              "    display: none;\n",
              "    fill: var(--fill-color);\n",
              "    height: 32px;\n",
              "    padding: 0;\n",
              "    width: 32px;\n",
              "  }\n",
              "\n",
              "  .colab-df-quickchart:hover {\n",
              "    background-color: var(--hover-bg-color);\n",
              "    box-shadow: 0 1px 2px rgba(60, 64, 67, 0.3), 0 1px 3px 1px rgba(60, 64, 67, 0.15);\n",
              "    fill: var(--button-hover-fill-color);\n",
              "  }\n",
              "\n",
              "  .colab-df-quickchart-complete:disabled,\n",
              "  .colab-df-quickchart-complete:disabled:hover {\n",
              "    background-color: var(--disabled-bg-color);\n",
              "    fill: var(--disabled-fill-color);\n",
              "    box-shadow: none;\n",
              "  }\n",
              "\n",
              "  .colab-df-spinner {\n",
              "    border: 2px solid var(--fill-color);\n",
              "    border-color: transparent;\n",
              "    border-bottom-color: var(--fill-color);\n",
              "    animation:\n",
              "      spin 1s steps(1) infinite;\n",
              "  }\n",
              "\n",
              "  @keyframes spin {\n",
              "    0% {\n",
              "      border-color: transparent;\n",
              "      border-bottom-color: var(--fill-color);\n",
              "      border-left-color: var(--fill-color);\n",
              "    }\n",
              "    20% {\n",
              "      border-color: transparent;\n",
              "      border-left-color: var(--fill-color);\n",
              "      border-top-color: var(--fill-color);\n",
              "    }\n",
              "    30% {\n",
              "      border-color: transparent;\n",
              "      border-left-color: var(--fill-color);\n",
              "      border-top-color: var(--fill-color);\n",
              "      border-right-color: var(--fill-color);\n",
              "    }\n",
              "    40% {\n",
              "      border-color: transparent;\n",
              "      border-right-color: var(--fill-color);\n",
              "      border-top-color: var(--fill-color);\n",
              "    }\n",
              "    60% {\n",
              "      border-color: transparent;\n",
              "      border-right-color: var(--fill-color);\n",
              "    }\n",
              "    80% {\n",
              "      border-color: transparent;\n",
              "      border-right-color: var(--fill-color);\n",
              "      border-bottom-color: var(--fill-color);\n",
              "    }\n",
              "    90% {\n",
              "      border-color: transparent;\n",
              "      border-bottom-color: var(--fill-color);\n",
              "    }\n",
              "  }\n",
              "</style>\n",
              "\n",
              "      <script>\n",
              "        async function quickchart(key) {\n",
              "          const quickchartButtonEl =\n",
              "            document.querySelector('#' + key + ' button');\n",
              "          quickchartButtonEl.disabled = true;  // To prevent multiple clicks.\n",
              "          quickchartButtonEl.classList.add('colab-df-spinner');\n",
              "          try {\n",
              "            const charts = await google.colab.kernel.invokeFunction(\n",
              "                'suggestCharts', [key], {});\n",
              "          } catch (error) {\n",
              "            console.error('Error during call to suggestCharts:', error);\n",
              "          }\n",
              "          quickchartButtonEl.classList.remove('colab-df-spinner');\n",
              "          quickchartButtonEl.classList.add('colab-df-quickchart-complete');\n",
              "        }\n",
              "        (() => {\n",
              "          let quickchartButtonEl =\n",
              "            document.querySelector('#df-1b70f2af-a528-436e-80b2-8102491b03b9 button');\n",
              "          quickchartButtonEl.style.display =\n",
              "            google.colab.kernel.accessAllowed ? 'block' : 'none';\n",
              "        })();\n",
              "      </script>\n",
              "    </div>\n",
              "\n",
              "    </div>\n",
              "  </div>\n"
            ],
            "application/vnd.google.colaboratory.intrinsic+json": {
              "type": "dataframe",
              "variable_name": "datos_codificados"
            }
          },
          "metadata": {},
          "execution_count": 8
        }
      ]
    },
    {
      "cell_type": "code",
      "source": [
        "datos_codificados.info()"
      ],
      "metadata": {
        "colab": {
          "base_uri": "https://localhost:8080/"
        },
        "id": "lOZuI8C2LSsU",
        "outputId": "0feb22a5-7e4b-4131-ea88-6767e50d625f"
      },
      "execution_count": 9,
      "outputs": [
        {
          "output_type": "stream",
          "name": "stdout",
          "text": [
            "<class 'pandas.core.frame.DataFrame'>\n",
            "RangeIndex: 7267 entries, 0 to 7266\n",
            "Data columns (total 29 columns):\n",
            " #   Column                          Non-Null Count  Dtype  \n",
            "---  ------                          --------------  -----  \n",
            " 0   Churn                           7267 non-null   int64  \n",
            " 1   SeniorCitizen                   7267 non-null   int64  \n",
            " 2   Partner                         7267 non-null   int64  \n",
            " 3   Dependents                      7267 non-null   int64  \n",
            " 4   tenure                          7267 non-null   int64  \n",
            " 5   PhoneService                    7267 non-null   int64  \n",
            " 6   MultipleLines                   7267 non-null   int64  \n",
            " 7   OnlineSecurity                  7267 non-null   int64  \n",
            " 8   OnlineBackup                    7267 non-null   int64  \n",
            " 9   DeviceProtection                7267 non-null   int64  \n",
            " 10  TechSupport                     7267 non-null   int64  \n",
            " 11  StreamingTV                     7267 non-null   int64  \n",
            " 12  StreamingMovies                 7267 non-null   int64  \n",
            " 13  PaperlessBilling                7267 non-null   int64  \n",
            " 14  Monthly                         7267 non-null   float64\n",
            " 15  Total                           7267 non-null   float64\n",
            " 16  CuentasDiarias                  7267 non-null   float64\n",
            " 17  gender_female                   7267 non-null   int64  \n",
            " 18  gender_male                     7267 non-null   int64  \n",
            " 19  InternetService_dsl             7267 non-null   int64  \n",
            " 20  InternetService_fiber optic     7267 non-null   int64  \n",
            " 21  InternetService_no              7267 non-null   int64  \n",
            " 22  Contract_month-to-month         7267 non-null   int64  \n",
            " 23  Contract_one year               7267 non-null   int64  \n",
            " 24  Contract_two year               7267 non-null   int64  \n",
            " 25  PaymentMethod_bank transfer     7267 non-null   int64  \n",
            " 26  PaymentMethod_credit card       7267 non-null   int64  \n",
            " 27  PaymentMethod_electronic check  7267 non-null   int64  \n",
            " 28  PaymentMethod_mailed check      7267 non-null   int64  \n",
            "dtypes: float64(3), int64(26)\n",
            "memory usage: 1.6 MB\n"
          ]
        }
      ]
    },
    {
      "cell_type": "markdown",
      "source": [
        "## **4 - Verificación de la Proporción de Cancelación (Churn)**"
      ],
      "metadata": {
        "id": "VcDL18oxLoRf"
      }
    },
    {
      "cell_type": "code",
      "source": [
        "datos_codificados['Churn'].value_counts()"
      ],
      "metadata": {
        "colab": {
          "base_uri": "https://localhost:8080/",
          "height": 178
        },
        "id": "PuIIqhv4O-XG",
        "outputId": "41c62f70-749d-459a-bfda-8ad6d629482a"
      },
      "execution_count": 10,
      "outputs": [
        {
          "output_type": "execute_result",
          "data": {
            "text/plain": [
              "Churn\n",
              "0    5398\n",
              "1    1869\n",
              "Name: count, dtype: int64"
            ],
            "text/html": [
              "<div>\n",
              "<style scoped>\n",
              "    .dataframe tbody tr th:only-of-type {\n",
              "        vertical-align: middle;\n",
              "    }\n",
              "\n",
              "    .dataframe tbody tr th {\n",
              "        vertical-align: top;\n",
              "    }\n",
              "\n",
              "    .dataframe thead th {\n",
              "        text-align: right;\n",
              "    }\n",
              "</style>\n",
              "<table border=\"1\" class=\"dataframe\">\n",
              "  <thead>\n",
              "    <tr style=\"text-align: right;\">\n",
              "      <th></th>\n",
              "      <th>count</th>\n",
              "    </tr>\n",
              "    <tr>\n",
              "      <th>Churn</th>\n",
              "      <th></th>\n",
              "    </tr>\n",
              "  </thead>\n",
              "  <tbody>\n",
              "    <tr>\n",
              "      <th>0</th>\n",
              "      <td>5398</td>\n",
              "    </tr>\n",
              "    <tr>\n",
              "      <th>1</th>\n",
              "      <td>1869</td>\n",
              "    </tr>\n",
              "  </tbody>\n",
              "</table>\n",
              "</div><br><label><b>dtype:</b> int64</label>"
            ]
          },
          "metadata": {},
          "execution_count": 10
        }
      ]
    },
    {
      "cell_type": "code",
      "source": [
        "round(datos_codificados['Churn'].value_counts(normalize=True) * 100, 2)"
      ],
      "metadata": {
        "colab": {
          "base_uri": "https://localhost:8080/",
          "height": 178
        },
        "id": "d6NnkasZOM90",
        "outputId": "361fb099-00f1-4db7-d7c3-70d918487082"
      },
      "execution_count": 11,
      "outputs": [
        {
          "output_type": "execute_result",
          "data": {
            "text/plain": [
              "Churn\n",
              "0    74.28\n",
              "1    25.72\n",
              "Name: proportion, dtype: float64"
            ],
            "text/html": [
              "<div>\n",
              "<style scoped>\n",
              "    .dataframe tbody tr th:only-of-type {\n",
              "        vertical-align: middle;\n",
              "    }\n",
              "\n",
              "    .dataframe tbody tr th {\n",
              "        vertical-align: top;\n",
              "    }\n",
              "\n",
              "    .dataframe thead th {\n",
              "        text-align: right;\n",
              "    }\n",
              "</style>\n",
              "<table border=\"1\" class=\"dataframe\">\n",
              "  <thead>\n",
              "    <tr style=\"text-align: right;\">\n",
              "      <th></th>\n",
              "      <th>proportion</th>\n",
              "    </tr>\n",
              "    <tr>\n",
              "      <th>Churn</th>\n",
              "      <th></th>\n",
              "    </tr>\n",
              "  </thead>\n",
              "  <tbody>\n",
              "    <tr>\n",
              "      <th>0</th>\n",
              "      <td>74.28</td>\n",
              "    </tr>\n",
              "    <tr>\n",
              "      <th>1</th>\n",
              "      <td>25.72</td>\n",
              "    </tr>\n",
              "  </tbody>\n",
              "</table>\n",
              "</div><br><label><b>dtype:</b> float64</label>"
            ]
          },
          "metadata": {},
          "execution_count": 11
        }
      ]
    },
    {
      "cell_type": "markdown",
      "source": [
        "## **5 - Balanceo de Clases**"
      ],
      "metadata": {
        "id": "zrVBilmzSl0w"
      }
    },
    {
      "cell_type": "markdown",
      "source": [
        "### **Oversampling - SMOTE**"
      ],
      "metadata": {
        "id": "mTl7UFNbUX-h"
      }
    },
    {
      "cell_type": "code",
      "source": [
        "from imblearn.over_sampling import SMOTE"
      ],
      "metadata": {
        "id": "n1fNKlgpSlQx"
      },
      "execution_count": 12,
      "outputs": []
    },
    {
      "cell_type": "code",
      "source": [
        "smt = SMOTE()"
      ],
      "metadata": {
        "id": "w1iPO0s4Sulb"
      },
      "execution_count": 13,
      "outputs": []
    },
    {
      "cell_type": "code",
      "source": [
        "X = datos_codificados.drop(columns='Churn')\n",
        "y = datos_codificados['Churn']"
      ],
      "metadata": {
        "id": "KhNOMIP1TFLS"
      },
      "execution_count": 14,
      "outputs": []
    },
    {
      "cell_type": "code",
      "source": [
        "X_oversampling, y_oversampling = smt.fit_resample(X, y)"
      ],
      "metadata": {
        "id": "5Uk-MdHwSx1c"
      },
      "execution_count": 15,
      "outputs": []
    },
    {
      "cell_type": "code",
      "source": [
        "y_oversampling.value_counts()"
      ],
      "metadata": {
        "colab": {
          "base_uri": "https://localhost:8080/",
          "height": 178
        },
        "id": "SX9TR9qnTfOj",
        "outputId": "9ca8c7ec-e659-40de-d54b-0600207129e0"
      },
      "execution_count": 16,
      "outputs": [
        {
          "output_type": "execute_result",
          "data": {
            "text/plain": [
              "Churn\n",
              "0    5398\n",
              "1    5398\n",
              "Name: count, dtype: int64"
            ],
            "text/html": [
              "<div>\n",
              "<style scoped>\n",
              "    .dataframe tbody tr th:only-of-type {\n",
              "        vertical-align: middle;\n",
              "    }\n",
              "\n",
              "    .dataframe tbody tr th {\n",
              "        vertical-align: top;\n",
              "    }\n",
              "\n",
              "    .dataframe thead th {\n",
              "        text-align: right;\n",
              "    }\n",
              "</style>\n",
              "<table border=\"1\" class=\"dataframe\">\n",
              "  <thead>\n",
              "    <tr style=\"text-align: right;\">\n",
              "      <th></th>\n",
              "      <th>count</th>\n",
              "    </tr>\n",
              "    <tr>\n",
              "      <th>Churn</th>\n",
              "      <th></th>\n",
              "    </tr>\n",
              "  </thead>\n",
              "  <tbody>\n",
              "    <tr>\n",
              "      <th>0</th>\n",
              "      <td>5398</td>\n",
              "    </tr>\n",
              "    <tr>\n",
              "      <th>1</th>\n",
              "      <td>5398</td>\n",
              "    </tr>\n",
              "  </tbody>\n",
              "</table>\n",
              "</div><br><label><b>dtype:</b> int64</label>"
            ]
          },
          "metadata": {},
          "execution_count": 16
        }
      ]
    },
    {
      "cell_type": "markdown",
      "source": [
        "### **Undersampling - NearMiss(Version 3)**"
      ],
      "metadata": {
        "id": "npfqEoHnUcOU"
      }
    },
    {
      "cell_type": "code",
      "source": [
        "from imblearn.under_sampling import NearMiss"
      ],
      "metadata": {
        "id": "Tb99WE-WToHx"
      },
      "execution_count": 17,
      "outputs": []
    },
    {
      "cell_type": "code",
      "source": [
        "nm = NearMiss(version=3)"
      ],
      "metadata": {
        "id": "hs3hBTkqTtEc"
      },
      "execution_count": 18,
      "outputs": []
    },
    {
      "cell_type": "code",
      "source": [
        "X_undersampling, y_undersampling = nm.fit_resample(X, y)"
      ],
      "metadata": {
        "id": "f4fHxaLtUFBB"
      },
      "execution_count": 19,
      "outputs": []
    },
    {
      "cell_type": "code",
      "source": [
        "y_undersampling.value_counts()"
      ],
      "metadata": {
        "colab": {
          "base_uri": "https://localhost:8080/",
          "height": 178
        },
        "id": "_gn1ICuFUS6q",
        "outputId": "b6389848-c131-405d-9bd5-fd111115df21"
      },
      "execution_count": 20,
      "outputs": [
        {
          "output_type": "execute_result",
          "data": {
            "text/plain": [
              "Churn\n",
              "0    1869\n",
              "1    1869\n",
              "Name: count, dtype: int64"
            ],
            "text/html": [
              "<div>\n",
              "<style scoped>\n",
              "    .dataframe tbody tr th:only-of-type {\n",
              "        vertical-align: middle;\n",
              "    }\n",
              "\n",
              "    .dataframe tbody tr th {\n",
              "        vertical-align: top;\n",
              "    }\n",
              "\n",
              "    .dataframe thead th {\n",
              "        text-align: right;\n",
              "    }\n",
              "</style>\n",
              "<table border=\"1\" class=\"dataframe\">\n",
              "  <thead>\n",
              "    <tr style=\"text-align: right;\">\n",
              "      <th></th>\n",
              "      <th>count</th>\n",
              "    </tr>\n",
              "    <tr>\n",
              "      <th>Churn</th>\n",
              "      <th></th>\n",
              "    </tr>\n",
              "  </thead>\n",
              "  <tbody>\n",
              "    <tr>\n",
              "      <th>0</th>\n",
              "      <td>1869</td>\n",
              "    </tr>\n",
              "    <tr>\n",
              "      <th>1</th>\n",
              "      <td>1869</td>\n",
              "    </tr>\n",
              "  </tbody>\n",
              "</table>\n",
              "</div><br><label><b>dtype:</b> int64</label>"
            ]
          },
          "metadata": {},
          "execution_count": 20
        }
      ]
    },
    {
      "cell_type": "markdown",
      "source": [
        "## **6 - Normalización o Estandarización**"
      ],
      "metadata": {
        "id": "8iHL4fagXZTz"
      }
    },
    {
      "cell_type": "code",
      "source": [
        "from sklearn.preprocessing import MinMaxScaler"
      ],
      "metadata": {
        "id": "P0qNsMuwXeFh"
      },
      "execution_count": 21,
      "outputs": []
    },
    {
      "cell_type": "code",
      "source": [
        "normalizacion = MinMaxScaler()"
      ],
      "metadata": {
        "id": "S5Cup_TaX2zE"
      },
      "execution_count": 22,
      "outputs": []
    },
    {
      "cell_type": "code",
      "source": [
        "X_oversampling_norm = normalizacion.fit_transform(X_oversampling)"
      ],
      "metadata": {
        "id": "KRRrGXVVXhpx"
      },
      "execution_count": 23,
      "outputs": []
    },
    {
      "cell_type": "code",
      "source": [
        "X_undersampling_norm = normalizacion.fit_transform(X_undersampling)"
      ],
      "metadata": {
        "id": "V21N9cxxX-kP"
      },
      "execution_count": 24,
      "outputs": []
    },
    {
      "cell_type": "markdown",
      "source": [
        "# **Correlación y Selección de Variables**"
      ],
      "metadata": {
        "id": "f-h94OJRYaEO"
      }
    },
    {
      "cell_type": "markdown",
      "source": [
        "## **1 - Análisis de Correlación**"
      ],
      "metadata": {
        "id": "GNkML03UYsKQ"
      }
    },
    {
      "cell_type": "code",
      "source": [
        "corr = datos_codificados.corr()"
      ],
      "metadata": {
        "id": "E4zEP2yeYhWn"
      },
      "execution_count": 25,
      "outputs": []
    },
    {
      "cell_type": "code",
      "source": [
        "corr['Churn']"
      ],
      "metadata": {
        "colab": {
          "base_uri": "https://localhost:8080/",
          "height": 993
        },
        "id": "FnpRY8Zqa6qe",
        "outputId": "2e306c5c-d4b6-43db-b742-73fe09f40df5"
      },
      "execution_count": 26,
      "outputs": [
        {
          "output_type": "execute_result",
          "data": {
            "text/plain": [
              "Churn                             1.000000\n",
              "SeniorCitizen                     0.146733\n",
              "Partner                          -0.148546\n",
              "Dependents                       -0.161384\n",
              "tenure                           -0.344079\n",
              "PhoneService                      0.012571\n",
              "MultipleLines                     0.039343\n",
              "OnlineSecurity                   -0.166828\n",
              "OnlineBackup                     -0.080163\n",
              "DeviceProtection                 -0.063452\n",
              "TechSupport                      -0.160440\n",
              "StreamingTV                       0.062430\n",
              "StreamingMovies                   0.060586\n",
              "PaperlessBilling                  0.186666\n",
              "Monthly                           0.189866\n",
              "Total                            -0.193345\n",
              "CuentasDiarias                    0.189918\n",
              "gender_female                     0.009555\n",
              "gender_male                      -0.009555\n",
              "InternetService_dsl              -0.120020\n",
              "InternetService_fiber optic       0.300949\n",
              "InternetService_no               -0.224051\n",
              "Contract_month-to-month           0.395584\n",
              "Contract_one year                -0.173958\n",
              "Contract_two year                -0.295138\n",
              "PaymentMethod_bank transfer      -0.114767\n",
              "PaymentMethod_credit card        -0.131085\n",
              "PaymentMethod_electronic check    0.294626\n",
              "PaymentMethod_mailed check       -0.090061\n",
              "Name: Churn, dtype: float64"
            ],
            "text/html": [
              "<div>\n",
              "<style scoped>\n",
              "    .dataframe tbody tr th:only-of-type {\n",
              "        vertical-align: middle;\n",
              "    }\n",
              "\n",
              "    .dataframe tbody tr th {\n",
              "        vertical-align: top;\n",
              "    }\n",
              "\n",
              "    .dataframe thead th {\n",
              "        text-align: right;\n",
              "    }\n",
              "</style>\n",
              "<table border=\"1\" class=\"dataframe\">\n",
              "  <thead>\n",
              "    <tr style=\"text-align: right;\">\n",
              "      <th></th>\n",
              "      <th>Churn</th>\n",
              "    </tr>\n",
              "  </thead>\n",
              "  <tbody>\n",
              "    <tr>\n",
              "      <th>Churn</th>\n",
              "      <td>1.000000</td>\n",
              "    </tr>\n",
              "    <tr>\n",
              "      <th>SeniorCitizen</th>\n",
              "      <td>0.146733</td>\n",
              "    </tr>\n",
              "    <tr>\n",
              "      <th>Partner</th>\n",
              "      <td>-0.148546</td>\n",
              "    </tr>\n",
              "    <tr>\n",
              "      <th>Dependents</th>\n",
              "      <td>-0.161384</td>\n",
              "    </tr>\n",
              "    <tr>\n",
              "      <th>tenure</th>\n",
              "      <td>-0.344079</td>\n",
              "    </tr>\n",
              "    <tr>\n",
              "      <th>PhoneService</th>\n",
              "      <td>0.012571</td>\n",
              "    </tr>\n",
              "    <tr>\n",
              "      <th>MultipleLines</th>\n",
              "      <td>0.039343</td>\n",
              "    </tr>\n",
              "    <tr>\n",
              "      <th>OnlineSecurity</th>\n",
              "      <td>-0.166828</td>\n",
              "    </tr>\n",
              "    <tr>\n",
              "      <th>OnlineBackup</th>\n",
              "      <td>-0.080163</td>\n",
              "    </tr>\n",
              "    <tr>\n",
              "      <th>DeviceProtection</th>\n",
              "      <td>-0.063452</td>\n",
              "    </tr>\n",
              "    <tr>\n",
              "      <th>TechSupport</th>\n",
              "      <td>-0.160440</td>\n",
              "    </tr>\n",
              "    <tr>\n",
              "      <th>StreamingTV</th>\n",
              "      <td>0.062430</td>\n",
              "    </tr>\n",
              "    <tr>\n",
              "      <th>StreamingMovies</th>\n",
              "      <td>0.060586</td>\n",
              "    </tr>\n",
              "    <tr>\n",
              "      <th>PaperlessBilling</th>\n",
              "      <td>0.186666</td>\n",
              "    </tr>\n",
              "    <tr>\n",
              "      <th>Monthly</th>\n",
              "      <td>0.189866</td>\n",
              "    </tr>\n",
              "    <tr>\n",
              "      <th>Total</th>\n",
              "      <td>-0.193345</td>\n",
              "    </tr>\n",
              "    <tr>\n",
              "      <th>CuentasDiarias</th>\n",
              "      <td>0.189918</td>\n",
              "    </tr>\n",
              "    <tr>\n",
              "      <th>gender_female</th>\n",
              "      <td>0.009555</td>\n",
              "    </tr>\n",
              "    <tr>\n",
              "      <th>gender_male</th>\n",
              "      <td>-0.009555</td>\n",
              "    </tr>\n",
              "    <tr>\n",
              "      <th>InternetService_dsl</th>\n",
              "      <td>-0.120020</td>\n",
              "    </tr>\n",
              "    <tr>\n",
              "      <th>InternetService_fiber optic</th>\n",
              "      <td>0.300949</td>\n",
              "    </tr>\n",
              "    <tr>\n",
              "      <th>InternetService_no</th>\n",
              "      <td>-0.224051</td>\n",
              "    </tr>\n",
              "    <tr>\n",
              "      <th>Contract_month-to-month</th>\n",
              "      <td>0.395584</td>\n",
              "    </tr>\n",
              "    <tr>\n",
              "      <th>Contract_one year</th>\n",
              "      <td>-0.173958</td>\n",
              "    </tr>\n",
              "    <tr>\n",
              "      <th>Contract_two year</th>\n",
              "      <td>-0.295138</td>\n",
              "    </tr>\n",
              "    <tr>\n",
              "      <th>PaymentMethod_bank transfer</th>\n",
              "      <td>-0.114767</td>\n",
              "    </tr>\n",
              "    <tr>\n",
              "      <th>PaymentMethod_credit card</th>\n",
              "      <td>-0.131085</td>\n",
              "    </tr>\n",
              "    <tr>\n",
              "      <th>PaymentMethod_electronic check</th>\n",
              "      <td>0.294626</td>\n",
              "    </tr>\n",
              "    <tr>\n",
              "      <th>PaymentMethod_mailed check</th>\n",
              "      <td>-0.090061</td>\n",
              "    </tr>\n",
              "  </tbody>\n",
              "</table>\n",
              "</div><br><label><b>dtype:</b> float64</label>"
            ]
          },
          "metadata": {},
          "execution_count": 26
        }
      ]
    },
    {
      "cell_type": "markdown",
      "source": [
        "## **2 - Análisis Dirigido**"
      ],
      "metadata": {
        "id": "BmNRWURBbXCP"
      }
    },
    {
      "cell_type": "code",
      "source": [
        "import matplotlib.pyplot as plt\n",
        "import seaborn as sns\n",
        "import plotly.express as px\n",
        "import warnings\n",
        "warnings.filterwarnings('ignore')"
      ],
      "metadata": {
        "id": "kr_S2Y_JeOzd"
      },
      "execution_count": 27,
      "outputs": []
    },
    {
      "cell_type": "markdown",
      "source": [
        "### **Proporcion de cancelación por tipo de contrato**"
      ],
      "metadata": {
        "id": "Mr-Dzg2dpHfs"
      }
    },
    {
      "cell_type": "code",
      "source": [
        "fig, ax = plt.subplots(figsize=(10, 4))\n",
        "\n",
        "order = datos.groupby('Contract')['Churn'].mean().sort_values().index\n",
        "\n",
        "ax = sns.barplot(data=datos, x='Contract', y='Churn', palette='pastel', order=order)\n",
        "ax.set_title('Proporción de Cancelación por Tipo de Contrato', fontsize=16)\n",
        "ax.set_xlabel('Tipo de Contrato', fontsize=14)\n",
        "ax.set_ylabel('Proporción de Cancelación', fontsize=14)\n",
        "ax.set_ylim(0,1)\n",
        "\n",
        "for p in ax.patches:\n",
        "    ax.annotate(format(p.get_height(), '.2f'),\n",
        "                     (p.get_x() + p.get_width() / 2., p.get_height()),\n",
        "                     ha = 'center', va = 'center',\n",
        "                     xytext = (0, 9),\n",
        "                     textcoords = 'offset points')\n",
        "\n",
        "plt.show()"
      ],
      "metadata": {
        "colab": {
          "base_uri": "https://localhost:8080/",
          "height": 419
        },
        "id": "l6wLmEV2fq5M",
        "outputId": "59fbafc8-5326-4318-a9d0-e6262a805efb"
      },
      "execution_count": 28,
      "outputs": [
        {
          "output_type": "display_data",
          "data": {
            "text/plain": [
              "<Figure size 1000x400 with 1 Axes>"
            ],
            "image/png": "[encoded data removed]"
          },
          "metadata": {}
        }
      ]
    },
    {
      "cell_type": "markdown",
      "source": [
        "### **Distribución de cancelación por el gasto total**"
      ],
      "metadata": {
        "id": "all2EUr6pQxp"
      }
    },
    {
      "cell_type": "code",
      "source": [
        "fig = px.box(datos, x='Total', y='Churn', color='Churn', title='Distribución de cancelación por el gasto total', orientation='h')\n",
        "fig.update_layout(yaxis=dict(\n",
        "        tickmode='array',\n",
        "        tickvals=[0, 1],\n",
        "        ticktext=['No calcelaron (Churn = 0)', 'Canceló (Churn = 1)']\n",
        "    ))"
      ],
      "metadata": {
        "colab": {
          "base_uri": "https://localhost:8080/",
          "height": 542
        },
        "id": "IvnxP2PHr6ml",
        "outputId": "8ef8f6f1-d08e-47f5-d6dd-9a153e08ce52"
      },
      "execution_count": 29,
      "outputs": [
        {
          "output_type": "display_data",
          "data": {
            "text/html": [
              "<html>\n",
              "<head><meta charset=\"utf-8\" /></head>\n",
              "<body>\n",
              "    <div>            <script src=\"https://cdnjs.cloudflare.com/ajax/libs/mathjax/2.7.5/MathJax.js?config=TeX-AMS-MML_SVG\"></script><script type=\"text/javascript\">if (window.MathJax && window.MathJax.Hub && window.MathJax.Hub.Config) {window.MathJax.Hub.Config({SVG: {font: \"STIX-Web\"}});}</script>                <script type=\"text/javascript\">window.PlotlyConfig = {MathJaxConfig: 'local'};</script>\n",
              "        <script charset=\"utf-8\" src=\"https://cdn.plot.ly/plotly-2.35.2.min.js\"></script>                <div id=\"09573e49-2794-48c0-b8ba-bd10efeb964f\" class=\"plotly-graph-div\" style=\"height:525px; width:100%;\"></div>            <script type=\"text/javascript\">                                    window.PLOTLYENV=window.PLOTLYENV || {};                                    if (document.getElementById(\"09573e49-2794-48c0-b8ba-bd10efeb964f\")) {                    Plotly.newPlot(                        \"09573e49-2794-48c0-b8ba-bd10efeb964f\",                        [{\"alignmentgroup\":\"True\",\"hovertemplate\":\"Churn=%{y}\\u003cbr\\u003eTotal=%{x}\\u003cextra\\u003e\\u003c\\u002fextra\\u003e\",\"legendgroup\":\"0\",\"marker\":{\"color\":\"#636efa\"},\"name\":\"0\",\"notched\":false,\"offsetgroup\":\"0\",\"orientation\":\"h\",\"showlegend\":true,\"x\":[593.3,542.4,571.45,7904.25,5377.8,340.35,5957.9,2460.55,8456.75,351.5,7261.25,2560.1,6849.4,1993.2,72.1,1306.3,1849.95,57.2,5656.75,1090.6,471.85,1396.9,929.3,3247.55,900.9,7942.15,1343.4,825.4,1070.15,4959.6,5597.65,224.5,1929.0,2078.95,630.6,1611.0,1242.45,6316.2,727.85,3532.0,44.3,2607.6,5567.55,3767.4,3673.6,314.55,1888.45,529.8,7308.95,6252.7,2878.55,1212.1,8182.85,2861.45,1442.2,4145.9,3645.5,187.75,2193.65,1355.1,1748.9,5526.75,1147.0,6747.35,865.05,5976.9,3268.05,7634.25,190.5,2401.05,511.25,3949.15,1696.2,287.85,8496.7,470.2,1564.4,1847.55,3694.7,58.0,4017.45,6825.65,8309.55,605.45,1972.35,33.7,844.45,2111.3,633.85,5848.6,6471.85,864.2,6049.5,198.1,1098.85,4039.3,2438.6,7113.75,576.65,219.5,273.4,2555.05,165.5,89.3,235.05,1144.6,4908.25,2298.9,3789.2,4765.0,2196.3,5405.8,6339.3,3847.6,6733.0,19.7,50.1,6140.85,3870.3,7624.2,4354.45,3431.75,2045.55,268.45,3486.65,1389.6,1522.7,6717.9,8058.55,538.5,5102.35,465.7,6792.45,475.1,3364.55,1234.8,355.9,1510.3,1982.6,4524.05,318.1,1231.85,2554.0,4684.3,614.45,2531.8,86.05,402.6,326.65,7382.85,422.6,6046.1,178.8,314.6,322.9,888.75,973.35,168.6,5424.25,121.25,6982.5,3835.55,1782.0,6157.6,3462.1,4390.25,5360.75,2424.5,4854.3,320.45,426.65,521.9,5706.3,471.7,4539.6,830.25,6263.8,1742.5,1468.75,3382.3,46.35,1992.2,373.0,50.15,1414.45,122.7,3366.05,1271.8,7965.95,5398.6,3343.15,198.7,5897.4,2511.55,1398.6,967.85,7589.8,1790.15,44.4,1284.2,3474.2,1430.95,7542.25,1709.1,1421.9,6526.65,2674.15,170.5,3175.85,4297.95,4036.0,4428.45,295.95,4947.55,447.9,516.3,1850.65,749.25,237.65,4707.1,5714.2,1294.6,3753.2,3263.9,2139.1,5042.75,1036.0,6431.05,2404.85,2510.2,2651.1,5538.35,200.2,450.4,5435.0,1334.5,67.1,503.25,1460.85,2807.1,6312.9,2715.3,1743.05,1784.5,4735.35,2010.95,996.45,1715.1,225.75,3721.9,5943.65,477.6,1119.35,1558.7,1712.9,1397.65,917.45,135.75,1087.7,651.5,6029.0,2278.75,2799.0,459.95,5755.8,442.6,2566.3,2962.0,24.8,7882.5,4378.9,4052.4,4140.1,536.4,8165.1,563.05,4191.45,1857.75,113.1,372.45,235.8,5082.8,3974.7,931.55,4048.95,957.1,521.8,5430.65,1626.4,3058.15,1916.2,6590.8,1561.5,438.9,2960.1,653.9,4630.2,5867.0,1374.9,3930.55,317.75,2072.75,743.05,1837.9,3168.75,252.0,5960.5,1540.35,3894.4,837.5,1534.05,4542.35,3600.65,1013.2,1401.4,8071.05,1028.9,84.2,1005.7,5029.05,299.05,1126.75,845.25,6069.25,48.45,558.8,1776.45,2921.75,1886.25,1493.75,214.4,293.85,1359.45,4263.45,1323.7,2985.25,3942.45,105.5,1292.2,7285.7,2874.45,3435.6,629.35,6687.85,20.25,20.45,2970.8,54.65,4479.2,8543.25,5682.25,4025.6,1818.9,4433.3,67.55,4335.2,1312.45,3437.45,6300.85,4613.95,576.95,1278.8,5212.65,902.25,2157.5,5625.55,715.0,3704.15,1596.6,3348.1,6743.55,6287.3,2679.7,1090.65,1270.25,225.65,3952.45,7422.1,3562.5,2898.95,6224.8,5327.25,528.45,4738.3,141.1,76.65,1537.85,3409.1,4575.35,980.35,4798.4,1882.55,723.35,4122.65,1125.6,1446.8,1529.65,7238.6,330.25,1108.8,319.85,1401.15,7332.4,6668.05,1809.35,639.45,321.05,993.15,1832.4,3877.65,382.2,4323.35,4135.0,44.2,75.5,1077.05,2310.2,4442.75,1372.45,689.0,302.45,1871.15,1396.25,531.55,7984.15,5958.85,578.5,4138.9,564.65,89.75,2168.9,1250.1,3442.8,1461.15,955.15,4483.95,7581.5,265.3,414.1,345.9,7039.45,7222.75,392.65,6605.55,2067.0,39.25,4096.9,1111.2,4922.4,4237.5,4872.2,1509.8,113.5,343.45,5673.7,3527.3,5794.45,730.1,1376.5,8349.45,7987.6,201.95,4860.85,7334.05,4713.4,4226.7,1346.3,1799.3,5294.6,19.55,118.25,1011.8,160.85,5538.8,2606.35,5299.65,1029.8,875.55,718.1,2369.3,4122.9,4107.25,1623.4,1444.05,432.25,5060.9,244.8,497.3,4298.45,6700.05,5290.45,1296.15,196.35,764.55,677.05,19.65,1641.8,5011.15,2312.55,98.5,2337.45,1285.8,2036.55,1758.9,5824.75,140.4,3975.9,953.65,344.2,5264.3,6690.75,136.75,19.05,572.85,6703.5,5116.6,962.25,4317.35,3342.0,1815.65,5886.85,2917.65,5333.35,6479.4,4663.4,414.95,1266.35,7993.3,139.75,1493.55,876.15,646.05,780.25,27.55,1397.3,7726.35,391.7,5621.85,7035.6,5953.0,6480.9,19.85,505.45,1443.65,5935.1,1267.0,472.65,82.85,1740.8,4421.95,1442.65,743.5,4261.2,5040.2,601.25,494.05,7611.55,7234.8,5515.45,428.45,223.15,2264.5,5971.25,4859.25,2455.05,1083.0,19.25,3723.65,20.35,836.35,711.15,1802.15,2998.0,808.95,6780.1,3801.7,1978.65,457.1,3471.1,3804.4,2106.05,605.25,1756.2,6145.2,407.05,1389.85,7266.95,19.85,4164.4,2198.9,3090.05,475.25,4475.9,5811.8,1309.0,2708.2,19.75,321.4,7932.5,3023.55,7337.55,1463.45,1263.05,5168.1,1672.35,5869.4,1139.2,3686.05,2423.4,990.3,2509.25,3491.55,383.65,69.25,1347.15,5597.65,3778.85,2462.55,19.65,6363.45,294.45,695.75,690.5,4513.65,1255.1,939.8,3948.45,244.85,1067.65,5450.7,202.25,4964.7,1901.05,4304.0,663.55,3846.75,745.3,184.05,400.0,1218.25,160.05,6637.9,1570.7,7396.15,209.9,1035.5,69.55,221.7,389.25,1759.55,1538.6,1025.05,292.4,2169.4,1229.1,303.7,86.05,2857.6,768.45,2780.6,5662.25,3958.2,5129.3,4758.8,294.2,860.85,599.25,2200.7,332.65,3011.65,2626.15,7962.2,1482.3,741.0,7379.8,6152.4,1685.9,1636.95,1240.8,1648.45,3842.6,564.4,6841.3,1024.65,2187.15,3344.1,4079.55,913.3,1131.5,959.9,7767.25,5832.0,6944.5,370.5,189.95,1342.15,5762.95,7323.15,3119.9,190.25,83.3,812.4,2839.95,128.6,324.8,5731.85,1029.35,6654.1,8220.4,1957.1,1374.35,688.5,68.8,349.8,483.3,4858.7,683.25,5437.1,678.75,7344.45,434.5,4408.45,0.0,1133.7,2283.3,1536.75,1430.05,1248.9,147.55,130.55,1588.75,818.45,95.85,3670.5,1224.05,1498.2,487.05,264.8,1272.05,712.25,5969.85,445.3,1087.45,1360.25,579.4,49.9,52.0,6077.75,515.75,5706.2,3181.8,2619.15,19.0,4939.25,5669.5,5731.4,5215.1,260.9,1072.6,2603.1,454.05,653.15,459.6,357.15,7031.3,6225.4,1949.4,7548.6,75.1,2066.0,49.9,4627.8,208.45,4144.8,1258.15,581.7,60.65,1548.65,6936.85,4520.15,49.95,3512.5,3972.25,490.55,43.8,8404.9,2815.25,2936.25,4631.7,8477.7,702.05,5445.95,4616.1,220.8,573.05,5186.0,3371.0,912.0,1462.6,4189.7,2070.75,2961.4,553.0,49.9,1096.65,266.6,6066.55,1927.3,4977.2,6994.6,224.85,6375.2,3205.6,3211.9,1087.25,869.9,1663.5,4895.1,468.35,344.5,220.35,226.2,6333.4,6392.85,5598.0,1028.75,220.65,7511.9,1637.3,4839.15,1379.6,531.15,1506.4,4983.05,524.35,4200.25,137.6,1614.9,3834.4,19.55,554.25,85.0,709.5,202.15,398.55,1789.65,207.35,70.25,98.35,3217.65,6424.7,1363.25,7002.95,1110.05,450.9,5348.65,3629.2,19.2,3810.55,1291.35,1026.35,5336.35,7930.55,202.25,481.1,1652.1,3756.4,492.0,849.9,893.0,6856.95,947.75,3970.4,1143.8,1286.05,6521.9,301.55,3638.25,3169.55,1108.0,1618.2,4126.35,2348.45,948.9,4614.55,2553.7,1068.15,19.3,82.7,6081.4,411.45,1815.3,2665.0,5121.75,300.7,152.6,5124.6,6567.9,780.2,75.35,4564.9,3561.15,1938.9,791.15,40.25,746.75,460.2,369.6,147.75,1269.1,2516.2,2275.1,1697.7,411.75,3062.45,1247.75,6562.9,682.1,38.45,8333.95,187.35,5498.8,2289.9,261.3,125.95,867.1,38.15,654.5,4911.05,2000.2,1336.65,5737.6,134.75,3527.0,29.15,2383.6,1709.15,1653.85,6078.75,1311.6,5411.65,4882.8,2610.65,439.75,4214.25,854.8,949.85,1416.2,7852.4,272.35,1961.6,50.15,355.1,487.75,178.7,1514.85,1427.55,1277.5,2939.8,91.45,1057.0,4689.15,2680.15,74.6,402.85,2012.7,4526.85,617.35,617.85,7099.0,43.95,5817.45,914.6,2224.5,1558.65,19.5,579.0,2937.65,360.35,333.65,2877.05,96.1,2743.45,1841.2,1502.25,61.15,1794.8,422.7,6683.4,5305.05,3270.25,620.55,4952.95,2409.9,7279.35,7015.9,90.1,44.0,1335.2,5032.25,6441.85,184.4,1192.3,2090.25,1441.95,4016.3,1021.55,415.9,797.1,6468.6,780.1,3808.2,1121.05,256.6,514.75,702.0,779.25,964.9,1873.7,157.65,3545.05,501.35,6474.45,6332.75,6333.8,4903.2,201.7,1292.65,4674.4,141.6,970.45,81.05,6296.75,348.8,1601.5,2203.1,6871.7,107.6,4946.05,308.1,1801.1,1477.65,5324.5,2548.65,4847.35,8100.55,370.25,55.7,1884.65,35.9,1654.85,4847.05,5329.55,2838.55,7322.5,6827.5,805.2,2080.1,6953.4,902.0,1835.3,1728.2,1391.65,1556.85,1153.25,232.55,4911.35,533.05,4133.95,151.75,25.4,20.25,318.6,1588.25,697.65,1178.75,6148.45,5730.15,275.9,1654.75,4144.9,50.75,3008.15,3121.1,1405.3,21.1,536.35,8312.4,835.5,1380.4,609.65,4194.85,5917.55,1077.5,3688.6,420.45,2983.65,263.65,1682.4,1733.15,5431.9,1463.7,1192.7,562.6,2635.0,1505.15,95.55,3566.7,2395.05,406.05,6786.1,1888.25,674.55,7521.95,6293.45,4681.75,1490.4,1303.25,119.5,8250.0,1718.95,1043.4,1885.15,3126.85,6921.7,3580.95,3349.1,8033.1,6388.65,1011.05,3656.25,5330.2,2003.6,1928.7,5125.75,3371.75,1331.05,886.4,1077.95,2070.05,5581.05,25.25,5560.0,1246.4,791.7,19.4,8297.5,6110.75,1956.4,1079.45,162.15,1233.25,883.35,132.25,792.15,5753.25,7362.9,263.05,5401.9,1218.45,20.4,3145.15,3141.7,2603.3,415.4,2471.6,5135.35,5810.9,767.9,6363.45,4461.85,3121.4,79.15,4953.25,979.5,249.55,70.1,1222.25,278.85,7789.6,4914.9,5438.95,4060.55,6840.95,571.05,7751.7,49.05,4685.55,45.4,624.15,7213.75,6017.9,179.85,5088.4,1734.5,4920.8,2448.5,5985.0,4300.45,1940.8,4386.2,741.5,5784.3,52.0,2065.4,7108.2,61.05,3880.05,444.75,1183.8,403.15,144.95,2024.1,7321.05,1203.95,6692.65,233.65,3416.85,4299.75,1171.5,388.6,857.75,2832.75,41.2,531.6,812.5,1191.4,4014.6,2722.2,3254.35,134.05,73.65,3848.0,6812.95,1382.9,3231.05,4981.15,2044.75,7939.25,19.9,2248.05,208.0,5720.95,546.45,3180.5,6578.55,5607.75,4422.95,8349.7,735.9,5817.7,279.5,8317.95,3442.15,61.7,1177.95,6310.9,3019.1,4657.95,3088.75,2924.05,42.9,1119.9,7719.5,161.45,74.7,847.25,208.25,1434.1,3465.7,1633.0,5948.7,849.9,4009.2,109.8,1074.65,651.55,4250.1,6841.05,1937.4,3545.1,3886.05,2613.4,733.95,775.3,19.75,395.6,169.75,74.3,7943.45,1642.75,2852.4,2215.25,2666.75,5458.8,20.65,169.65,1498.35,1886.4,2484.0,2989.6,84.75,2316.85,7882.25,760.05,1975.85,1451.1,1013.05,1864.2,821.6,2614.1,3126.45,1803.7,6339.45,1466.1,0.0,7085.5,6572.85,2106.3,2093.4,1093.0,5873.75,469.65,4504.9,24.7,2763.35,19.95,186.05,1492.1,3865.45,3053.0,128.6,533.05,4535.85,6744.25,1623.15,1498.85,1419.4,4370.75,3532.0,19.55,2661.1,4378.35,1593.1,3874.1,3801.3,1073.3,70.45,1621.35,4915.15,100.35,989.05,259.65,20.35,509.3,7782.85,641.25,3759.05,3143.65,1901.65,540.95,1564.05,1414.65,49.0,4818.8,7713.55,1240.15,2447.45,72.0,7069.3,2553.35,1284.2,7511.3,1416.75,5289.05,130.15,3985.35,38.8,717.95,447.75,4929.55,600.25,5760.65,19.9,929.45,4543.95,1600.95,7559.55,2510.7,20.45,4834.0,3190.65,44.75,1119.9,3340.55,6139.5,173.15,324.2,6951.15,5780.7,978.0,2807.65,20.3,335.65,3199.0,469.25,417.0,2117.2,718.55,99.45,7118.9,2948.6,25.75,958.25,5448.6,1629.2,3540.65,20.75,1939.35,387.9,524.5,213.35,25.7,3551.65,163.6,1387.45,273.25,2191.7,2560.1,5986.55,641.35,3608.0,104.3,1470.05,122.0,226.55,50.15,2364.0,419.9,4730.6,4805.65,908.55,3251.3,371.4,688.0,1901.25,7567.2,0.0,780.15,601.6,5222.35,270.2,6997.3,253.8,6028.95,238.15,83.4,76.95,927.1,4896.35,7616.0,341.6,1748.55,4222.95,238.1,1348.5,1357.1,475.2,5608.4,5376.4,611.45,733.55,3334.9,2130.55,1362.85,923.1,20.05,1023.95,543.0,921.3,1679.4,5025.85,3314.15,220.45,3775.85,865.85,572.2,6449.15,199.75,3988.5,57.4,693.45,3161.4,1218.25,4378.8,1363.25,1439.35,2471.25,59.55,3470.8,5016.25,124.4,24.7,5308.7,19.55,5733.4,3634.8,1215.65,1383.6,666.0,7550.3,140.1,227.45,5388.15,5913.95,6194.1,1841.9,1041.8,4786.1,309.25,3132.75,146.65,6770.5,1462.05,44.55,6052.25,154.8,233.9,1468.9,1267.2,3358.65,1406.65,1651.95,69.95,3147.15,0.0,5514.95,2038.7,6501.35,140.95,5566.4,4312.5,112.75,788.35,4469.1,5483.9,5153.5,3593.8,1166.7,1175.85,4254.1,50.8,4959.15,473.9,2333.85,781.4,2107.15,1801.9,18.8,96.8,3870.0,477.05,995.35,5468.95,3301.05,5965.95,1253.5,293.15,1375.4,7732.65,2341.55,3015.75,5991.05,6470.1,220.45,7430.75,6632.75,5883.85,2375.4,467.7,2799.75,1524.85,2964.8,1993.25,2395.7,5676.65,39.85,485.9,377.55,661.55,158.95,2263.4,1009.25,19.55,3478.15,7530.8,2658.8,1584.8,572.45,20.05,2522.4,50.6,601.55,196.9,113.95,4620.4,190.1,4003.85,3503.5,1924.1,331.85,944.65,283.75,4539.35,3848.8,25.85,5941.05,478.75,5815.15,248.4,113.5,2139.1,246.7,942.95,94.4,228.65,1759.4,6474.4,6595.0,1336.1,929.3,134.6,20.3,1387.0,1691.9,6018.65,7082.85,810.3,910.45,82.9,1296.8,5899.85,274.35,0.0,4639.45,1911.5,1230.9,467.15,2583.75,4018.55,485.9,188.1,294.5,6991.6,6218.45,98.5,253.0,1175.6,6669.45,189.45,6425.65,1718.35,4137.2,1198.8,48.35,2546.85,3097.0,3928.3,1263.05,5409.75,4779.45,3196.0,5175.3,3741.85,6236.75,930.9,501.2,1415.85,3009.5,3782.4,478.1,1339.8,313.4,3635.15,6844.5,268.4,890.35,239.45,2909.95,61.45,2088.05,2007.25,6631.85,7511.65,576.7,4677.1,1507.0,2538.2,2031.95,1107.2,0.0,5860.7,6352.4,1269.6,261.65,5898.6,5963.95,2727.3,3533.6,7061.65,132.4,264.55,296.15,7746.7,20.2,2748.7,1301.9,5244.45,747.2,1459.35,276.5,7845.8,8337.45,4438.2,4890.5,1813.35,5893.9,343.45,401.5,1441.65,1682.05,74.2,1378.45,2093.9,678.8,2633.3,153.3,1121.05,1183.05,154.3,813.45,1912.15,5696.6,592.75,1447.9,3886.85,19.2,3145.9,2414.55,1386.8,4747.5,1122.4,413.0,266.8,1273.3,2085.45,7288.4,6314.35,1796.55,1173.55,7133.1,1992.85,5023.0,55.7,393.45,2211.8,5890.0,889.0,4108.15,210.65,447.75,1158.85,7405.5,109.6,1329.15,2509.95,257.6,343.6,711.9,19.2,675.6,5487.0,1013.6,5135.15,251.25,625.65,2058.5,6302.8,115.1,8250.0,2548.55,6448.85,3121.45,3043.6,1381.8,4116.9,7661.8,75.45,4295.35,2497.2,239.05,45.25,2237.55,5969.95,788.05,151.75,371.6,145.15,1426.45,272.0,1620.8,5231.2,5550.1,24.4,2640.55,5023.0,5135.15,227.35,2065.15,730.4,3865.6,495.15,1760.25,3720.35,435.0,1396.0,1160.75,499.4,609.05,552.65,1071.4,2349.8,1083.7,676.15,985.05,4868.4,610.2,1006.9,3265.95,3439.0,1546.3,5289.05,5743.3,467.15,620.75,5222.3,134.05,3282.75,294.2,1177.05,4859.95,3398.9,954.9,1189.9,7985.9,6239.05,1732.6,2292.75,2763.0,7920.7,55.3,8126.65,980.35,1167.8,2324.7,504.2,4209.95,358.05,3765.05,155.9,400.3,4741.45,4266.4,3252.0,4600.95,5959.3,4889.2,165.35,1250.85,269.65,938.65,6597.25,416.45,3496.3,4375.8,3210.35,45.55,505.95,5576.3,1938.05,6652.45,5013.0,2077.95,5430.35,3958.85,867.3,55.05,1445.2,7966.9,1373.05,5720.35,4368.95,1064.95,3554.6,348.15,8127.6,20.35,482.8,42.45,101.1,2595.25,7349.35,798.2,583.0,3316.1,1523.4,6741.15,1681.6,7082.5,1031.7,87.3,2782.4,416.4,504.05,1752.45,1445.95,603.0,1201.65,592.65,5882.75,3505.1,1297.8,559.2,1389.35,6993.65,1242.45,1334.45,20.75,1051.9,1151.05,6201.95,776.25,5321.25,7895.15,5839.3,4698.05,6129.65,1035.7,710.05,8078.1,93.55,193.05,1377.7,19.45,7049.5,566.5,253.9,1067.05,926.2,5621.85,156.1,92.05,1821.8,4179.1,516.15,1261.35,1424.4,3784.0,6875.35,2184.6,1252.0,3906.7,2976.95,6067.4,49.3,106.9,3479.05,129.2,19.75,1031.1,4307.1,304.6,561.15,1291.3,242.4,122.9,8175.9,20.4,1714.55,2021.2,19.25,7246.15,1114.55,5251.75,1232.9,2483.65,2048.8,1317.95,4119.4,65.95,3632.0,162.45,246.25,150.0,254.5,6674.65,6152.3,7082.45,908.15,7508.55,1583.5,670.35,1781.35,1277.75,5918.8,1079.65,456.85,6506.15,2747.2,564.35,582.5,1279.0,19.65,7677.4,565.75,1474.9,8152.3,4707.85,4234.15,893.2,85.1,795.15,1228.65,56.0,5276.1,20.0,927.15,8308.9,1715.15,761.95,3521.7,280.4,340.35,7854.9,1901.0,35.0,6766.95,1321.3,31.2,552.7,247.0,4692.55,1640.0,299.75,4228.55,3735.45,3162.65,7848.5,358.15,5785.65,7869.05,767.55,1784.9,71.25,6758.45,2434.45,1216.6,5776.45,799.0,1390.85,8289.2,2796.35,3579.15,571.75,693.3,4385.05,4676.7,336.15,2965.75,1496.45,4310.35,5165.7,1714.95,770.5,4374.55,256.75,1265.65,2029.05,19.75,4747.85,1932.75,1110.5,39.3,5997.1,2049.05,4563.0,452.8,4447.55,3509.4,3944.5,1641.3,1643.55,2244.95,4543.15,894.3,44.05,8013.55,202.9,6719.9,1680.25,838.7,3791.6,1123.65,1355.1,1414.8,20.6,117.95,467.5,168.9,5688.45,695.85,525.55,661.55,322.5,111.4,1388.45,3069.45,2862.55,5511.65,2028.8,1093.2,1910.75,5309.5,5219.65,5893.95,1411.35,3766.2,926.25,20.8,2809.05,432.5,1551.6,138.85,1580.1,6849.75,152.3,220.4,1412.4,2398.4,7291.75,227.45,6375.8,401.95,7576.7,4828.05,522.95,6816.95,639.7,141.7,5364.8,267.35,49.5,2406.1,5025.8,1815.0,4619.55,0.0,6463.15,275.7,2181.75,4807.45,981.45,3591.25,2042.05,1301.1,873.4,212.4,3682.45,417.5,3470.8,5683.6,1201.65,4322.85,1315.35,1442.0,4103.9,3815.4,2054.4,574.35,2492.25,73.1,3836.3,7623.2,1497.9,801.3,854.45,61.05,4747.2,7039.05,244.75,399.25,2020.9,1785.65,4154.55,174.75,4304.5,4085.75,4528.0,2181.55,1850.65,44.6,6253.0,1007.8,901.25,1066.15,6118.95,1672.15,442.45,5986.45,196.75,1862.9,5764.7,2511.95,5925.75,4124.65,1295.4,6713.2,1769.6,3273.95,5580.8,25.25,1718.2,435.45,6989.7,535.35,826.1,6751.35,1336.8,107.1,520.95,5163.0,1887.0,19.2,174.45,46.4,38.0,4904.85,3452.55,48.35,5774.55,3330.1,286.8,298.7,682.15,89.35,6000.1,1322.85,1923.85,445.85,955.75,8035.95,547.8,303.15,19.85,1096.6,521.35,5980.55,96.8,5071.9,4084.35,1539.8,1080.55,784.45,1189.4,1403.1,7843.55,3822.45,389.8,786.5,295.55,3370.2,1710.9,846.8,198.25,370.4,218.55,7195.35,300.4,551.3,2209.15,2203.7,1818.3,4546.0,1563.95,498.1,1125.2,3023.65,533.6,5718.2,1336.15,4968.0,337.9,1395.05,1315.0,982.95,161.15,5038.45,24.9,0.0,4284.65,44.75,3899.05,8468.2,3023.85,365.8,7173.15,2879.9,2549.1,7544.0,2142.8,7842.3,71.2,4510.8,408.5,63.0,84.5,4667.0,321.7,943.85,750.1,6856.45,1655.35,5629.15,433.75,1237.3,84.2,554.05,7159.05,374.0,1836.9,2421.6,918.75,157.75,4453.3,1905.4,239.75,278.4,331.6,6383.9,962.9,1510.5,1307.8,5629.55,1358.6,1259.35,249.4,235.2,1060.2,0.0,4993.4,903.7,7610.1,970.4,3886.45,600.15,135.2,291.45,251.65,763.1,6423.0,992.7,7548.1,1414.2,3255.35,1022.5,2136.9,2424.45,5676.0,854.9,1444.05,1594.75,731.3,3375.9,1156.55,5826.65,973.95,645.8,2191.15,761.85,5000.05,1509.9,5581.05,999.8,172.35,84.4,1165.9,345.5,1129.35,3157.0,3042.25,6164.7,223.75,78.3,1185.0,4070.95,2813.05,1710.15,500.1,4454.25,3342.45,181.8,405.7,212.3,3482.85,649.4,1540.05,1174.35,2874.45,1724.15,2879.2,1051.05,369.15,550.1,4541.2,2911.5,1671.6,2762.75,318.6,7245.9,1859.5,3027.65,471.55,905.55,1988.05,1782.4,3950.85,7467.55,433.5,3419.5,788.6,20.35,613.95,3000.25,3283.05,1244.8,602.9,1026.35,1201.65,580.1,1745.5,285.2,3958.25,1088.25,6430.9,711.95,5315.8,1713.1,3915.4,1500.5,20.05,2016.3,4456.35,7758.9,4861.45,832.3,2724.25,6457.15,94.4,5265.5,2431.95,580.8,3250.45,6912.7,4939.25,342.3,6858.9,1992.55,3930.6,521.9,1742.45,61.05,170.9,34.75,967.9,1549.75,6367.2,3321.35,390.4,45.2,1872.2,917.15,540.05,316.9,550.35,417.65,4634.35,2172.05,599.3,4024.2,363.15,6614.9,100.9,6094.25,4445.3,3454.6,55.55,2234.55,144.35,804.85,5016.65,5034.05,194.55,5812.0,890.5,1902.0,302.35,727.8,5480.25,6816.95,4693.2,4107.3,7344.45,2570.2,232.1,144.8,637.55,368.85,6705.7,1173.35,20.15,5831.2,1417.9,94.15,457.3,2586.0,174.7,346.45,159.2,635.9,387.4,3902.6,7714.65,1020.75,2215.45,2723.15,743.75,99.95,185.2,7537.5,5236.4,1326.35,476.8,2901.8,1326.25,7346.2,1820.9,835.5,2696.55,2495.15,2971.7,6042.7,7210.85,1023.85,1267.95,8046.85,439.2,6792.45,5588.8,1971.15,1849.2,1875.25,6643.5,5841.35,567.8,4054.2,3355.65,413.25,196.4,130.5,3166.9,956.65,185.4,7862.25,4557.5,3377.8,3665.55,4264.25,828.85,53.15,3875.4,300.4,362.6,555.4,790.0,5779.6,713.6,4576.3,3751.15,1033.0,809.25,5714.2,1964.6,3770.0,4287.2,7898.45,84.6,4858.7,5044.8,1905.7,1679.65,1498.55,171.45,969.85,181.65,923.85,780.1,330.6,199.45,6241.35,1611.65,2288.7,4392.5,1646.45,658.1,3410.0,2659.45,1701.65,605.9,817.95,1458.1,1010.0,195.65,535.05,4464.8,5969.3,2308.6,577.15,1402.25,720.05,3687.85,207.4,5138.1,40.9,382.8,2936.25,764.95,6503.2,1118.8,3983.6,2281.6,1054.8,3096.9,1983.15,4733.1,335.95,5956.85,762.45,3623.95,1647.0,243.65,4391.45,1968.1,1061.6,4902.8,270.15,1923.5,3645.6,647.5,2272.8,347.65,5686.4,70.7,3187.65,866.4,5914.4,8182.75,273.25,75.55,477.55,1281.25,1228.65,1908.35,7009.5,6914.95,4532.3,191.1,2570.2,1864.65,1355.45,265.75,45.75,36.8,3838.2,7076.35,217.1,4042.2,6889.8,1493.1,4149.45,685.55,937.6,920.5,20.65,6034.85,168.5,1381.2,921.55,3112.05,3237.05,4671.7,1673.4,2357.75,6342.7,5083.55,3440.25,141.65,3876.2,244.1,638.55,2588.95,2424.05,3512.15,3574.5,2686.05,4284.2,4494.65,45.8,216.45,1306.3,8331.95,3221.25,4869.5,2168.15,6557.75,870.25,59.25,3653.0,1212.85,1311.75,406.95,4759.55,2768.35,6770.85,2239.4,335.75,3082.1,2030.75,7467.5,2896.6,1410.25,90.05,202.3,681.4,7261.75,3460.95,8003.8,759.55,1782.0,470.0,237.2,7875.0,143.65,47.7,6989.45,1600.25,3772.65,945.7,4370.25,755.4,3346.8,8192.6,865.1,653.25,617.65,3919.15,6536.5,5206.55,3994.05,5894.5,3923.8,274.7,5199.8,3165.6,1113.95,1476.25,1952.25,2196.45,2053.05,4345.0,934.15,4348.1,692.1,48.75,4664.15,2626.15,595.05,6511.8,149.05,2633.4,1664.3,2871.5,78.9,6603.8,2146.5,3353.4,3959.15,810.45,3510.3,2149.05,2001.5,2536.55,4884.85,929.2,1139.2,4308.25,1958.95,6325.25,6716.45,6369.45,1024.7,3423.5,493.95,49.05,1071.6,5936.55,3088.25,827.7,3893.6,4719.75,4917.75,6068.65,5212.65,7470.1,874.2,2621.75,5043.2,936.85,1750.7,5224.5,6176.6,3418.2,8022.85,2651.2,2495.2,418.3,907.05,605.75,5980.75,270.6,3990.6,1266.4,1381.8,4193.4,3566.6,4415.75,5234.95,8100.25,755.6,1539.75,2929.75,4473.45,5329.0,5396.25,5295.7,73.45,1789.9,5475.9,7047.5,1442.6,2302.35,367.95,6487.2,4297.6,158.35,1346.2,1021.75,125.5,24.2,1522.65,174.2,1513.6,7555.0,4664.5,1767.35,105.6,908.75,3778.0,4113.7,452.2,7665.8,7459.0,6293.75,678.2,2162.6,2298.55,272.95,3027.25,4174.35,523.1,2404.15,4946.7,180.7,3281.65,4555.2,383.65,875.35,262.3,548.9,1719.15,5229.8,2351.45,1739.6,638.95,1664.3,1057.55,1164.05,1130.85,3851.45,7386.05,139.25,838.5,258.35,5610.15,1049.05,3965.05,1461.45,5200.8,1375.6,1431.65,8443.7,1336.9,6994.8,4641.1,5542.55,3953.15,772.4,851.2,373.5,2719.2,4976.15,533.9,2033.85,697.7,7142.5,2157.3,5595.3,5999.85,419.4,3251.85,3021.45,79.45,55.25,6385.95,353.65,1174.8,4507.15,438.05,682.15,44.0,2199.05,2453.3,829.3,1046.2,265.8,1453.1,375.25,734.6,235.05,844.45,69.9,234.85,775.6,257.0,1261.45,6891.45,223.9,19.65,35.1,2209.75,1131.5,554.45,7472.15,7559.55,7049.75,1889.5,4245.55,5846.65,2375.2,76.35,482.25,2033.05,1866.45,1058.1,143.9,312.7,228.75,515.45,1802.55,765.15,1302.65,3795.45,2459.8,68.2,949.8,178.85,1879.25,644.5,1737.45,5070.4,177.4,4849.1,670.65,1187.05,4916.4,1039.45,6401.25,130.25,5038.15,2640.55,492.1,3339.05,865.75,2723.75,777.3,1498.55,1253.65,2032.3,6929.4,2259.35,1725.0,7657.4,5411.4,5189.75,5154.5,7412.25,5646.6,4013.8,6563.4,1410.25,2845.15,4220.35,6895.5,369.05,3238.4,973.65,1766.75,978.6,24.0,880.05,610.75,5832.65,93.45,3729.6,0.0,3954.1,68.45,6416.7,1299.1,2633.95,146.6,6397.6,1253.8,1500.25,5481.25,7365.7,5502.55,6669.05,1898.1,3846.35,1654.7,697.25,3902.6,494.95,313.6,1545.4,763.1,3038.55,6033.1,8425.3,938.95,150.75,2023.55,260.7,530.05,408.25,7334.05,5357.75,1304.8,2839.45,592.65,3808.0,3103.25,1210.3,4134.7,7553.6,1215.1,5232.9,4804.65,7554.05,757.95,57.4,5301.1,1274.45,5717.85,3541.4,419.35,4014.0,1115.6,3035.35,5432.2,5618.3,1689.45,1834.15,2243.9,1215.45,1170.5,1114.85,892.7,1955.4,655.3,1730.65,4973.4,2888.7,475.1,1386.9,552.9,123.65,1782.05,5174.35,4040.2,38.25,44.45,515.75,2893.4,163.2,20.25,607.7,2773.9,415.1,6520.8,888.65,163.55,1857.85,3161.2,5563.65,3772.5,1567.0,4534.45,657.5,7112.15,2823.0,2979.2,1411.2,19.5,4213.9,3128.8,593.2,8424.9,5536.5,3472.05,147.8,683.75,587.7,654.55,42.7,4764.0,930.05,865.0,684.85,5553.25,1816.75,1702.9,1608.15,1392.25,1245.05,1033.9,4872.2,3045.75,7854.15,1559.25,97.0,1959.5,1537.9,2245.4,7853.7,109.5,2271.85,96.85,219.35,7609.75,6880.85,1160.45,87.9,6588.95,862.4,4473.0,2188.5,4039.0,6230.1,3726.15,3532.85,2198.3,1698.55,7578.05,2282.95,779.2,7990.05,1367.75,1340.1,267.0,4017.45,1474.35,2184.85,695.05,20.45,4615.9,4116.8,6254.45,5703.0,29.9,802.35,8476.5,2966.95,1940.85,4976.15,5037.55,716.4,638.0,360.55,44.75,74.2,4131.2,1798.9,440.2,3204.4,399.45,1830.1,5129.45,314.45,999.45,19.85,299.4,2343.85,899.45,118.25,6998.95,7240.65,7397.0,998.1,1433.8,2894.55,527.5,1423.35,1498.65,7107.0,488.25,6066.55,2535.55,3691.2,194.2,849.1,1234.6,3292.3,331.35,436.9,4808.7,3089.6,2854.95,3674.95,1595.5,505.9,2193.0,5861.75,2419.55,279.3,1082.75,4919.7,3414.65,1755.35,4819.75,5243.05,830.8,6237.05,19.75,45.85,2215.4,2564.95,2094.9,382.2,275.4,607.3,1429.65,404.35,2104.55,518.75,1198.05,436.2,44.15,669.45,3975.7,2274.1,25.35,6300.85,3888.65,119.3,4746.05,3886.85,6519.75,4166.35,759.35,2907.35,6079.0,1489.3,426.35,7114.25,2627.35,100.2,1859.1,55.25,46.3,814.75,4126.2,3134.7,6347.55,6109.65,1579.7,402.5,692.55,4753.85,1783.6,164.6,3334.95,2751.0,6330.4,4729.75,1566.75,1170.55,1322.55,357.6,958.1,35.45,6841.45,497.6,2884.9,77.6,4192.15,2234.95,7251.7,6424.25,2326.05,5791.85,996.85,6671.7,1226.45,5460.2,4484.05,2479.25,5224.95,877.35,7365.3,202.3,173.0,6302.85,2619.25,62.8,117.8,1406.9,609.1,6511.25,5844.65,2627.2,543.8,85.0,186.15,2265.0,5522.7,5270.6,1867.7,19.95,507.4,3871.85,1783.75,1195.25,7880.25,1045.25,7752.05,5386.5,4925.35,1620.2,7707.7,216.2,5742.9,2970.3,4690.65,4653.25,7138.65,389.95,3771.5,6172.0,704.3,1070.25,6613.65,2545.75,505.95,1363.45,852.7,4179.2,1049.6,422.4,107.25,5903.15,5645.8,232.35,2094.65,4586.15,6328.7,816.8,2656.3,96.85,6185.8,1554.9,1024.0,3047.15,7447.7,107.05,6411.25,20.2,69.8,3877.95,5265.2,4447.75,3487.95,57.5,238.5,1540.2,1288.0,163.7,6779.05,6376.55,2688.85,795.65,4089.45,4985.9,485.2,2320.8,855.1,1846.65,1394.55,521.0,417.75,5968.4,6129.65,593.85,5617.95,1929.95,7849.85,683.25,789.2,374.8,1916.0,6365.35,675.6,7030.65,4003.0,186.3,7244.7,20.2,91.4,1398.25,1221.55,255.5,1155.6,2201.75,510.8,754.5,6129.2,5031.85,2878.75,1971.5,411.6,1657.4,1638.7,2835.5,109.3,624.6,350.35,7110.75,780.85,3068.6,348.8,543.8,831.75,4443.45,2117.25,294.95,70.3,911.6,615.35,3084.9,566.5,1110.35,80.95,3094.65,7679.65,3772.5,3365.4,469.65,4900.65,688.2,664.4,2576.8,78.25,1282.85,1216.35,1021.8,3603.45,394.1,204.55,1152.8,679.0,847.8,2191.7,5436.45,1043.3,2537.0,4917.9,3778.1,690.25,4285.8,19.1,3548.3,2531.4,1752.65,934.8,2979.3,20.4,45.3,1086.75,1285.05,5067.45,1567.55,1354.4,5289.8,864.55,1672.1,2208.05,966.25,340.4,4904.2,2018.4,789.55,7878.3,1614.05,4145.25,1501.75,6725.3,1810.85,892.15,1440.75,1156.35,1209.25,92.75,161.45,1185.95,4361.55,612.1,5623.7,123.05,308.05,6227.5,2032.3,2684.35,167.2,184.15,1043.8,3327.05,341.35,620.35,8529.5,43.85,1688.9,716.1,19.9,5791.1,6093.3,30.55,1423.05,2344.5,1686.85,5420.65,150.6,245.15,3389.25,2151.6,4448.8,1270.55,4860.35,5150.55,1205.5,2016.45,1794.65,5950.2,3953.7,290.55,231.45,3244.4,6301.7,1332.4,1003.05,302.6,7132.15,301.9,2908.2,7104.2,1219.85,2933.95,7181.95,184.1,845.25,6435.25,2220.1,1181.75,931.9,7303.05,6109.75,20.95,1195.95,1614.2,4615.25,5931.75,4025.5,63.6,7171.7,550.6,1267.05,1723.95,5598.3,3655.45,2440.25,2595.85,4995.35,1097.15,3236.35,386.5,7634.8,75.6,2301.15,4932.5,723.3,958.15,3624.35,684.05,5744.35,1211.65,854.9,1025.15,1821.2,1288.75,114.15,1941.5,356.1,611.65,467.85,5586.45,6819.45,106.8,171.45,3887.25,1798.65,1171.3,1260.7,6033.3,111.05,964.35,1778.7,4692.95,534.7,1874.45,262.05,6118.95,1505.45,61.35,7297.75,246.7,5064.85,1990.5,3419.5,109.25,5749.8,1208.6,4300.8,3437.5,573.15,1432.55,136.05,1620.45,8248.5,608.15,678.45,3646.8,1530.6,1208.15,5461.45,34.8,5264.25,3756.45,2731.0,3021.3,641.15,6223.8,50.7,1199.4,4997.5,1493.2,4549.45,19.9,3122.4,4158.25,2623.65,648.65,3902.45,4577.75,4984.85,8436.25,3488.15,1004.75,54.3,5931.0,5459.2,1776.0,33.6,5496.9,384.25,8196.4,259.4,1238.65,454.0,137.1,184.95,1275.6,1379.8,1553.2,1848.8,955.6,2789.7,33.6,4362.05,5589.3,5265.55,768.05,3273.8,943.0,6306.5,1764.75,1525.35,1667.25,4509.5,2689.35,2391.15,816.8,109.2,1140.05,1787.35,156.85,1327.4,1412.65,2317.1,2015.8,1337.45,4920.55,2669.45,6586.85,7806.5,7475.1,238.5,773.2,6029.9,7149.35,7168.25,1672.35,235.65,1001.5,1734.65,357.0,2338.35,3208.65,1732.95,2656.7,7008.15,43.15,3457.45,1033.95,637.4,305.55,3729.75,2754.0,7261.75,625.05,2369.7,7922.75,2210.2,2347.85,1027.25,7028.5,2019.8,3297.0,1478.85,280.35,4594.65,417.7,4040.65,1387.35,3512.9,466.6,154.55,7795.95,608.5,4744.35,1263.9,292.4,864.85,1359.5,1494.5,135.75,741.4,1051.05,6602.9,1566.9,1215.8,203.95,970.4,218.5,20.05,1914.5,3173.35,6096.9,422.3,5059.75,4885.85,950.75,1597.4,882.55,1497.05,4652.4,1233.15,3263.6,4097.05,1128.1,1830.05,5502.55,1880.85,3605.6,1348.95,3249.4,283.95,2647.2,1345.65,825.1,5315.1,3590.2,150.0,7774.05,6976.75,2847.2,405.6,3418.2,3694.45,162.3,612.95,1275.65,2552.9,4238.45,3274.35,3662.25,1124.2,235.0,6368.2,1672.1,4230.25,1663.75,5012.35,3365.4,1311.3,702.9,4855.35,5602.25,1992.95,617.15,7711.25,2215.0,6638.35,1441.8,6153.85,755.5,2390.45,124.45,4671.65,7544.3,827.3,834.7,7188.5,798.2,1706.45,62.9,1563.9,1686.15,772.85,6444.05,1505.35,5714.25,73.45,2766.4,819.95,20.9,527.35,2188.45,5703.25,199.85,54.5,4155.95,4188.4,5500.6,45.15,8041.65,250.8,486.05,1743.9,1297.35,2462.6,5073.1,2688.45,2618.3,268.45,1886.25,2088.45,1391.15,323.15,229.4,2296.25,876.75,19.65,1103.25,202.9,1046.5,996.95,19.4,1936.85,6350.5,19.15,2633.4,587.1,4069.9,20.2,99.6,49.75,1313.25,436.6,445.95,411.15,696.8,120.25,590.35,6735.05,1630.4,377.85,589.25,1222.65,2204.35,159.35,1790.6,214.55,2265.25,1782.0,89.05,4949.1,2313.8,493.65,307.6,129.15,724.65,97.5,3769.7,8375.05,1867.6,769.1,24.4,279.2,229.55,6707.15,198.5,1058.1,63.75,2415.95,123.8,1165.55,155.35,6404.0,3626.35,273.2,4760.3,4965.0,1438.05,2404.1,4862.5,161.45,541.5,6510.45,5809.75,887.35,1134.25,226.95,3092.0,6548.65,827.45,4859.1,1008.7,4236.6,6310.9,116.6,80.55,49.8,3581.4,4900.65,717.5,662.95,5099.15,958.45,1974.8,2657.55,3861.45,1423.65,70.35,326.8,3357.9,5139.65,1505.9,6179.35,255.55,1796.55,3415.25,5206.55,280.0,1252.85,4616.05,106.2,3168.0,1559.15,6697.35,1729.35,5442.05,1454.25,1288.3,1356.3,5163.3,1017.35,7455.45,4508.65,220.45,58.3,5031.0,68.35,412.6,4925.35,265.45,7031.45,25.15,358.5,6004.85,5431.4,520.55,323.45,251.6,1411.9,5589.45,936.7,886.7,5730.7,7998.8,2001.0,8672.45,5711.05,6590.5,3187.65,4972.1,89.25,6589.6,4224.7,299.05,3369.05,2793.55,29.85,2275.1,1653.45,538.2,979.05,3739.8,3008.55,1183.05,686.95,19.55,1416.5,8058.85,1520.1,2221.55,1468.75,467.15,4368.85,1413.0,280.85,4735.2,378.6,1573.95,19.45,3833.95,3729.75,4824.45,810.85,111.65,5471.75,369.25,520.1,3450.15,1016.7,330.8,381.2,2413.05,33.7,5925.75,4217.8,5731.85,3895.35,1263.85,0.0,1092.35,226.8,5585.4,3539.25,1857.25,1725.95,3077.0,6561.25,7556.9,2830.45,1547.35,176.3,1614.7,628.65,3478.75,3171.6,1337.5,1843.05,2684.85,153.95,3091.75,1643.25,3778.2,4688.65,3363.8,5974.3,3829.75,1424.9,3824.2,726.1,20.0,237.3,1341.5,2647.1,1594.75,6398.05,1810.55,5264.5,2599.95,1205.05,1108.6,7251.9,19.65,5637.85,4549.05,150.35,90.05,1344.5,7129.45,3094.05,6292.7,1529.45,297.35,961.4,857.8,2974.5,743.3,3627.3,45.35,1325.85,94.45,60.65,6843.15,629.55,1077.95,3007.25,1304.85,3107.3,232.4,3480.35,4138.7,4784.45,54.7,130.5,5895.45,4599.15,50.75,1840.75,574.5,921.4,1299.8,1188.2,1421.75,1345.75,4326.8,49.65,224.05,1081.25,393.15,2877.95,20.3,684.4,217.5,275.7,5825.5,7320.9,217.45,4807.35,2263.45,3966.3,3597.5,3641.5,1857.3,2960.1,494.9,1778.5,1261.0,129.6,19.75,1493.2,4525.8,1066.9,4720.0,4674.55,3581.6,6668.35,1882.8,1007.9,3725.5,6362.35,85.5,3077.0,720.1,1436.95,220.75,19.9,5552.05,146.4,839.65,1868.4,1293.8,5727.15,1117.55,1242.25,5594.0,475.0,352.65,434.8,1195.75,660.05,4265.0,4905.75,7839.85,1813.1,3541.1,19.3,1020.2,1683.7,8244.3,6721.6,1218.65,4039.5,705.45,383.55,3003.55,244.45,3109.9,460.25,1982.1,1747.2,1559.45,5798.3,568.2,553.4,215.8,110.15,1292.6,6130.85,5930.05,6075.9,4889.3,83.75,397.0,1797.75,551.35,1859.2,3565.65,1838.15,1611.15,1151.55,659.45,3529.95,2386.85,332.5,1683.6,4965.1,5708.2,330.8,222.65,39.8,369.1,5835.5,708.8,3838.75,8425.15,6382.55,4738.85,2379.1,422.5,4275.75,7748.75,1424.6,7904.25,8016.6,2341.5,5231.3,4589.85,487.05,4888.2,4055.5,71.1,6991.9,1699.15,1245.6,306.05,2345.55,20.2,563.5,4060.9,1031.4,3425.35,4931.8,3465.05,5632.55,49.85,6496.15,7181.25,490.65,2545.7,419.7,828.2,7737.55,183.15,225.85,2427.1,659.35,211.95,6891.4,811.65,7413.55,5681.1,1777.6,428.7,1093.4,4541.9,3883.3,1108.2,5443.65,2737.05,6132.7,1001.2,2193.2,1013.35,7565.35,565.35,946.95,449.3,906.85,284.9,3684.95,255.6,6065.3,1090.1,514.6,5166.2,311.6,451.55,4299.95,5924.4,1734.2,1014.25,125.0,2730.85,51.6,5347.95,6869.7,425.1,458.1,701.3,1286.0,3708.4,1679.25,3055.5,82.15,3952.65,452.55,689.35,6859.05,44.55,4109.0,4487.3,79.05,4921.2,2897.95,2075.1,1022.95,533.5,6688.95,1137.05,1714.95,6126.1,1404.65,20.25,470.6,4732.35,571.15,5498.2,8306.05,2006.95,916.15,1706.45,434.5,20.25,7493.05,833.55,4303.65,266.95,6058.95,1004.35,1258.35,2130.45,2490.15,828.05,1652.95,1738.9,2540.1,5692.65,1500.95,498.25,5552.5,3996.8,1399.35,1110.05,1871.85,1336.35,322.5,2692.75,392.5,385.55,997.75,287.85,576.95,377.85,3399.85,246.6,6925.9,20.45,1370.35,8425.3,7658.3,356.65,21.05,5253.95,597.9,1184.0,800.3,1328.35,47.95,50.1,1700.9,1138.8,2638.1,168.65,4519.5,70.6,7982.5,5229.45,3522.65,249.4,2494.65,463.6,144.15,3921.1,299.3,1930.9,1023.75,525.0,785.75,947.4,3557.7,2964.0,4299.2,314.95,5682.25,4811.6,484.05,3618.7,1225.65,5017.7,1597.05,4211.55,45.0,1423.85,6309.65,6754.35,3956.7,1079.05,1952.8,5611.7,6225.4,284.3,174.65,245.15,5193.2,19.45,1193.55,6185.15,3131.8,3058.3,6733.15,835.15,2208.75,250.1,4136.4,394.85,5817.0,4903.15,1423.15,93.4,6322.1,5196.1,2568.15,5567.45,1032.05,6767.1,3373.4,1305.95,198.6,1790.35,50.05,861.85,1434.6,8405.0,369.3,1495.1,356.15,914.4,1094.35,3616.25,6885.75,1253.15,5497.05,5237.4,5528.9,842.25,7159.05,2227.8,1411.65,7111.3,2421.75,2820.65,3673.15,401.85,806.95,3246.45,707.5,8332.15,1147.85,1728.2,1345.85,6300.15,1102.4,632.2,206.15,1112.3,1521.2,3403.4,4264.6,3420.5,5068.05,20.45,7388.45,19.8,1612.2,4178.65,7317.1,6141.65,19.5,1893.5,2768.65,294.9,351.55,746.05,1782.4,535.55,3260.1,749.35,4523.25,3090.65,6555.2,1642.75,548.8,4551.5,3921.3,19.55,8399.15,454.65,2802.3,31.9,313.0,232.5,4492.9,20.7,512.25,1652.4,4176.7,1424.2,3650.35,8277.05,1221.65,3901.25,4391.25,163.7,6954.15,1626.05,5601.4,771.95,6130.95,4018.35,672.7,2238.5,1264.2,101.65,4869.35,7159.7,148.05,6096.45,1800.05,2790.65,8164.1,3379.25,2062.15,2356.75,118.4,5916.95,3974.15,1696.2,654.85,74.0,1958.45,6161.9,2425.4,51.25,1042.65,4331.4,44.8,1011.5,7689.8,6055.55,3320.6,44.9,1188.25,62.0,319.6,6518.35,839.4,44.0,5574.35,1793.25,1123.15,1316.9,3089.1,2078.55,229.4,858.6,1825.5,568.85,668.85,184.1,1778.7,2882.25,41.85,424.75,1620.25,2258.25,429.55,101.9,1319.95,357.7,20.05,1874.3,1378.75,2433.5,6585.2,85.1,2395.7,6382.0,1167.6,3085.35,49.8,4982.5,583.3,5564.85,6311.2,1797.1,745.3,74.3,6725.5,3410.6,708.2,350.1,1574.5,532.1,3177.25,4063.0,4801.1,5985.75,3645.5,593.05,564.35,174.3,790.7,966.55,3242.5,103.7,1677.85,1388.0,7325.1,2538.05,546.85,4863.85,2429.1,3794.5,6393.65,4113.15,3887.85,8065.65,1298.7,1985.15,3582.4,2964.05,7281.6,1837.7,8012.75,1237.65,903.8,689.75,1004.5,475.7,3713.95,7334.05,6297.65,401.3,529.5,987.95,1745.2,3043.7,8564.75,3320.75,2779.5,5746.75,1055.9,754.0,329.75,49.55,313.45,7133.45,25.0,868.1,1309.15,7711.45,951.55,1669.4,108.65,1364.75,6744.2,4566.5,435.25,52.05,4664.2,2427.35,7919.8,784.25,1161.75,7053.35,1386.9,867.3,2513.5,1082.8,5233.25,1813.1,6056.15,1442.6,255.35,340.85,1573.05,3131.55,44.95,4162.05,80.55,970.85,1261.7,5535.8,157.55,469.85,930.95,452.35,1303.5,765.45,411.25,1756.6,20.15,8310.55,197.4,6688.1,2096.1,851.8,2673.45,6823.4,8477.6,74.1,4577.9,651.5,18.85,1393.6,764.55,488.65,3035.8,387.7,7629.85,3858.05,2907.55,3313.4,2108.35,3617.1,359.4,3460.3,152.95,7209.0,2570.0,161.65,7840.6,5680.9,53.05,2018.1,739.9,537.35,162.55,1581.95,7227.45,3645.75,1885.15,4068.0,6126.15,2283.15,2928.5,5763.15,1763.55,926.0,1856.4,777.35,4729.3,1406.0,7881.2,5215.25,2021.35,6538.45,6215.35,4669.2,873.4,1212.25,2753.8,1505.05,740.55,4447.75,493.4,999.9,1415.0,664.4,1249.25,50.6,3116.15,19.75,4914.8,53.55,225.55,5555.3,2419.0,3094.65,5750.0,6001.45,2092.9,1391.15,20.3,8093.15,2603.95,5655.45,1806.35,2249.1,4267.15,1274.05,5878.9,37.2,3756.45,2034.25,1190.5,5515.8,2958.95,601.6,1319.85,372.45,3019.7,116.85,493.4,1753.0,4451.85,45.7,736.8,1821.95,4495.65,827.05,1012.4,1146.05,3533.6,587.4,3211.2,781.25,3571.6,4786.15,2959.8,2443.3,1443.65,2774.55,44.0,6283.3,4059.85,4805.3,4318.35,6083.1,284.35,5215.1,6152.3,424.5,4459.8,770.4,8124.2,701.05,4754.3,2998.0,45.6,935.9,5064.45,4309.55,246.3,1078.75,8166.8,189.1,735.5,1130.0,86.35,5647.95,2025.1,4326.25,3413.25,2007.85,3139.8,4480.7,1235.55,83.75,6697.2,4845.4,8312.75,2654.05,2134.3,717.3,518.3,1203.9,729.95,2681.15,335.4,1533.8,6640.7,355.1,485.25,1673.8,6151.9,1665.2,486.2,5194.05,176.2,6373.1,116.95,8240.85,2727.8,2006.1,4428.6,1346.9,3857.1,4991.5,2322.85,1601.2,2460.35,438.4,309.4,1654.6,1943.9,3134.7,73.05,223.6,1070.5,577.6,3483.45,1750.85,19.25,288.35,739.35,5919.35,3882.3,1931.3,320.4,3990.75,5036.9,470.2,5757.2,581.85,475.1,631.4,1678.05,221.1,6838.6,1400.3,6689.0,7069.25,4730.9,2236.2,446.8,6293.2,756.4,4554.85,197.4,53.15,1790.8,4904.25,1207.0,6045.9,19.1,237.7,4478.85,2151.6,943.1,2848.45,990.45,6155.4,1173.55,461.3,3419.3,2083.1,3161.6,5012.1,1654.45,7953.25,5600.15,20.3,5705.05,5731.45,8061.5,824.85,5437.75,190.25,5661.7,6841.4,4872.35,6595.9,551.95,6273.4,786.3,970.55,4456.65,581.7,161.95,5997.1,4804.75,4820.55,2835.9,1268.85,3005.8,928.4,1191.2,1048.45,92.5,931.75,1149.65,3190.25,700.45,252.75,2212.55,2156.25,720.45,1765.95,253.8,7882.25,2867.75,1242.2,5979.7,679.8,595.5,1356.7,51.2,4233.95,5375.15,6019.35,465.85,897.75,483.15,4747.65,6565.85,658.1,1161.75,1588.7,2076.05,7283.25,1126.35,1054.75,4459.15,6549.45,6962.85,92.25,1620.2,171.0,3369.25,3687.75,324.15,1980.3,1165.6,879.8,6794.75,89.75,1022.6,6460.55,2479.05,2911.8,1385.85,989.05,70.05,70.2,2441.7,3097.2,70.6,5042.75,412.55,82.85,2444.25,433.95,1013.05,507.9,813.3,7074.4,1275.85,3645.05,110.05,19.4,677.9,137.25,2723.4,229.7,8086.4,49.7,1328.15,77.15,3297.0,241.3,653.95,6056.9,295.65,973.1,7159.7,471.35,963.95,5125.5,4322.85,7051.95,1519.0,117.05,1816.2,2796.45,1842.7,5728.55,4449.75,8129.3,4159.45,19.55,3973.2,4916.95,2997.45,3946.9,398.55,4156.8,616.9,32.7,3649.6,2230.85,5969.3,701.05,214.75,20.55,94.45,826.0,4793.8,360.55,815.55,6910.3,788.55,144.0,18.9,2511.3,1152.8,548.9,2333.05,5025.0,918.7,3219.75,8670.1,522.35,6038.55,79.8,5317.8,450.65,2276.1,927.65,48.6,20.5,1025.15,3306.85,1388.75,339.9,3213.75,587.45,1057.85,307.0,2625.25,4891.5,5311.85,63.15,797.25,2309.55,6223.3,5822.3,2683.2,6782.15,1790.65,336.7,3024.15,3914.05,4014.2,8594.4,147.5,2192.9,5484.4,3810.8,150.85,562.7,692.35,1070.7,937.1,153.8,1615.1,1374.2,465.45,7887.25,4748.7,845.6,3532.25,1050.5,316.2,45.3,2575.45,6860.6,3827.9,55.45,4282.4,5727.45,666.75,1147.85,4016.2,1275.7,2919.85,4016.75,239.0,1851.45,1912.85,316.9,74.35,773.2,223.75,7475.85,4590.35,309.35,310.6,7459.05,1861.1,673.2,7806.6,566.1,8075.35,418.25,470.2,1183.2,2339.3,2070.75,472.25,4264.0,1373.0,2440.25,1662.05,3845.45,672.2,1327.85,24.4,7383.7,1305.95,2896.55,3517.9,2475.35,1826.7,6256.2,916.0,3211.2,5981.65,1948.35,4327.5,684.85,3275.15,2044.95,8547.15,5468.45,2180.55,552.1,94.5,1516.6,2473.95,215.25,5611.75,1287.85,804.25,6668.0,2658.4,5060.85,2664.3,383.65,487.95,1559.3,4263.4,1372.9,457.1,7517.7,7382.25,20.05,1725.4,658.95,367.55,4111.35,129.55,3625.2,1372.9,1517.5,4871.45,6171.2,856.5,18.9,4018.05,633.45,742.9,92.75,4627.65,3707.6],\"x0\":\" \",\"xaxis\":\"x\",\"y\":[0,0,0,0,0,0,0,0,0,0,0,0,0,0,0,0,0,0,0,0,0,0,0,0,0,0,0,0,0,0,0,0,0,0,0,0,0,0,0,0,0,0,0,0,0,0,0,0,0,0,0,0,0,0,0,0,0,0,0,0,0,0,0,0,0,0,0,0,0,0,0,0,0,0,0,0,0,0,0,0,0,0,0,0,0,0,0,0,0,0,0,0,0,0,0,0,0,0,0,0,0,0,0,0,0,0,0,0,0,0,0,0,0,0,0,0,0,0,0,0,0,0,0,0,0,0,0,0,0,0,0,0,0,0,0,0,0,0,0,0,0,0,0,0,0,0,0,0,0,0,0,0,0,0,0,0,0,0,0,0,0,0,0,0,0,0,0,0,0,0,0,0,0,0,0,0,0,0,0,0,0,0,0,0,0,0,0,0,0,0,0,0,0,0,0,0,0,0,0,0,0,0,0,0,0,0,0,0,0,0,0,0,0,0,0,0,0,0,0,0,0,0,0,0,0,0,0,0,0,0,0,0,0,0,0,0,0,0,0,0,0,0,0,0,0,0,0,0,0,0,0,0,0,0,0,0,0,0,0,0,0,0,0,0,0,0,0,0,0,0,0,0,0,0,0,0,0,0,0,0,0,0,0,0,0,0,0,0,0,0,0,0,0,0,0,0,0,0,0,0,0,0,0,0,0,0,0,0,0,0,0,0,0,0,0,0,0,0,0,0,0,0,0,0,0,0,0,0,0,0,0,0,0,0,0,0,0,0,0,0,0,0,0,0,0,0,0,0,0,0,0,0,0,0,0,0,0,0,0,0,0,0,0,0,0,0,0,0,0,0,0,0,0,0,0,0,0,0,0,0,0,0,0,0,0,0,0,0,0,0,0,0,0,0,0,0,0,0,0,0,0,0,0,0,0,0,0,0,0,0,0,0,0,0,0,0,0,0,0,0,0,0,0,0,0,0,0,0,0,0,0,0,0,0,0,0,0,0,0,0,0,0,0,0,0,0,0,0,0,0,0,0,0,0,0,0,0,0,0,0,0,0,0,0,0,0,0,0,0,0,0,0,0,0,0,0,0,0,0,0,0,0,0,0,0,0,0,0,0,0,0,0,0,0,0,0,0,0,0,0,0,0,0,0,0,0,0,0,0,0,0,0,0,0,0,0,0,0,0,0,0,0,0,0,0,0,0,0,0,0,0,0,0,0,0,0,0,0,0,0,0,0,0,0,0,0,0,0,0,0,0,0,0,0,0,0,0,0,0,0,0,0,0,0,0,0,0,0,0,0,0,0,0,0,0,0,0,0,0,0,0,0,0,0,0,0,0,0,0,0,0,0,0,0,0,0,0,0,0,0,0,0,0,0,0,0,0,0,0,0,0,0,0,0,0,0,0,0,0,0,0,0,0,0,0,0,0,0,0,0,0,0,0,0,0,0,0,0,0,0,0,0,0,0,0,0,0,0,0,0,0,0,0,0,0,0,0,0,0,0,0,0,0,0,0,0,0,0,0,0,0,0,0,0,0,0,0,0,0,0,0,0,0,0,0,0,0,0,0,0,0,0,0,0,0,0,0,0,0,0,0,0,0,0,0,0,0,0,0,0,0,0,0,0,0,0,0,0,0,0,0,0,0,0,0,0,0,0,0,0,0,0,0,0,0,0,0,0,0,0,0,0,0,0,0,0,0,0,0,0,0,0,0,0,0,0,0,0,0,0,0,0,0,0,0,0,0,0,0,0,0,0,0,0,0,0,0,0,0,0,0,0,0,0,0,0,0,0,0,0,0,0,0,0,0,0,0,0,0,0,0,0,0,0,0,0,0,0,0,0,0,0,0,0,0,0,0,0,0,0,0,0,0,0,0,0,0,0,0,0,0,0,0,0,0,0,0,0,0,0,0,0,0,0,0,0,0,0,0,0,0,0,0,0,0,0,0,0,0,0,0,0,0,0,0,0,0,0,0,0,0,0,0,0,0,0,0,0,0,0,0,0,0,0,0,0,0,0,0,0,0,0,0,0,0,0,0,0,0,0,0,0,0,0,0,0,0,0,0,0,0,0,0,0,0,0,0,0,0,0,0,0,0,0,0,0,0,0,0,0,0,0,0,0,0,0,0,0,0,0,0,0,0,0,0,0,0,0,0,0,0,0,0,0,0,0,0,0,0,0,0,0,0,0,0,0,0,0,0,0,0,0,0,0,0,0,0,0,0,0,0,0,0,0,0,0,0,0,0,0,0,0,0,0,0,0,0,0,0,0,0,0,0,0,0,0,0,0,0,0,0,0,0,0,0,0,0,0,0,0,0,0,0,0,0,0,0,0,0,0,0,0,0,0,0,0,0,0,0,0,0,0,0,0,0,0,0,0,0,0,0,0,0,0,0,0,0,0,0,0,0,0,0,0,0,0,0,0,0,0,0,0,0,0,0,0,0,0,0,0,0,0,0,0,0,0,0,0,0,0,0,0,0,0,0,0,0,0,0,0,0,0,0,0,0,0,0,0,0,0,0,0,0,0,0,0,0,0,0,0,0,0,0,0,0,0,0,0,0,0,0,0,0,0,0,0,0,0,0,0,0,0,0,0,0,0,0,0,0,0,0,0,0,0,0,0,0,0,0,0,0,0,0,0,0,0,0,0,0,0,0,0,0,0,0,0,0,0,0,0,0,0,0,0,0,0,0,0,0,0,0,0,0,0,0,0,0,0,0,0,0,0,0,0,0,0,0,0,0,0,0,0,0,0,0,0,0,0,0,0,0,0,0,0,0,0,0,0,0,0,0,0,0,0,0,0,0,0,0,0,0,0,0,0,0,0,0,0,0,0,0,0,0,0,0,0,0,0,0,0,0,0,0,0,0,0,0,0,0,0,0,0,0,0,0,0,0,0,0,0,0,0,0,0,0,0,0,0,0,0,0,0,0,0,0,0,0,0,0,0,0,0,0,0,0,0,0,0,0,0,0,0,0,0,0,0,0,0,0,0,0,0,0,0,0,0,0,0,0,0,0,0,0,0,0,0,0,0,0,0,0,0,0,0,0,0,0,0,0,0,0,0,0,0,0,0,0,0,0,0,0,0,0,0,0,0,0,0,0,0,0,0,0,0,0,0,0,0,0,0,0,0,0,0,0,0,0,0,0,0,0,0,0,0,0,0,0,0,0,0,0,0,0,0,0,0,0,0,0,0,0,0,0,0,0,0,0,0,0,0,0,0,0,0,0,0,0,0,0,0,0,0,0,0,0,0,0,0,0,0,0,0,0,0,0,0,0,0,0,0,0,0,0,0,0,0,0,0,0,0,0,0,0,0,0,0,0,0,0,0,0,0,0,0,0,0,0,0,0,0,0,0,0,0,0,0,0,0,0,0,0,0,0,0,0,0,0,0,0,0,0,0,0,0,0,0,0,0,0,0,0,0,0,0,0,0,0,0,0,0,0,0,0,0,0,0,0,0,0,0,0,0,0,0,0,0,0,0,0,0,0,0,0,0,0,0,0,0,0,0,0,0,0,0,0,0,0,0,0,0,0,0,0,0,0,0,0,0,0,0,0,0,0,0,0,0,0,0,0,0,0,0,0,0,0,0,0,0,0,0,0,0,0,0,0,0,0,0,0,0,0,0,0,0,0,0,0,0,0,0,0,0,0,0,0,0,0,0,0,0,0,0,0,0,0,0,0,0,0,0,0,0,0,0,0,0,0,0,0,0,0,0,0,0,0,0,0,0,0,0,0,0,0,0,0,0,0,0,0,0,0,0,0,0,0,0,0,0,0,0,0,0,0,0,0,0,0,0,0,0,0,0,0,0,0,0,0,0,0,0,0,0,0,0,0,0,0,0,0,0,0,0,0,0,0,0,0,0,0,0,0,0,0,0,0,0,0,0,0,0,0,0,0,0,0,0,0,0,0,0,0,0,0,0,0,0,0,0,0,0,0,0,0,0,0,0,0,0,0,0,0,0,0,0,0,0,0,0,0,0,0,0,0,0,0,0,0,0,0,0,0,0,0,0,0,0,0,0,0,0,0,0,0,0,0,0,0,0,0,0,0,0,0,0,0,0,0,0,0,0,0,0,0,0,0,0,0,0,0,0,0,0,0,0,0,0,0,0,0,0,0,0,0,0,0,0,0,0,0,0,0,0,0,0,0,0,0,0,0,0,0,0,0,0,0,0,0,0,0,0,0,0,0,0,0,0,0,0,0,0,0,0,0,0,0,0,0,0,0,0,0,0,0,0,0,0,0,0,0,0,0,0,0,0,0,0,0,0,0,0,0,0,0,0,0,0,0,0,0,0,0,0,0,0,0,0,0,0,0,0,0,0,0,0,0,0,0,0,0,0,0,0,0,0,0,0,0,0,0,0,0,0,0,0,0,0,0,0,0,0,0,0,0,0,0,0,0,0,0,0,0,0,0,0,0,0,0,0,0,0,0,0,0,0,0,0,0,0,0,0,0,0,0,0,0,0,0,0,0,0,0,0,0,0,0,0,0,0,0,0,0,0,0,0,0,0,0,0,0,0,0,0,0,0,0,0,0,0,0,0,0,0,0,0,0,0,0,0,0,0,0,0,0,0,0,0,0,0,0,0,0,0,0,0,0,0,0,0,0,0,0,0,0,0,0,0,0,0,0,0,0,0,0,0,0,0,0,0,0,0,0,0,0,0,0,0,0,0,0,0,0,0,0,0,0,0,0,0,0,0,0,0,0,0,0,0,0,0,0,0,0,0,0,0,0,0,0,0,0,0,0,0,0,0,0,0,0,0,0,0,0,0,0,0,0,0,0,0,0,0,0,0,0,0,0,0,0,0,0,0,0,0,0,0,0,0,0,0,0,0,0,0,0,0,0,0,0,0,0,0,0,0,0,0,0,0,0,0,0,0,0,0,0,0,0,0,0,0,0,0,0,0,0,0,0,0,0,0,0,0,0,0,0,0,0,0,0,0,0,0,0,0,0,0,0,0,0,0,0,0,0,0,0,0,0,0,0,0,0,0,0,0,0,0,0,0,0,0,0,0,0,0,0,0,0,0,0,0,0,0,0,0,0,0,0,0,0,0,0,0,0,0,0,0,0,0,0,0,0,0,0,0,0,0,0,0,0,0,0,0,0,0,0,0,0,0,0,0,0,0,0,0,0,0,0,0,0,0,0,0,0,0,0,0,0,0,0,0,0,0,0,0,0,0,0,0,0,0,0,0,0,0,0,0,0,0,0,0,0,0,0,0,0,0,0,0,0,0,0,0,0,0,0,0,0,0,0,0,0,0,0,0,0,0,0,0,0,0,0,0,0,0,0,0,0,0,0,0,0,0,0,0,0,0,0,0,0,0,0,0,0,0,0,0,0,0,0,0,0,0,0,0,0,0,0,0,0,0,0,0,0,0,0,0,0,0,0,0,0,0,0,0,0,0,0,0,0,0,0,0,0,0,0,0,0,0,0,0,0,0,0,0,0,0,0,0,0,0,0,0,0,0,0,0,0,0,0,0,0,0,0,0,0,0,0,0,0,0,0,0,0,0,0,0,0,0,0,0,0,0,0,0,0,0,0,0,0,0,0,0,0,0,0,0,0,0,0,0,0,0,0,0,0,0,0,0,0,0,0,0,0,0,0,0,0,0,0,0,0,0,0,0,0,0,0,0,0,0,0,0,0,0,0,0,0,0,0,0,0,0,0,0,0,0,0,0,0,0,0,0,0,0,0,0,0,0,0,0,0,0,0,0,0,0,0,0,0,0,0,0,0,0,0,0,0,0,0,0,0,0,0,0,0,0,0,0,0,0,0,0,0,0,0,0,0,0,0,0,0,0,0,0,0,0,0,0,0,0,0,0,0,0,0,0,0,0,0,0,0,0,0,0,0,0,0,0,0,0,0,0,0,0,0,0,0,0,0,0,0,0,0,0,0,0,0,0,0,0,0,0,0,0,0,0,0,0,0,0,0,0,0,0,0,0,0,0,0,0,0,0,0,0,0,0,0,0,0,0,0,0,0,0,0,0,0,0,0,0,0,0,0,0,0,0,0,0,0,0,0,0,0,0,0,0,0,0,0,0,0,0,0,0,0,0,0,0,0,0,0,0,0,0,0,0,0,0,0,0,0,0,0,0,0,0,0,0,0,0,0,0,0,0,0,0,0,0,0,0,0,0,0,0,0,0,0,0,0,0,0,0,0,0,0,0,0,0,0,0,0,0,0,0,0,0,0,0,0,0,0,0,0,0,0,0,0,0,0,0,0,0,0,0,0,0,0,0,0,0,0,0,0,0,0,0,0,0,0,0,0,0,0,0,0,0,0,0,0,0,0,0,0,0,0,0,0,0,0,0,0,0,0,0,0,0,0,0,0,0,0,0,0,0,0,0,0,0,0,0,0,0,0,0,0,0,0,0,0,0,0,0,0,0,0,0,0,0,0,0,0,0,0,0,0,0,0,0,0,0,0,0,0,0,0,0,0,0,0,0,0,0,0,0,0,0,0,0,0,0,0,0,0,0,0,0,0,0,0,0,0,0,0,0,0,0,0,0,0,0,0,0,0,0,0,0,0,0,0,0,0,0,0,0,0,0,0,0,0,0,0,0,0,0,0,0,0,0,0,0,0,0,0,0,0,0,0,0,0,0,0,0,0,0,0,0,0,0,0,0,0,0,0,0,0,0,0,0,0,0,0,0,0,0,0,0,0,0,0,0,0,0,0,0,0,0,0,0,0,0,0,0,0,0,0,0,0,0,0,0,0,0,0,0,0,0,0,0,0,0,0,0,0,0,0,0,0,0,0,0,0,0,0,0,0,0,0,0,0,0,0,0,0,0,0,0,0,0,0,0,0,0,0,0,0,0,0,0,0,0,0,0,0,0,0,0,0,0,0,0,0,0,0,0,0,0,0,0,0,0,0,0,0,0,0,0,0,0,0,0,0,0,0,0,0,0,0,0,0,0,0,0,0,0,0,0,0,0,0,0,0,0,0,0,0,0,0,0,0,0,0,0,0,0,0,0,0,0,0,0,0,0,0,0,0,0,0,0,0,0,0,0,0,0,0,0,0,0,0,0,0,0,0,0,0,0,0,0,0,0,0,0,0,0,0,0,0,0,0,0,0,0,0,0,0,0,0,0,0,0,0,0,0,0,0,0,0,0,0,0,0,0,0,0,0,0,0,0,0,0,0,0,0,0,0,0,0,0,0,0,0,0,0,0,0,0,0,0,0,0,0,0,0,0,0,0,0,0,0,0,0,0,0,0,0,0,0,0,0,0,0,0,0,0,0,0,0,0,0,0,0,0,0,0,0,0,0,0,0,0,0,0,0,0,0,0,0,0,0,0,0,0,0,0,0,0,0,0,0,0,0,0,0,0,0,0,0,0,0,0,0,0,0,0,0,0,0,0,0,0,0,0,0,0,0,0,0,0,0,0,0,0,0,0,0,0,0,0,0,0,0,0,0,0,0,0,0,0,0,0,0,0,0,0,0,0,0,0,0,0,0,0,0,0,0,0,0,0,0,0,0,0,0,0,0,0,0,0,0,0,0,0,0,0,0,0,0,0,0,0,0,0,0,0,0,0,0,0,0,0,0,0,0,0,0,0,0,0,0,0,0,0,0,0,0,0,0,0,0,0,0,0,0,0,0,0,0,0,0,0,0,0,0,0,0,0,0,0,0,0,0,0,0,0,0,0,0,0,0,0,0,0,0,0,0,0,0,0,0,0,0,0,0,0,0,0,0,0,0,0,0,0,0,0,0,0,0,0,0,0,0,0,0,0,0,0,0,0,0,0,0,0,0,0,0,0,0,0,0,0,0,0,0,0,0,0,0,0,0,0,0,0,0,0,0,0,0,0,0,0,0,0,0,0,0,0,0,0,0,0,0,0,0,0,0,0,0,0,0,0,0,0,0,0,0,0,0,0,0,0,0,0,0,0,0,0,0,0,0,0,0,0,0,0,0,0,0,0,0,0,0,0,0,0,0,0,0,0,0,0,0,0,0,0,0,0,0,0,0,0,0,0,0,0,0,0,0,0,0,0,0,0,0,0,0,0,0,0,0,0,0,0,0,0,0,0,0,0,0,0,0,0,0,0,0,0,0,0,0,0,0,0,0,0,0,0,0,0,0,0,0,0,0,0,0,0,0,0,0,0,0,0,0,0,0,0,0,0,0,0,0,0,0,0,0,0,0,0,0,0,0,0,0,0,0,0,0,0,0,0,0,0,0,0,0,0,0,0,0,0,0,0,0,0,0,0,0,0,0,0,0,0,0,0,0,0,0,0,0,0,0,0,0,0,0,0,0,0,0,0,0,0,0,0,0,0,0,0,0,0,0,0,0,0,0,0,0,0,0,0,0,0,0,0,0,0,0,0,0,0,0,0,0,0,0,0,0,0,0,0,0,0,0,0,0,0,0,0,0,0,0,0,0,0,0,0,0,0,0,0,0,0,0,0,0,0,0,0,0,0,0,0,0,0,0,0,0,0,0,0,0,0,0,0,0,0,0,0,0,0,0,0,0,0,0,0,0,0,0,0,0,0,0,0,0,0,0,0,0,0,0,0,0,0,0,0,0,0,0,0,0,0,0,0,0,0,0,0,0,0,0,0,0,0,0,0,0,0,0,0,0,0,0,0,0,0,0,0,0,0,0,0,0,0,0,0,0,0,0,0,0,0,0,0,0,0,0,0,0,0,0,0,0,0,0,0,0,0,0,0,0,0,0,0,0,0,0,0,0,0,0,0,0,0,0,0,0,0,0,0,0,0,0,0,0,0,0,0,0,0,0,0,0,0,0,0,0,0,0,0,0,0,0,0,0,0,0,0,0,0,0,0,0,0,0,0,0,0,0,0,0,0,0,0,0,0,0,0,0,0,0,0,0,0,0,0,0,0,0,0,0,0,0,0,0,0,0,0,0,0,0,0,0,0,0,0,0,0,0,0,0,0,0,0,0,0,0,0,0,0,0,0,0,0,0,0,0,0,0,0,0,0,0,0,0,0,0,0,0,0,0,0,0,0,0,0,0,0,0,0,0,0,0,0,0,0,0,0,0,0,0,0,0,0,0,0,0,0,0,0,0,0,0,0,0,0,0,0,0,0,0,0,0,0,0,0,0,0,0,0,0,0,0,0,0,0,0,0,0,0,0,0,0,0,0,0,0,0,0,0,0,0,0,0,0,0,0,0,0,0,0,0,0,0,0,0,0,0,0,0,0,0,0,0,0,0,0,0,0,0,0,0,0,0,0,0,0,0,0,0,0,0,0,0,0,0,0,0,0,0,0,0,0,0,0,0,0,0,0,0,0,0,0,0,0,0,0,0,0,0,0,0,0,0,0,0,0,0,0,0,0,0,0,0,0,0,0,0,0,0,0,0,0,0,0,0,0,0,0,0,0,0,0,0,0,0,0,0,0,0,0,0,0,0,0,0,0,0,0,0,0,0,0,0,0,0,0,0,0,0,0,0,0,0,0,0,0,0,0,0,0,0,0,0,0,0,0,0,0,0,0,0,0,0,0,0,0,0,0,0,0,0,0,0,0,0,0,0,0,0,0,0,0,0,0,0,0,0,0,0,0,0,0,0,0,0,0,0,0,0,0,0,0,0,0,0,0,0,0,0,0,0,0,0,0,0,0,0,0,0,0,0,0,0,0,0,0,0,0,0,0,0,0,0,0,0,0,0,0,0,0,0,0,0,0,0,0,0,0,0,0,0,0,0,0,0,0,0,0,0,0,0,0,0,0,0,0,0,0,0,0,0,0,0,0,0,0,0,0,0,0,0,0,0,0,0,0,0,0,0,0,0,0,0,0,0,0,0,0,0,0,0,0,0,0,0,0,0,0,0,0,0,0,0,0,0,0,0,0,0,0,0,0,0,0,0,0,0,0,0,0,0,0,0,0,0,0,0,0,0,0,0,0,0,0,0,0,0,0,0,0,0,0,0,0,0,0,0,0,0,0,0,0,0,0,0,0,0,0,0,0,0,0,0,0,0,0,0,0,0,0,0,0,0,0,0,0,0,0,0,0,0,0,0,0,0,0,0,0,0,0,0,0,0,0,0,0,0,0,0,0,0,0,0,0,0,0,0,0,0,0,0,0,0,0,0,0,0,0,0,0,0,0,0,0,0,0,0,0,0,0,0,0,0,0,0,0,0,0,0,0,0,0,0,0,0,0,0,0,0,0,0,0,0,0,0,0,0,0,0,0,0,0,0,0,0,0,0,0,0,0,0,0,0,0,0,0,0,0,0,0,0,0,0,0,0,0,0,0,0,0,0,0,0,0,0,0,0,0,0,0,0,0,0,0,0,0,0,0,0,0,0,0,0,0,0,0,0,0,0,0,0,0,0,0,0,0,0,0,0,0,0,0,0,0,0,0,0,0,0,0,0,0,0,0,0,0,0,0,0,0,0,0,0,0,0,0,0,0,0,0,0,0,0,0,0,0,0,0,0,0,0,0,0,0,0,0,0,0,0,0,0,0,0,0,0,0,0,0,0,0,0,0,0,0,0,0,0,0,0,0,0,0,0,0,0,0,0,0,0,0,0,0,0,0,0,0,0,0,0,0,0,0,0,0,0,0,0,0,0,0,0,0,0,0,0,0,0,0,0,0,0,0,0,0,0,0,0,0,0,0,0,0,0,0,0,0,0,0,0,0,0,0,0,0,0,0,0,0,0,0,0,0,0,0,0,0,0,0,0,0,0,0,0,0,0,0,0,0,0,0,0,0,0,0,0,0,0,0,0,0,0,0,0,0,0,0,0,0,0,0,0,0,0,0,0,0,0,0,0,0,0,0,0,0,0,0,0,0,0,0,0,0,0,0,0,0,0,0,0,0,0,0,0,0,0,0,0,0,0,0,0,0,0,0,0,0,0,0,0,0,0,0,0,0,0,0,0,0,0,0,0,0,0,0,0,0,0,0,0,0,0,0,0,0,0,0,0,0,0,0,0,0,0,0,0,0,0,0,0,0,0,0,0,0,0,0,0,0,0,0,0,0,0,0,0,0,0,0,0,0,0,0,0,0,0,0,0,0,0,0,0,0,0,0,0,0,0,0,0,0,0,0,0,0,0,0,0,0,0,0,0,0,0,0,0,0,0,0,0,0,0,0,0,0,0,0,0,0,0,0,0,0,0,0,0,0,0,0,0,0,0,0,0,0,0,0,0,0,0,0,0,0,0,0,0,0,0,0,0,0,0,0,0,0,0,0,0,0,0,0,0,0,0,0,0,0,0,0,0,0,0,0,0,0,0,0,0,0,0,0,0,0,0,0,0,0,0,0,0,0,0,0,0,0,0,0,0,0,0,0,0,0,0,0,0,0,0,0,0,0,0,0,0,0,0,0,0,0,0,0,0,0,0,0,0,0,0,0,0,0,0,0,0,0,0,0,0,0,0,0,0,0,0,0,0,0,0,0,0,0,0,0,0,0,0,0,0,0,0,0,0,0,0,0,0,0,0,0,0,0,0,0,0,0,0,0,0,0,0,0,0,0,0,0,0,0,0,0,0,0,0,0,0,0,0,0,0,0,0,0,0,0,0,0,0,0,0,0,0,0,0,0,0,0,0,0,0,0,0,0,0,0,0,0,0,0,0,0,0,0,0,0,0,0,0,0,0,0,0,0,0,0,0,0,0,0,0,0,0,0,0,0,0,0,0,0,0,0,0,0,0,0,0,0,0,0,0,0,0,0,0,0,0,0,0,0,0,0,0,0,0,0,0,0,0,0,0,0,0,0,0,0,0,0,0,0,0,0,0,0,0,0,0,0,0,0,0,0,0,0,0,0,0,0,0,0,0,0,0,0,0,0,0,0,0,0,0,0,0,0,0,0,0,0,0,0,0,0,0,0,0,0,0,0,0,0,0,0,0,0,0,0,0,0,0,0,0,0,0,0,0,0,0,0,0,0,0,0,0,0,0,0,0,0,0,0,0,0,0,0,0,0,0,0,0,0,0,0,0,0,0,0,0,0,0,0,0,0,0,0,0,0,0,0,0,0,0,0,0,0,0,0,0,0,0,0,0,0,0,0,0,0,0,0,0,0,0,0,0,0,0,0,0,0,0,0,0,0,0,0,0,0,0,0,0,0,0,0,0,0,0,0,0,0,0,0,0,0,0,0,0,0,0,0,0,0,0,0,0,0,0,0,0,0,0,0,0,0,0,0,0,0,0,0,0,0,0,0,0,0,0,0,0,0,0,0,0,0,0],\"y0\":\" \",\"yaxis\":\"y\",\"type\":\"box\"},{\"alignmentgroup\":\"True\",\"hovertemplate\":\"Churn=%{y}\\u003cbr\\u003eTotal=%{x}\\u003cextra\\u003e\\u003c\\u002fextra\\u003e\",\"legendgroup\":\"1\",\"marker\":{\"color\":\"#EF553B\"},\"name\":\"1\",\"notched\":false,\"offsetgroup\":\"1\",\"orientation\":\"h\",\"showlegend\":true,\"x\":[280.85,1237.85,267.4,2791.5,25.1,1215.6,76.35,30.5,91.1,4036.85,1120.3,19.85,99.75,4059.35,2317.1,1448.8,511.25,1553.95,181.65,1052.4,80.2,63.75,2362.1,70.9,1152.7,6205.5,855.3,474.9,8127.6,676.35,1582.75,371.9,167.3,223.15,75.9,85.55,1444.65,2227.1,1929.35,181.5,651.4,2303.35,58.85,113.85,5036.3,95.45,842.9,453.4,6010.05,2274.35,80.55,2331.3,89.5,48.55,6851.65,740.3,70.1,315.3,330.15,233.7,4443.45,577.6,5885.4,2911.3,3067.2,3432.9,34.7,1943.2,1460.65,272.2,3563.8,139.4,70.45,5574.75,3545.35,229.55,5373.1,5742.9,44.4,215.2,20.9,2598.95,2145.0,1900.25,3001.2,3365.85,5238.9,69.5,79.7,343.95,2467.75,349.65,71.1,70.45,390.85,308.25,70.75,3626.1,2624.25,1146.65,4874.7,829.1,5356.45,135.0,2510.2,1845.9,365.55,6283.3,667.7,1052.35,1820.45,25.25,25.05,3147.5,3678.3,2068.55,402.6,840.1,1544.05,2169.8,162.45,1095.3,1555.65,6886.25,3825.85,2157.95,713.0,25.8,69.25,1504.05,95.0,154.85,4653.85,1060.6,4874.8,5000.2,338.9,364.55,622.9,713.75,321.75,74.45,5509.3,741.7,1400.55,179.35,82.3,56.35,7534.65,197.7,19.3,262.05,296.1,918.6,679.85,154.65,70.85,2122.05,62.25,2550.9,328.95,35.55,4517.25,2088.75,1592.35,259.8,1359.0,723.4,865.55,425.9,5639.05,385.9,31.55,2754.45,45.7,5278.15,1056.95,7689.95,247.25,242.0,544.55,3527.6,788.8,5812.6,526.7,1463.5,1230.25,3183.4,70.8,89.55,7007.6,874.8,20.1,137.6,492.55,24.8,825.7,19.55,70.85,229.6,2868.05,1327.15,69.9,20.15,85.05,1587.55,69.75,69.1,59.75,1313.55,4504.55,1424.95,1348.9,3092.65,834.15,70.65,75.6,169.8,7156.2,74.95,857.2,3233.6,1135.7,520.0,415.95,1067.15,267.35,233.55,114.7,5341.8,1266.1,20.1,114.1,3186.65,195.3,655.9,5283.95,6581.9,1375.15,526.95,372.45,79.9,149.55,2249.95,220.6,1380.1,5149.5,757.1,24.25,834.1,6603.0,20.05,70.3,740.8,424.45,164.85,289.1,1565.7,334.65,89.3,824.75,856.35,7968.85,69.15,5464.65,80.0,58.15,1058.25,4092.85,89.1,1037.75,1068.85,2659.4,20.2,25.7,81.0,6145.85,1095.65,703.55,608.8,4990.25,62.05,2585.95,7723.9,1127.2,333.55,773.65,412.1,1132.75,655.85,593.45,60.1,1384.75,900.5,6822.15,141.5,4242.35,2636.05,160.8,2497.2,338.1,45.15,143.35,1445.3,502.6,832.05,5685.8,1899.65,3124.5,1752.55,49.65,1208.35,244.65,2564.3,727.8,751.65,4273.45,477.7,6110.2,19.45,362.2,3309.25,35.25,449.75,79.55,25.2,2745.2,1496.9,48.6,221.7,69.55,74.2,5071.05,70.15,70.0,1637.4,4187.75,834.2,866.45,242.8,6143.15,1951.0,1907.85,5082.8,2001.5,688.65,70.5,1111.65,582.5,20.15,45.3,20.4,1101.85,1448.6,46.0,73.0,256.25,164.5,7674.55,1893.95,20.5,6710.5,81.95,600.0,1131.2,84.3,74.6,1301.7,523.15,1253.9,2076.2,2496.7,168.2,3624.3,3036.75,204.7,1808.7,324.6,503.6,185.55,418.4,45.6,2698.35,1561.5,2217.15,350.3,106.85,151.3,1129.1,1767.35,45.65,261.25,1422.05,3754.6,1111.85,989.45,4822.85,1062.1,293.3,1742.75,1269.55,4045.65,84.85,546.95,50.8,354.05,438.4,289.3,6579.05,55.2,239.55,3692.85,6017.65,2239.65,115.95,347.65,1096.25,270.7,5438.9,298.45,1430.25,19.9,3058.65,3913.3,342.4,890.6,2890.65,1861.5,4134.85,3050.15,541.9,81.25,523.5,6413.65,53.5,219.65,583.45,916.75,4534.9,6448.05,329.8,2391.8,1127.35,560.6,70.3,1060.2,2109.35,452.7,531.0,4086.3,3273.55,740.0,658.95,68.75,174.3,567.45,69.55,79.5,158.4,3777.15,1233.4,6585.35,5638.3,24.05,237.95,3762.0,506.9,66.95,208.7,266.9,77.15,1164.3,340.85,70.15,225.6,6871.9,3229.65,69.6,201.0,2180.55,746.5,669.0,1145.7,420.2,2169.75,7482.1,898.35,145.0,25.15,455.3,2467.1,2758.15,2368.4,758.6,926.25,181.6,1625.65,181.7,49.55,6903.1,90.75,85.5,184.1,6137.0,930.4,714.15,165.4,1258.3,78.05,971.3,3184.25,762.25,331.9,597.0,45.05,7532.15,4348.65,38.7,2231.05,80.35,4259.3,1258.6,68.65,3856.75,937.5,1727.5,346.2,80.5,79.25,155.8,4016.85,3303.05,20.25,2416.55,6873.75,8684.8,853.0,1157.05,2184.35,333.6,777.3,5508.35,1994.3,36.55,50.6,332.45,424.15,1400.85,20.2,1772.25,518.9,307.4,98.5,1060.2,1607.2,74.45,1078.9,145.4,321.9,573.3,4062.2,3351.55,5617.75,193.8,6125.4,858.6,2745.7,89.9,431.0,1604.5,953.45,85.8,292.85,4213.35,55.4,69.95,88.8,545.15,357.75,43.95,6876.05,35.45,5918.8,947.3,2867.75,91.1,156.35,5453.4,627.4,2572.95,489.45,5124.6,1222.8,270.8,20.1,174.8,347.4,45.85,71.35,100.25,91.7,5069.65,7611.85,4116.15,264.85,5427.05,3017.65,1214.05,742.95,2254.2,1425.45,609.9,95.05,70.25,851.75,330.05,1775.8,7723.7,3759.05,75.05,973.55,76.4,5084.65,1130.85,198.0,3474.05,573.75,2847.4,155.35,3587.25,49.95,3655.45,810.7,2602.9,6341.45,1281.0,1132.35,273.0,462.8,829.55,2387.75,1094.5,1474.75,3046.4,134.35,6786.4,71.0,6287.25,765.5,69.35,547.65,2651.2,1534.75,606.55,70.05,1426.75,19.95,4759.75,256.6,2345.2,1498.2,2661.1,79.45,1270.2,2757.85,74.4,2952.85,6941.2,435.4,55.0,778.1,3110.1,1364.3,1369.8,672.55,75.3,2806.9,644.35,1914.9,165.2,54.9,1457.25,108.15,305.95,46.2,319.15,3021.6,78.65,914.0,288.05,6219.6,190.05,930.45,74.25,2781.85,3229.4,69.1,137.95,88.35,460.25,1222.05,1852.85,74.6,116.65,35.05,1390.6,92.65,1167.8,3520.75,6890.0,74.7,5746.15,36.45,5688.05,1290.0,23.45,529.5,89.15,20.55,5017.9,137.85,673.25,2404.15,139.35,602.55,7133.25,2917.5,1710.45,191.05,696.35,146.9,5893.15,69.1,655.5,59.85,1144.5,8109.8,59.2,19.9,1218.55,497.55,3444.85,45.1,4867.95,443.9,2186.4,1834.95,480.6,50.9,1210.4,3152.5,2804.45,2203.65,91.3,3473.4,669.45,560.85,2369.05,1490.95,521.1,3004.15,59.05,3436.1,54.75,3243.45,1129.75,563.65,893.55,178.5,224.05,5743.05,1973.75,74.4,3182.95,69.55,863.1,639.65,2104.55,1077.5,220.95,108.05,4338.6,416.3,729.95,1169.35,164.3,2728.6,2435.15,273.75,4424.2,528.35,498.1,45.1,33.2,55.8,85.15,317.25,20.25,368.1,469.8,465.05,45.85,2365.15,1463.45,389.1,7176.55,20.5,74.35,679.3,706.6,1471.75,587.1,4113.1,251.75,5029.2,1120.95,50.75,5293.95,279.25,1660.0,142.35,54.35,55.0,5293.4,4527.45,44.4,503.6,1259.0,1511.2,51.15,2470.1,155.65,1863.8,2135.5,74.5,2200.25,196.75,108.7,74.9,4680.05,470.95,940.35,6281.45,35.9,3588.4,196.15,5624.85,327.45,2568.55,69.7,815.5,434.1,69.8,2250.65,153.05,1350.15,6039.9,146.05,112.3,830.7,1194.3,474.8,69.65,7101.5,4547.25,1574.45,5118.95,483.7,846.0,1193.05,2499.3,246.3,325.45,246.5,545.2,19.6,91.7,1334.0,2440.15,2514.5,69.85,2178.6,5510.65,81.1,226.45,635.6,2111.45,3030.6,147.15,1156.1,502.85,734.35,1284.2,2110.15,1789.25,118.3,19.3,96.45,52.2,770.6,990.85,179.25,2978.3,1715.65,70.1,1554.0,906.85,5614.45,195.05,3862.55,24.75,2515.3,20.5,50.1,360.1,70.4,19.45,281.0,663.05,2816.65,20.2,5275.8,5961.1,371.65,60.0,5037.55,19.9,3734.25,68.95,324.3,93.7,1676.95,818.05,2983.8,2265.25,1520.9,1058.6,819.4,2043.45,86.05,4399.5,2649.15,86.0,2868.15,44.9,7250.15,44.1,69.65,2238.5,20.0,2347.9,19.8,214.75,20.15,2862.75,126.05,470.6,661.25,94.6,2697.4,5794.65,188.7,453.75,220.1,939.7,53.55,180.3,355.2,381.3,340.25,3496.3,80.55,2724.6,75.35,5551.15,255.25,4350.1,451.1,270.95,140.7,20.05,50.15,20.6,323.25,75.35,2011.4,3027.4,45.3,669.85,6144.55,242.95,4687.9,45.95,791.75,2655.25,69.8,3467.0,1008.55,291.4,19.95,539.85,160.75,102.5,90.85,620.55,193.6,95.1,880.2,69.5,85.7,75.7,1131.3,733.35,102.75,3409.6,1008.7,649.65,221.9,6465.0,74.7,3105.55,86.6,7856.0,80.85,131.65,187.45,3186.7,7548.1,1133.65,3014.65,184.4,1064.65,298.35,2596.15,2628.6,183.75,178.1,20.2,732.5,973.45,4812.75,1761.45,3132.75,70.6,35.75,486.85,3549.25,613.4,5568.35,2483.05,79.6,3475.55,442.85,101.45,2257.75,7318.2,257.05,868.5,6529.25,576.65,2012.7,4820.15,6547.7,77.75,2431.35,272.15,41.85,94.55,113.35,80.25,2874.15,7446.9,19.25,5440.9,19.9,1046.1,2254.2,916.9,4853.75,4458.15,69.75,69.85,45.3,172.85,75.3,1529.2,279.55,754.65,2812.2,216.75,1855.65,297.3,70.0,2095.0,482.8,85.45,1782.4,374.5,20.95,161.5,180.25,1032.0,1115.15,96.05,4718.25,210.75,60.15,77.15,404.2,77.5,288.05,45.4,45.05,857.25,494.05,5435.6,152.45,302.75,934.1,7348.8,108.95,1970.5,19.4,90.6,139.05,2716.3,1875.55,134.7,75.45,228.4,454.15,31.35,519.15,69.9,365.35,1931.75,69.4,4888.7,1115.2,168.15,999.45,2319.8,1133.9,56.25,1505.85,79.35,1761.05,1081.45,467.55,70.6,1465.75,229.55,680.05,1687.95,334.8,3019.25,79.05,738.2,4364.1,3706.95,654.85,2088.8,713.1,2277.65,446.05,1470.95,2276.95,329.95,3744.05,25.1,2755.35,3937.45,1240.25,316.9,415.55,80.15,1422.1,6615.15,1515.1,575.45,384.5,267.6,19.1,1378.25,45.65,71.55,19.65,44.35,259.8,260.9,144.55,235.5,4254.85,4065.0,909.25,4600.7,217.55,1502.65,919.4,1206.05,131.05,994.8,85.0,131.05,553.0,3160.55,5610.25,178.7,1910.6,2405.05,1730.35,2587.7,130.1,7262.0,2384.15,2854.55,29.95,1776.55,1099.6,819.55,997.65,896.9,1734.5,794.25,130.75,3912.9,811.8,3029.1,95.6,74.9,2122.45,24.8,78.8,299.2,659.65,5293.2,73.6,3207.55,5121.3,2342.2,434.5,2660.2,416.45,1539.45,68.5,229.5,6975.25,401.1,586.05,3941.7,69.35,80.8,4749.15,165.45,6056.15,294.45,673.1,69.6,73.55,4026.4,93.3,1021.8,248.95,2967.35,3515.25,79.2,810.2,4367.35,44.45,2291.2,28.3,2524.45,5124.55,50.5,1415.55,19.7,79.55,55.7,216.9,2530.4,2416.1,6383.35,5485.5,4872.45,70.3,4323.45,6418.9,4759.85,215.8,2139.2,1842.8,4042.3,1145.35,50.55,378.4,1301.0,43.3,541.15,3078.1,2351.8,346.4,5426.85,3969.4,21.0,5921.35,81.7,64.55,5785.5,6859.5,6428.4,6127.6,1244.5,1758.6,300.8,1616.15,4533.7,1888.65,19.75,95.65,221.35,665.45,48.95,1422.65,84.8,365.4,2433.9,75.75,3580.3,2710.25,50.65,1107.25,3615.6,76.35,201.1,1389.2,412.5,2177.45,287.4,42.9,76.0,3605.2,762.1,44.4,20.85,3266.0,4370.25,6937.95,119.75,74.9,1174.35,556.35,712.85,170.85,3395.8,1622.45,45.95,5643.4,5549.4,45.3,6979.8,205.05,2407.3,399.6,847.3,2171.15,84.5,6405.0,606.25,2015.35,3264.45,3171.15,4414.3,69.95,1201.15,74.5,102.45,143.65,69.25,6985.65,1048.85,100.8,167.5,370.65,780.5,156.4,19.75,442.2,1836.25,25.3,3969.35,813.85,50.45,2460.15,69.65,1993.8,132.2,90.55,4689.5,90.55,396.3,184.65,7690.9,987.95,455.5,301.4,45.75,4481.0,92.45,208.85,99.75,853.1,1329.2,71.0,878.35,480.75,20.9,1200.15,994.55,633.4,631.85,4816.7,4515.85,4211.55,321.65,79.15,633.3,1178.25,84.65,1235.55,418.8,1441.1,1148.1,3264.5,1712.7,145.15,2498.4,3959.35,512.45,6215.35,324.25,19.5,1573.7,415.55,45.3,147.15,231.8,115.1,104.2,123.65,260.8,46.3,79.6,75.8,151.8,4512.7,871.4,1059.55,2541.25,97.1,1338.15,49.9,837.95,2839.65,7432.05,522.95,1054.6,4541.2,2497.35,69.2,44.15,69.6,3201.55,127.1,937.6,385.0,7040.85,1917.1,4029.95,2452.7,3198.6,40.1,2954.5,415.05,6396.45,438.25,144.15,6981.35,50.45,3066.45,1527.5,856.65,1742.95,1238.45,305.55,100.4,409.9,166.3,1934.45,45.8,1553.9,20.2,84.5,156.25,44.65,196.9,20.15,1254.7,35.85,35.9,1308.4,72.4,4740.0,93.7,3046.05,20.55,80.3,69.4,552.95,2555.9,2354.8,24.8,293.65,889.9,740.3,3233.85,134.5,2119.5,2282.55,19.6,632.95,69.95,712.75,1217.25,2293.6,4138.05,1147.45,1716.45,71.35,70.55,146.3,79.65,762.5,69.65,2287.25,1483.25,799.65,446.1,20.3,5769.6,45.1,265.35,181.1,396.1,305.55,4284.8,2483.5,604.7,93.85,1747.85,5265.1,1105.4,4154.8,2625.55,593.75,159.45,438.0,7804.15,903.6,793.55,196.95,1581.2,941.0,237.75,25.2,47.5,3361.05,4913.3,50.45,2931.0,1046.5,20.2,4533.9,19.65,1180.95,914.3,90.35,660.9,306.6,151.3,74.35,4388.4,69.6,71.65,764.95,3384.0,2448.75,3480.0,1236.15,167.3,449.75,477.55,2317.1,189.2,2070.6,990.9,318.9,5224.35,113.55,73.65,461.7,318.5,1424.5,1308.1,692.1,1345.55,1025.95,1625.0,331.3,2165.05,79.1,6440.25,264.8,249.95,86.6,4783.5,679.55,3217.55,4146.05,2934.3,2542.45,2375.4,5154.6,7220.35,4871.05,927.35,299.7,165.0,71.65,118.5,6441.4,30.2,209.1,1023.9,1692.6,2841.55,527.9,4186.3,2995.45,347.25,223.45,2196.15,78.95,219.0,4750.95,303.15,4398.15,1093.1,403.35,90.6,39.65,521.3,1776.95,245.2,1029.75,159.15,585.95,7372.65,75.1,3204.65,80.05,168.15,141.45,668.4,3653.35,1162.85,5763.3,1451.9,830.85,2979.5,2896.4,169.05,700.85,309.1,3019.5,1359.7,2187.55,803.3,84.6,5127.95,152.7,78.65,4837.6,2933.2,646.85,235.1,2718.3,50.35,58.9,1047.7,79.55,536.4,185.6,237.25,872.65,1880.85,191.35,1597.25,7752.3,805.1,291.9,50.55,1233.65,1182.55,6014.85,7299.65,389.6,5610.7,1451.6,899.8,45.7,85.45,676.7,24.45,4941.8,4594.95,1454.15,3326.2,973.25,2361.8,19.45,1139.2,2264.05,1777.9,496.9,706.85,450.8,1531.4,94.4,24.6,292.8,151.65,305.1,76.45,5916.45,413.65,2653.65,1704.95,2274.9,169.45,308.7,85.0,896.75,2869.85,94.0,79.95,820.5,210.3,159.4,18.85,1358.85,4830.25,662.65,2656.5,3715.65,933.3,950.2,74.7,268.35,4627.85,4131.95,1639.3,1426.4,341.45,1178.4,76.2,3457.9,44.7,620.35,206.6,2447.95,892.65,71.15,3541.35,1527.35,93.55,79.35,1779.95,40.2,6254.2,1612.75,29.7,2335.3,608.0,551.35,193.6,1312.15,51.25,365.65,2597.6,6252.9,2838.7,222.3,1043.35,4528.0,2866.45,2566.5,2642.05,240.45,5940.85,952.3,50.8,3046.15,5769.75,1617.5,4400.75,49.25,1172.95,514.0,1036.75,144.55,1740.7,4056.75,1974.8,90.85,69.2,53.95,106.55,923.5,73.5,387.2,3807.35,75.3,3994.45,69.9,2082.95,501.0,2576.2,1149.65,45.7,3474.45,7491.75,242.05,463.05,809.75,228.0,1043.3,4346.4,2010.55,1532.45,1743.5,171.15,78.45,832.35,74.3,250.05,3640.45,25.05,2381.55,1072.0,865.8,75.3,307.4,1074.3,3013.05,2030.3,790.15,70.15,85.5,1873.7],\"x0\":\" \",\"xaxis\":\"x\",\"y\":[1,1,1,1,1,1,1,1,1,1,1,1,1,1,1,1,1,1,1,1,1,1,1,1,1,1,1,1,1,1,1,1,1,1,1,1,1,1,1,1,1,1,1,1,1,1,1,1,1,1,1,1,1,1,1,1,1,1,1,1,1,1,1,1,1,1,1,1,1,1,1,1,1,1,1,1,1,1,1,1,1,1,1,1,1,1,1,1,1,1,1,1,1,1,1,1,1,1,1,1,1,1,1,1,1,1,1,1,1,1,1,1,1,1,1,1,1,1,1,1,1,1,1,1,1,1,1,1,1,1,1,1,1,1,1,1,1,1,1,1,1,1,1,1,1,1,1,1,1,1,1,1,1,1,1,1,1,1,1,1,1,1,1,1,1,1,1,1,1,1,1,1,1,1,1,1,1,1,1,1,1,1,1,1,1,1,1,1,1,1,1,1,1,1,1,1,1,1,1,1,1,1,1,1,1,1,1,1,1,1,1,1,1,1,1,1,1,1,1,1,1,1,1,1,1,1,1,1,1,1,1,1,1,1,1,1,1,1,1,1,1,1,1,1,1,1,1,1,1,1,1,1,1,1,1,1,1,1,1,1,1,1,1,1,1,1,1,1,1,1,1,1,1,1,1,1,1,1,1,1,1,1,1,1,1,1,1,1,1,1,1,1,1,1,1,1,1,1,1,1,1,1,1,1,1,1,1,1,1,1,1,1,1,1,1,1,1,1,1,1,1,1,1,1,1,1,1,1,1,1,1,1,1,1,1,1,1,1,1,1,1,1,1,1,1,1,1,1,1,1,1,1,1,1,1,1,1,1,1,1,1,1,1,1,1,1,1,1,1,1,1,1,1,1,1,1,1,1,1,1,1,1,1,1,1,1,1,1,1,1,1,1,1,1,1,1,1,1,1,1,1,1,1,1,1,1,1,1,1,1,1,1,1,1,1,1,1,1,1,1,1,1,1,1,1,1,1,1,1,1,1,1,1,1,1,1,1,1,1,1,1,1,1,1,1,1,1,1,1,1,1,1,1,1,1,1,1,1,1,1,1,1,1,1,1,1,1,1,1,1,1,1,1,1,1,1,1,1,1,1,1,1,1,1,1,1,1,1,1,1,1,1,1,1,1,1,1,1,1,1,1,1,1,1,1,1,1,1,1,1,1,1,1,1,1,1,1,1,1,1,1,1,1,1,1,1,1,1,1,1,1,1,1,1,1,1,1,1,1,1,1,1,1,1,1,1,1,1,1,1,1,1,1,1,1,1,1,1,1,1,1,1,1,1,1,1,1,1,1,1,1,1,1,1,1,1,1,1,1,1,1,1,1,1,1,1,1,1,1,1,1,1,1,1,1,1,1,1,1,1,1,1,1,1,1,1,1,1,1,1,1,1,1,1,1,1,1,1,1,1,1,1,1,1,1,1,1,1,1,1,1,1,1,1,1,1,1,1,1,1,1,1,1,1,1,1,1,1,1,1,1,1,1,1,1,1,1,1,1,1,1,1,1,1,1,1,1,1,1,1,1,1,1,1,1,1,1,1,1,1,1,1,1,1,1,1,1,1,1,1,1,1,1,1,1,1,1,1,1,1,1,1,1,1,1,1,1,1,1,1,1,1,1,1,1,1,1,1,1,1,1,1,1,1,1,1,1,1,1,1,1,1,1,1,1,1,1,1,1,1,1,1,1,1,1,1,1,1,1,1,1,1,1,1,1,1,1,1,1,1,1,1,1,1,1,1,1,1,1,1,1,1,1,1,1,1,1,1,1,1,1,1,1,1,1,1,1,1,1,1,1,1,1,1,1,1,1,1,1,1,1,1,1,1,1,1,1,1,1,1,1,1,1,1,1,1,1,1,1,1,1,1,1,1,1,1,1,1,1,1,1,1,1,1,1,1,1,1,1,1,1,1,1,1,1,1,1,1,1,1,1,1,1,1,1,1,1,1,1,1,1,1,1,1,1,1,1,1,1,1,1,1,1,1,1,1,1,1,1,1,1,1,1,1,1,1,1,1,1,1,1,1,1,1,1,1,1,1,1,1,1,1,1,1,1,1,1,1,1,1,1,1,1,1,1,1,1,1,1,1,1,1,1,1,1,1,1,1,1,1,1,1,1,1,1,1,1,1,1,1,1,1,1,1,1,1,1,1,1,1,1,1,1,1,1,1,1,1,1,1,1,1,1,1,1,1,1,1,1,1,1,1,1,1,1,1,1,1,1,1,1,1,1,1,1,1,1,1,1,1,1,1,1,1,1,1,1,1,1,1,1,1,1,1,1,1,1,1,1,1,1,1,1,1,1,1,1,1,1,1,1,1,1,1,1,1,1,1,1,1,1,1,1,1,1,1,1,1,1,1,1,1,1,1,1,1,1,1,1,1,1,1,1,1,1,1,1,1,1,1,1,1,1,1,1,1,1,1,1,1,1,1,1,1,1,1,1,1,1,1,1,1,1,1,1,1,1,1,1,1,1,1,1,1,1,1,1,1,1,1,1,1,1,1,1,1,1,1,1,1,1,1,1,1,1,1,1,1,1,1,1,1,1,1,1,1,1,1,1,1,1,1,1,1,1,1,1,1,1,1,1,1,1,1,1,1,1,1,1,1,1,1,1,1,1,1,1,1,1,1,1,1,1,1,1,1,1,1,1,1,1,1,1,1,1,1,1,1,1,1,1,1,1,1,1,1,1,1,1,1,1,1,1,1,1,1,1,1,1,1,1,1,1,1,1,1,1,1,1,1,1,1,1,1,1,1,1,1,1,1,1,1,1,1,1,1,1,1,1,1,1,1,1,1,1,1,1,1,1,1,1,1,1,1,1,1,1,1,1,1,1,1,1,1,1,1,1,1,1,1,1,1,1,1,1,1,1,1,1,1,1,1,1,1,1,1,1,1,1,1,1,1,1,1,1,1,1,1,1,1,1,1,1,1,1,1,1,1,1,1,1,1,1,1,1,1,1,1,1,1,1,1,1,1,1,1,1,1,1,1,1,1,1,1,1,1,1,1,1,1,1,1,1,1,1,1,1,1,1,1,1,1,1,1,1,1,1,1,1,1,1,1,1,1,1,1,1,1,1,1,1,1,1,1,1,1,1,1,1,1,1,1,1,1,1,1,1,1,1,1,1,1,1,1,1,1,1,1,1,1,1,1,1,1,1,1,1,1,1,1,1,1,1,1,1,1,1,1,1,1,1,1,1,1,1,1,1,1,1,1,1,1,1,1,1,1,1,1,1,1,1,1,1,1,1,1,1,1,1,1,1,1,1,1,1,1,1,1,1,1,1,1,1,1,1,1,1,1,1,1,1,1,1,1,1,1,1,1,1,1,1,1,1,1,1,1,1,1,1,1,1,1,1,1,1,1,1,1,1,1,1,1,1,1,1,1,1,1,1,1,1,1,1,1,1,1,1,1,1,1,1,1,1,1,1,1,1,1,1,1,1,1,1,1,1,1,1,1,1,1,1,1,1,1,1,1,1,1,1,1,1,1,1,1,1,1,1,1,1,1,1,1,1,1,1,1,1,1,1,1,1,1,1,1,1,1,1,1,1,1,1,1,1,1,1,1,1,1,1,1,1,1,1,1,1,1,1,1,1,1,1,1,1,1,1,1,1,1,1,1,1,1,1,1,1,1,1,1,1,1,1,1,1,1,1,1,1,1,1,1,1,1,1,1,1,1,1,1,1,1,1,1,1,1,1,1,1,1,1,1,1,1,1,1,1,1,1,1,1,1,1,1,1,1,1,1,1,1,1,1,1,1,1,1,1,1,1,1,1,1,1,1,1,1,1,1,1,1,1,1,1,1,1,1,1,1,1,1,1,1,1,1,1,1,1,1,1,1,1,1,1,1,1,1,1,1,1,1,1,1,1,1,1,1,1,1,1,1,1,1,1,1,1,1,1,1,1,1,1,1,1,1,1,1,1,1,1,1,1,1,1,1,1,1,1,1,1,1,1,1,1,1,1,1,1,1,1,1,1,1,1,1,1,1,1,1,1,1,1,1,1,1,1,1,1,1,1,1,1,1,1,1,1,1,1,1,1,1,1,1,1,1,1,1,1,1,1,1,1,1,1,1,1,1,1,1,1,1,1,1,1,1,1,1,1,1,1,1,1,1,1,1,1,1,1,1,1,1,1,1,1,1,1,1,1,1,1,1,1,1,1,1,1,1,1,1,1,1,1,1,1,1,1,1,1,1,1,1,1,1,1,1,1,1,1,1,1,1,1],\"y0\":\" \",\"yaxis\":\"y\",\"type\":\"box\"}],                        {\"template\":{\"data\":{\"histogram2dcontour\":[{\"type\":\"histogram2dcontour\",\"colorbar\":{\"outlinewidth\":0,\"ticks\":\"\"},\"colorscale\":[[0.0,\"#0d0887\"],[0.1111111111111111,\"#46039f\"],[0.2222222222222222,\"#7201a8\"],[0.3333333333333333,\"#9c179e\"],[0.4444444444444444,\"#bd3786\"],[0.5555555555555556,\"#d8576b\"],[0.6666666666666666,\"#ed7953\"],[0.7777777777777778,\"#fb9f3a\"],[0.8888888888888888,\"#fdca26\"],[1.0,\"#f0f921\"]]}],\"choropleth\":[{\"type\":\"choropleth\",\"colorbar\":{\"outlinewidth\":0,\"ticks\":\"\"}}],\"histogram2d\":[{\"type\":\"histogram2d\",\"colorbar\":{\"outlinewidth\":0,\"ticks\":\"\"},\"colorscale\":[[0.0,\"#0d0887\"],[0.1111111111111111,\"#46039f\"],[0.2222222222222222,\"#7201a8\"],[0.3333333333333333,\"#9c179e\"],[0.4444444444444444,\"#bd3786\"],[0.5555555555555556,\"#d8576b\"],[0.6666666666666666,\"#ed7953\"],[0.7777777777777778,\"#fb9f3a\"],[0.8888888888888888,\"#fdca26\"],[1.0,\"#f0f921\"]]}],\"heatmap\":[{\"type\":\"heatmap\",\"colorbar\":{\"outlinewidth\":0,\"ticks\":\"\"},\"colorscale\":[[0.0,\"#0d0887\"],[0.1111111111111111,\"#46039f\"],[0.2222222222222222,\"#7201a8\"],[0.3333333333333333,\"#9c179e\"],[0.4444444444444444,\"#bd3786\"],[0.5555555555555556,\"#d8576b\"],[0.6666666666666666,\"#ed7953\"],[0.7777777777777778,\"#fb9f3a\"],[0.8888888888888888,\"#fdca26\"],[1.0,\"#f0f921\"]]}],\"heatmapgl\":[{\"type\":\"heatmapgl\",\"colorbar\":{\"outlinewidth\":0,\"ticks\":\"\"},\"colorscale\":[[0.0,\"#0d0887\"],[0.1111111111111111,\"#46039f\"],[0.2222222222222222,\"#7201a8\"],[0.3333333333333333,\"#9c179e\"],[0.4444444444444444,\"#bd3786\"],[0.5555555555555556,\"#d8576b\"],[0.6666666666666666,\"#ed7953\"],[0.7777777777777778,\"#fb9f3a\"],[0.8888888888888888,\"#fdca26\"],[1.0,\"#f0f921\"]]}],\"contourcarpet\":[{\"type\":\"contourcarpet\",\"colorbar\":{\"outlinewidth\":0,\"ticks\":\"\"}}],\"contour\":[{\"type\":\"contour\",\"colorbar\":{\"outlinewidth\":0,\"ticks\":\"\"},\"colorscale\":[[0.0,\"#0d0887\"],[0.1111111111111111,\"#46039f\"],[0.2222222222222222,\"#7201a8\"],[0.3333333333333333,\"#9c179e\"],[0.4444444444444444,\"#bd3786\"],[0.5555555555555556,\"#d8576b\"],[0.6666666666666666,\"#ed7953\"],[0.7777777777777778,\"#fb9f3a\"],[0.8888888888888888,\"#fdca26\"],[1.0,\"#f0f921\"]]}],\"surface\":[{\"type\":\"surface\",\"colorbar\":{\"outlinewidth\":0,\"ticks\":\"\"},\"colorscale\":[[0.0,\"#0d0887\"],[0.1111111111111111,\"#46039f\"],[0.2222222222222222,\"#7201a8\"],[0.3333333333333333,\"#9c179e\"],[0.4444444444444444,\"#bd3786\"],[0.5555555555555556,\"#d8576b\"],[0.6666666666666666,\"#ed7953\"],[0.7777777777777778,\"#fb9f3a\"],[0.8888888888888888,\"#fdca26\"],[1.0,\"#f0f921\"]]}],\"mesh3d\":[{\"type\":\"mesh3d\",\"colorbar\":{\"outlinewidth\":0,\"ticks\":\"\"}}],\"scatter\":[{\"fillpattern\":{\"fillmode\":\"overlay\",\"size\":10,\"solidity\":0.2},\"type\":\"scatter\"}],\"parcoords\":[{\"type\":\"parcoords\",\"line\":{\"colorbar\":{\"outlinewidth\":0,\"ticks\":\"\"}}}],\"scatterpolargl\":[{\"type\":\"scatterpolargl\",\"marker\":{\"colorbar\":{\"outlinewidth\":0,\"ticks\":\"\"}}}],\"bar\":[{\"error_x\":{\"color\":\"#2a3f5f\"},\"error_y\":{\"color\":\"#2a3f5f\"},\"marker\":{\"line\":{\"color\":\"#E5ECF6\",\"width\":0.5},\"pattern\":{\"fillmode\":\"overlay\",\"size\":10,\"solidity\":0.2}},\"type\":\"bar\"}],\"scattergeo\":[{\"type\":\"scattergeo\",\"marker\":{\"colorbar\":{\"outlinewidth\":0,\"ticks\":\"\"}}}],\"scatterpolar\":[{\"type\":\"scatterpolar\",\"marker\":{\"colorbar\":{\"outlinewidth\":0,\"ticks\":\"\"}}}],\"histogram\":[{\"marker\":{\"pattern\":{\"fillmode\":\"overlay\",\"size\":10,\"solidity\":0.2}},\"type\":\"histogram\"}],\"scattergl\":[{\"type\":\"scattergl\",\"marker\":{\"colorbar\":{\"outlinewidth\":0,\"ticks\":\"\"}}}],\"scatter3d\":[{\"type\":\"scatter3d\",\"line\":{\"colorbar\":{\"outlinewidth\":0,\"ticks\":\"\"}},\"marker\":{\"colorbar\":{\"outlinewidth\":0,\"ticks\":\"\"}}}],\"scattermapbox\":[{\"type\":\"scattermapbox\",\"marker\":{\"colorbar\":{\"outlinewidth\":0,\"ticks\":\"\"}}}],\"scatterternary\":[{\"type\":\"scatterternary\",\"marker\":{\"colorbar\":{\"outlinewidth\":0,\"ticks\":\"\"}}}],\"scattercarpet\":[{\"type\":\"scattercarpet\",\"marker\":{\"colorbar\":{\"outlinewidth\":0,\"ticks\":\"\"}}}],\"carpet\":[{\"aaxis\":{\"endlinecolor\":\"#2a3f5f\",\"gridcolor\":\"white\",\"linecolor\":\"white\",\"minorgridcolor\":\"white\",\"startlinecolor\":\"#2a3f5f\"},\"baxis\":{\"endlinecolor\":\"#2a3f5f\",\"gridcolor\":\"white\",\"linecolor\":\"white\",\"minorgridcolor\":\"white\",\"startlinecolor\":\"#2a3f5f\"},\"type\":\"carpet\"}],\"table\":[{\"cells\":{\"fill\":{\"color\":\"#EBF0F8\"},\"line\":{\"color\":\"white\"}},\"header\":{\"fill\":{\"color\":\"#C8D4E3\"},\"line\":{\"color\":\"white\"}},\"type\":\"table\"}],\"barpolar\":[{\"marker\":{\"line\":{\"color\":\"#E5ECF6\",\"width\":0.5},\"pattern\":{\"fillmode\":\"overlay\",\"size\":10,\"solidity\":0.2}},\"type\":\"barpolar\"}],\"pie\":[{\"automargin\":true,\"type\":\"pie\"}]},\"layout\":{\"autotypenumbers\":\"strict\",\"colorway\":[\"#636efa\",\"#EF553B\",\"#00cc96\",\"#ab63fa\",\"#FFA15A\",\"#19d3f3\",\"#FF6692\",\"#B6E880\",\"#FF97FF\",\"#FECB52\"],\"font\":{\"color\":\"#2a3f5f\"},\"hovermode\":\"closest\",\"hoverlabel\":{\"align\":\"left\"},\"paper_bgcolor\":\"white\",\"plot_bgcolor\":\"#E5ECF6\",\"polar\":{\"bgcolor\":\"#E5ECF6\",\"angularaxis\":{\"gridcolor\":\"white\",\"linecolor\":\"white\",\"ticks\":\"\"},\"radialaxis\":{\"gridcolor\":\"white\",\"linecolor\":\"white\",\"ticks\":\"\"}},\"ternary\":{\"bgcolor\":\"#E5ECF6\",\"aaxis\":{\"gridcolor\":\"white\",\"linecolor\":\"white\",\"ticks\":\"\"},\"baxis\":{\"gridcolor\":\"white\",\"linecolor\":\"white\",\"ticks\":\"\"},\"caxis\":{\"gridcolor\":\"white\",\"linecolor\":\"white\",\"ticks\":\"\"}},\"coloraxis\":{\"colorbar\":{\"outlinewidth\":0,\"ticks\":\"\"}},\"colorscale\":{\"sequential\":[[0.0,\"#0d0887\"],[0.1111111111111111,\"#46039f\"],[0.2222222222222222,\"#7201a8\"],[0.3333333333333333,\"#9c179e\"],[0.4444444444444444,\"#bd3786\"],[0.5555555555555556,\"#d8576b\"],[0.6666666666666666,\"#ed7953\"],[0.7777777777777778,\"#fb9f3a\"],[0.8888888888888888,\"#fdca26\"],[1.0,\"#f0f921\"]],\"sequentialminus\":[[0.0,\"#0d0887\"],[0.1111111111111111,\"#46039f\"],[0.2222222222222222,\"#7201a8\"],[0.3333333333333333,\"#9c179e\"],[0.4444444444444444,\"#bd3786\"],[0.5555555555555556,\"#d8576b\"],[0.6666666666666666,\"#ed7953\"],[0.7777777777777778,\"#fb9f3a\"],[0.8888888888888888,\"#fdca26\"],[1.0,\"#f0f921\"]],\"diverging\":[[0,\"#8e0152\"],[0.1,\"#c51b7d\"],[0.2,\"#de77ae\"],[0.3,\"#f1b6da\"],[0.4,\"#fde0ef\"],[0.5,\"#f7f7f7\"],[0.6,\"#e6f5d0\"],[0.7,\"#b8e186\"],[0.8,\"#7fbc41\"],[0.9,\"#4d9221\"],[1,\"#276419\"]]},\"xaxis\":{\"gridcolor\":\"white\",\"linecolor\":\"white\",\"ticks\":\"\",\"title\":{\"standoff\":15},\"zerolinecolor\":\"white\",\"automargin\":true,\"zerolinewidth\":2},\"yaxis\":{\"gridcolor\":\"white\",\"linecolor\":\"white\",\"ticks\":\"\",\"title\":{\"standoff\":15},\"zerolinecolor\":\"white\",\"automargin\":true,\"zerolinewidth\":2},\"scene\":{\"xaxis\":{\"backgroundcolor\":\"#E5ECF6\",\"gridcolor\":\"white\",\"linecolor\":\"white\",\"showbackground\":true,\"ticks\":\"\",\"zerolinecolor\":\"white\",\"gridwidth\":2},\"yaxis\":{\"backgroundcolor\":\"#E5ECF6\",\"gridcolor\":\"white\",\"linecolor\":\"white\",\"showbackground\":true,\"ticks\":\"\",\"zerolinecolor\":\"white\",\"gridwidth\":2},\"zaxis\":{\"backgroundcolor\":\"#E5ECF6\",\"gridcolor\":\"white\",\"linecolor\":\"white\",\"showbackground\":true,\"ticks\":\"\",\"zerolinecolor\":\"white\",\"gridwidth\":2}},\"shapedefaults\":{\"line\":{\"color\":\"#2a3f5f\"}},\"annotationdefaults\":{\"arrowcolor\":\"#2a3f5f\",\"arrowhead\":0,\"arrowwidth\":1},\"geo\":{\"bgcolor\":\"white\",\"landcolor\":\"#E5ECF6\",\"subunitcolor\":\"white\",\"showland\":true,\"showlakes\":true,\"lakecolor\":\"white\"},\"title\":{\"x\":0.05},\"mapbox\":{\"style\":\"light\"}}},\"xaxis\":{\"anchor\":\"y\",\"domain\":[0.0,1.0],\"title\":{\"text\":\"Total\"}},\"yaxis\":{\"anchor\":\"x\",\"domain\":[0.0,1.0],\"title\":{\"text\":\"Churn\"},\"categoryorder\":\"array\",\"categoryarray\":[1,0],\"tickmode\":\"array\",\"tickvals\":[0,1],\"ticktext\":[\"No calcelaron (Churn = 0)\",\"Canceló (Churn = 1)\"]},\"legend\":{\"title\":{\"text\":\"Churn\"},\"tracegroupgap\":0},\"title\":{\"text\":\"Distribución de cancelación por el gasto total\"},\"boxmode\":\"overlay\"},                        {\"responsive\": true}                    ).then(function(){\n",
              "                            \n",
              "var gd = document.getElementById('09573e49-2794-48c0-b8ba-bd10efeb964f');\n",
              "var x = new MutationObserver(function (mutations, observer) {{\n",
              "        var display = window.getComputedStyle(gd).display;\n",
              "        if (!display || display === 'none') {{\n",
              "            console.log([gd, 'removed!']);\n",
              "            Plotly.purge(gd);\n",
              "            observer.disconnect();\n",
              "        }}\n",
              "}});\n",
              "\n",
              "// Listen for the removal of the full notebook cells\n",
              "var notebookContainer = gd.closest('#notebook-container');\n",
              "if (notebookContainer) {{\n",
              "    x.observe(notebookContainer, {childList: true});\n",
              "}}\n",
              "\n",
              "// Listen for the clearing of the current output cell\n",
              "var outputEl = gd.closest('.output');\n",
              "if (outputEl) {{\n",
              "    x.observe(outputEl, {childList: true});\n",
              "}}\n",
              "\n",
              "                        })                };                            </script>        </div>\n",
              "</body>\n",
              "</html>"
            ]
          },
          "metadata": {}
        }
      ]
    },
    {
      "cell_type": "markdown",
      "source": [
        "# **Modelado Predictivo**"
      ],
      "metadata": {
        "id": "MYvJVfqsxeJu"
      }
    },
    {
      "cell_type": "markdown",
      "source": [
        "## **1 - Separación de Datos**"
      ],
      "metadata": {
        "id": "wmiGGm4kxi7b"
      }
    },
    {
      "cell_type": "code",
      "source": [
        "from sklearn.model_selection import train_test_split"
      ],
      "metadata": {
        "id": "-RE2ybL4xyGI"
      },
      "execution_count": 30,
      "outputs": []
    },
    {
      "cell_type": "markdown",
      "source": [
        "### Conjunto de entrenamiento y prueba con Oversampling y datos Normalizados"
      ],
      "metadata": {
        "id": "r0X9GUvi_TQS"
      }
    },
    {
      "cell_type": "code",
      "source": [
        "X_train_os, X_test_os, y_train_os, y_test_os = train_test_split(X_oversampling_norm, y_oversampling, test_size=0.2, random_state=5)"
      ],
      "metadata": {
        "id": "Z9fYkwta-C-s"
      },
      "execution_count": 31,
      "outputs": []
    },
    {
      "cell_type": "markdown",
      "source": [
        "### Conjunto de entrenamiento y prueba con Undersampling y datos Normalizados"
      ],
      "metadata": {
        "id": "qKhfQvF8_7e1"
      }
    },
    {
      "cell_type": "code",
      "source": [
        "X_train_us, X_test_us, y_train_us, y_test_us = train_test_split(X_undersampling_norm, y_undersampling, test_size=0.2, random_state=5)"
      ],
      "metadata": {
        "id": "P6ejtQ06AE7T"
      },
      "execution_count": 32,
      "outputs": []
    },
    {
      "cell_type": "markdown",
      "source": [
        "## **2 - Creación de Modelos**"
      ],
      "metadata": {
        "id": "XZA5ndOtAXHF"
      }
    },
    {
      "cell_type": "markdown",
      "source": [
        "### Modelo de KNN con Oversampling"
      ],
      "metadata": {
        "id": "wkcWDx66A9-C"
      }
    },
    {
      "cell_type": "code",
      "source": [
        "from sklearn.neighbors import KNeighborsClassifier"
      ],
      "metadata": {
        "id": "jvdGPIpBAxds"
      },
      "execution_count": 33,
      "outputs": []
    },
    {
      "cell_type": "code",
      "source": [
        "knn = KNeighborsClassifier()"
      ],
      "metadata": {
        "id": "PXNKjqu_CA6I"
      },
      "execution_count": 34,
      "outputs": []
    },
    {
      "cell_type": "code",
      "source": [
        "modelo_knn_os = knn.fit(X_train_os, y_train_os)"
      ],
      "metadata": {
        "id": "mYkI8FIqCE_k"
      },
      "execution_count": 35,
      "outputs": []
    },
    {
      "cell_type": "code",
      "source": [
        "modelo_knn_os.score(X_test_os, y_test_os)"
      ],
      "metadata": {
        "colab": {
          "base_uri": "https://localhost:8080/"
        },
        "id": "wnW44s00DmEu",
        "outputId": "b7bf31e5-63d7-4cf7-c75d-c7fb967d6fc7"
      },
      "execution_count": 36,
      "outputs": [
        {
          "output_type": "execute_result",
          "data": {
            "text/plain": [
              "0.8203703703703704"
            ]
          },
          "metadata": {},
          "execution_count": 36
        }
      ]
    },
    {
      "cell_type": "markdown",
      "source": [
        "### Modelo de KNN con Undersampling"
      ],
      "metadata": {
        "id": "YmFUO2qQEnf3"
      }
    },
    {
      "cell_type": "code",
      "source": [
        "modelo_knn_us = knn.fit(X_train_us, y_train_us)"
      ],
      "metadata": {
        "id": "BeRuvB77EnV6"
      },
      "execution_count": 37,
      "outputs": []
    },
    {
      "cell_type": "code",
      "source": [
        "modelo_knn_us.score(X_test_us, y_test_us)"
      ],
      "metadata": {
        "colab": {
          "base_uri": "https://localhost:8080/"
        },
        "id": "209Jj1L2ExEr",
        "outputId": "83df29ab-beac-4b4c-ff81-26eb43151b7f"
      },
      "execution_count": 38,
      "outputs": [
        {
          "output_type": "execute_result",
          "data": {
            "text/plain": [
              "0.6590909090909091"
            ]
          },
          "metadata": {},
          "execution_count": 38
        }
      ]
    },
    {
      "cell_type": "markdown",
      "source": [
        "### Modelo de Random Forest con Oversampling"
      ],
      "metadata": {
        "id": "DxO8jnMsFCTe"
      }
    },
    {
      "cell_type": "code",
      "source": [
        "from sklearn.ensemble import RandomForestClassifier"
      ],
      "metadata": {
        "id": "48BSnv8DFAnf"
      },
      "execution_count": 39,
      "outputs": []
    },
    {
      "cell_type": "code",
      "source": [
        "rf = RandomForestClassifier(max_depth=10)"
      ],
      "metadata": {
        "id": "0pfX045pFYbR"
      },
      "execution_count": 40,
      "outputs": []
    },
    {
      "cell_type": "code",
      "source": [
        "modelo_rf_os = rf.fit(X_train_os, y_train_os)"
      ],
      "metadata": {
        "id": "Mc5twJlBFt1P"
      },
      "execution_count": 41,
      "outputs": []
    },
    {
      "cell_type": "code",
      "source": [
        "modelo_rf_os.score(X_test_os, y_test_os)"
      ],
      "metadata": {
        "colab": {
          "base_uri": "https://localhost:8080/"
        },
        "id": "2Xd-Z0ToF0oo",
        "outputId": "310bf195-9a87-432e-87a0-142606e5d2e6"
      },
      "execution_count": 42,
      "outputs": [
        {
          "output_type": "execute_result",
          "data": {
            "text/plain": [
              "0.8458333333333333"
            ]
          },
          "metadata": {},
          "execution_count": 42
        }
      ]
    },
    {
      "cell_type": "markdown",
      "source": [
        "### Modelo de Random Forest con Undersampling"
      ],
      "metadata": {
        "id": "UV1YZx0sGE6s"
      }
    },
    {
      "cell_type": "code",
      "source": [
        "modelo_rf_us = rf.fit(X_train_us, y_train_us)"
      ],
      "metadata": {
        "id": "g7_-dAK8GFiI"
      },
      "execution_count": 43,
      "outputs": []
    },
    {
      "cell_type": "code",
      "source": [
        "modelo_rf_us.score(X_test_us, y_test_us)"
      ],
      "metadata": {
        "colab": {
          "base_uri": "https://localhost:8080/"
        },
        "id": "CGWQGN8-GvfC",
        "outputId": "b8173565-072c-4704-8da7-a6747ba693d8"
      },
      "execution_count": 44,
      "outputs": [
        {
          "output_type": "execute_result",
          "data": {
            "text/plain": [
              "0.7085561497326203"
            ]
          },
          "metadata": {},
          "execution_count": 44
        }
      ]
    },
    {
      "cell_type": "markdown",
      "source": [
        "## **3 - Evaluación de los Modelos**"
      ],
      "metadata": {
        "id": "2_v8EfZ7Hs3K"
      }
    },
    {
      "cell_type": "code",
      "source": [
        "from sklearn.metrics import precision_score, recall_score, f1_score, accuracy_score, confusion_matrix, ConfusionMatrixDisplay"
      ],
      "metadata": {
        "id": "kE0TjaLvHxlX"
      },
      "execution_count": 45,
      "outputs": []
    },
    {
      "cell_type": "markdown",
      "source": [
        "### Metricas del modelo de KNN"
      ],
      "metadata": {
        "id": "b9eoYF7bIbMh"
      }
    },
    {
      "cell_type": "code",
      "source": [
        "y_prev_knn = modelo_knn_os.predict(X_test_os)"
      ],
      "metadata": {
        "id": "9MWYGHoPIZKR"
      },
      "execution_count": 46,
      "outputs": []
    },
    {
      "cell_type": "code",
      "source": [
        "def metricas(y_test, y_prev, modelo):\n",
        "  print(f'La precision del modelo {modelo} es: {round(precision_score(y_test, y_prev),2)}')\n",
        "  print(f'La sensibilidad (recall) del modelo {modelo} es: {round(recall_score(y_test, y_prev),2)}')\n",
        "  print(f'La exactitud (accuracy) del modelo {modelo} es: {round(accuracy_score(y_test, y_prev),2)}')\n",
        "  print(f'El F1-score del modelo {modelo} es: {round(f1_score(y_test, y_prev),2)}')"
      ],
      "metadata": {
        "id": "-dPUsP2NIk7t"
      },
      "execution_count": 47,
      "outputs": []
    },
    {
      "cell_type": "code",
      "source": [
        "metricas(y_test_os, y_prev_knn, modelo_knn_os)"
      ],
      "metadata": {
        "colab": {
          "base_uri": "https://localhost:8080/"
        },
        "id": "fk_Q_xRiJWzs",
        "outputId": "62c01f03-e986-406c-fb9d-59cb366863fd"
      },
      "execution_count": 48,
      "outputs": [
        {
          "output_type": "stream",
          "name": "stdout",
          "text": [
            "La precision del modelo KNeighborsClassifier() es: 0.73\n",
            "La sensibilidad (recall) del modelo KNeighborsClassifier() es: 0.76\n",
            "La exactitud (accuracy) del modelo KNeighborsClassifier() es: 0.74\n",
            "El F1-score del modelo KNeighborsClassifier() es: 0.75\n"
          ]
        }
      ]
    },
    {
      "cell_type": "markdown",
      "source": [
        "### Metricas modelo Random Forest"
      ],
      "metadata": {
        "id": "B3tRfLsiKYOV"
      }
    },
    {
      "cell_type": "code",
      "source": [
        "y_prev_rf = modelo_rf_os.predict(X_test_os)"
      ],
      "metadata": {
        "id": "195YVWmVKcNd"
      },
      "execution_count": 49,
      "outputs": []
    },
    {
      "cell_type": "code",
      "source": [
        "metricas(y_test_os, y_prev_rf, modelo_rf_os)"
      ],
      "metadata": {
        "colab": {
          "base_uri": "https://localhost:8080/"
        },
        "id": "FOV6Em0TKgQU",
        "outputId": "4da5659f-80cf-44e7-d039-14414e9f26d2"
      },
      "execution_count": 50,
      "outputs": [
        {
          "output_type": "stream",
          "name": "stdout",
          "text": [
            "La precision del modelo RandomForestClassifier(max_depth=10) es: 0.8\n",
            "La sensibilidad (recall) del modelo RandomForestClassifier(max_depth=10) es: 0.7\n",
            "La exactitud (accuracy) del modelo RandomForestClassifier(max_depth=10) es: 0.76\n",
            "El F1-score del modelo RandomForestClassifier(max_depth=10) es: 0.75\n"
          ]
        }
      ]
    },
    {
      "cell_type": "markdown",
      "source": [
        "### Matriz de Confusion modelo KNN"
      ],
      "metadata": {
        "id": "TD3DznJrLQlm"
      }
    },
    {
      "cell_type": "code",
      "source": [
        "matriz_confusion_knn = confusion_matrix(y_test_os, y_prev_knn)\n",
        "print(matriz_confusion_knn)"
      ],
      "metadata": {
        "colab": {
          "base_uri": "https://localhost:8080/"
        },
        "id": "hywQs6gELWu_",
        "outputId": "66cb70f1-00e4-4116-8fb2-f8134eb09c9f"
      },
      "execution_count": 51,
      "outputs": [
        {
          "output_type": "stream",
          "name": "stdout",
          "text": [
            "[[765 307]\n",
            " [258 830]]\n"
          ]
        }
      ]
    },
    {
      "cell_type": "code",
      "source": [
        "visualizacion_knn = ConfusionMatrixDisplay(confusion_matrix=matriz_confusion_knn, display_labels=['No Cancelan', 'Cancelan'])\n",
        "visualizacion_knn.plot()"
      ],
      "metadata": {
        "colab": {
          "base_uri": "https://localhost:8080/",
          "height": 466
        },
        "id": "jSJ7NHpdhkeL",
        "outputId": "6036fb33-8ffd-46f3-cfc3-82f79ac5c7c3"
      },
      "execution_count": 52,
      "outputs": [
        {
          "output_type": "execute_result",
          "data": {
            "text/plain": [
              "<sklearn.metrics._plot.confusion_matrix.ConfusionMatrixDisplay at 0x79c3b379b5d0>"
            ]
          },
          "metadata": {},
          "execution_count": 52
        },
        {
          "output_type": "display_data",
          "data": {
            "text/plain": [
              "<Figure size 640x480 with 2 Axes>"
            ],
            "image/png": "[encoded data removed]"
          },
          "metadata": {}
        }
      ]
    },
    {
      "cell_type": "markdown",
      "source": [
        "### Matriz de Confusion modelo Random Forest"
      ],
      "metadata": {
        "id": "61oHtKsaizvb"
      }
    },
    {
      "cell_type": "code",
      "source": [
        "matriz_confusion_rf = confusion_matrix(y_test_os, y_prev_rf)\n",
        "print(matriz_confusion_rf)"
      ],
      "metadata": {
        "colab": {
          "base_uri": "https://localhost:8080/"
        },
        "id": "vWkvIsLzizCf",
        "outputId": "1e406f9b-271e-4086-fd70-6009367de4a0"
      },
      "execution_count": 53,
      "outputs": [
        {
          "output_type": "stream",
          "name": "stdout",
          "text": [
            "[[877 195]\n",
            " [322 766]]\n"
          ]
        }
      ]
    },
    {
      "cell_type": "code",
      "source": [
        "visualizacion_rf = ConfusionMatrixDisplay(confusion_matrix=matriz_confusion_rf, display_labels=['No Cancelan', 'Cancelan'])\n",
        "visualizacion_rf.plot()"
      ],
      "metadata": {
        "colab": {
          "base_uri": "https://localhost:8080/",
          "height": 466
        },
        "id": "jIq-gJB_jHyG",
        "outputId": "ecc6fe87-7d36-4a45-c909-4d14be2d5168"
      },
      "execution_count": 55,
      "outputs": [
        {
          "output_type": "execute_result",
          "data": {
            "text/plain": [
              "<sklearn.metrics._plot.confusion_matrix.ConfusionMatrixDisplay at 0x79c3b1256d50>"
            ]
          },
          "metadata": {},
          "execution_count": 55
        },
        {
          "output_type": "display_data",
          "data": {
            "text/plain": [
              "<Figure size 640x480 with 2 Axes>"
            ],
            "image/png": "[encoded data removed]"
          },
          "metadata": {}
        }
      ]
    },
    {
      "cell_type": "markdown",
      "source": [
        "### Curva ROC de los modelos de KNN y Random Forest"
      ],
      "metadata": {
        "id": "-fBmTPMMso7m"
      }
    },
    {
      "cell_type": "code",
      "source": [
        "from sklearn.metrics import RocCurveDisplay, roc_auc_score"
      ],
      "metadata": {
        "id": "w7UBfkcIm45A"
      },
      "execution_count": 61,
      "outputs": []
    },
    {
      "cell_type": "code",
      "source": [
        "print(f'El area bajo la curva ROC del modelo KNN es: {roc_auc_score(y_test_os, y_prev_knn)}')\n",
        "print(f'El area bajo la curva ROC del modelo Random Forest es: {roc_auc_score(y_test_os, y_prev_rf)}')"
      ],
      "metadata": {
        "colab": {
          "base_uri": "https://localhost:8080/"
        },
        "id": "SFslOu6xoZUq",
        "outputId": "f26225b0-e3dd-4b95-cec9-6722487b51fd"
      },
      "execution_count": 62,
      "outputs": [
        {
          "output_type": "stream",
          "name": "stdout",
          "text": [
            "El area bajo la curva ROC del modelo KNN es: 0.738243525021949\n",
            "El area bajo la curva ROC del modelo Random Forest es: 0.761070566286216\n"
          ]
        }
      ]
    },
    {
      "cell_type": "code",
      "source": [
        "fig, ax = plt.subplots(1,2,figsize=(10,6))\n",
        "\n",
        "RocCurveDisplay.from_predictions(y_test_os, y_prev_knn, name='Vecinos Cercanos KNN', ax=ax[0])\n",
        "RocCurveDisplay.from_predictions(y_test_os, y_prev_rf, name='Random Forest', ax=ax[1])\n",
        "\n",
        "plt.tight_layout()\n",
        "plt.show()"
      ],
      "metadata": {
        "colab": {
          "base_uri": "https://localhost:8080/",
          "height": 500
        },
        "id": "f079jMRfm9h0",
        "outputId": "1991d43f-29a6-4725-8850-7f1e41411b1a"
      },
      "execution_count": 60,
      "outputs": [
        {
          "output_type": "display_data",
          "data": {
            "text/plain": [
              "<Figure size 1000x600 with 2 Axes>"
            ],
            "image/png": "[encoded data removed]"
          },
          "metadata": {}
        }
      ]
    },
    {
      "cell_type": "markdown",
      "source": [
        "### Curva de Precision x Recall de los modelos de KNN y Random Forest"
      ],
      "metadata": {
        "id": "_WTnCHJ8s0aV"
      }
    },
    {
      "cell_type": "code",
      "source": [
        "from sklearn.metrics import PrecisionRecallDisplay, average_precision_score"
      ],
      "metadata": {
        "id": "bErxJ9s0s6NK"
      },
      "execution_count": 63,
      "outputs": []
    },
    {
      "cell_type": "code",
      "source": [
        "print(f'El score promedio de precision vs recal del modelo KNN es: {average_precision_score(y_test_os, y_prev_knn)}')\n",
        "print(f'El score promedio de precision vs recal del modelo Random Forest es: {average_precision_score(y_test_os, y_prev_rf)}')"
      ],
      "metadata": {
        "colab": {
          "base_uri": "https://localhost:8080/"
        },
        "id": "JkATzY8ytEY5",
        "outputId": "46654ed0-b32b-45db-e12a-ea6af0a3780f"
      },
      "execution_count": 64,
      "outputs": [
        {
          "output_type": "stream",
          "name": "stdout",
          "text": [
            "El score promedio de precision vs recal del modelo KNN es: 0.6763311173193991\n",
            "El score promedio de precision vs recal del modelo Random Forest es: 0.7102580429790137\n"
          ]
        }
      ]
    },
    {
      "cell_type": "code",
      "source": [
        "fig, ax = plt.subplots(1,2,figsize=(10,6))\n",
        "\n",
        "PrecisionRecallDisplay.from_predictions(y_test_os, y_prev_knn, name='Vecinos Cercanos KNN', ax=ax[0])\n",
        "PrecisionRecallDisplay.from_predictions(y_test_os, y_prev_rf, name='Random Forest', ax=ax[1])\n",
        "\n",
        "plt.tight_layout()\n",
        "plt.show()"
      ],
      "metadata": {
        "colab": {
          "base_uri": "https://localhost:8080/",
          "height": 500
        },
        "id": "Xy1VZbHstTNs",
        "outputId": "38349a61-07c1-4082-aa67-0f366a3aead4"
      },
      "execution_count": 65,
      "outputs": [
        {
          "output_type": "display_data",
          "data": {
            "text/plain": [
              "<Figure size 1000x600 with 2 Axes>"
            ],
            "image/png": "[encoded data removed]"
          },
          "metadata": {}
        }
      ]
    },
    {
      "cell_type": "markdown",
      "source": [
        "# **Interpretación y Conclusiones**"
      ],
      "metadata": {
        "id": "G44jLyqt5gJu"
      }
    },
    {
      "cell_type": "markdown",
      "source": [
        "## **1 - Análisis de la Importancia de las Variables**"
      ],
      "metadata": {
        "id": "0m3F9CTa5lcq"
      }
    },
    {
      "cell_type": "markdown",
      "source": [
        "### Modelo Random Forest 'Features'"
      ],
      "metadata": {
        "id": "rWOWXri49DiF"
      }
    },
    {
      "cell_type": "code",
      "source": [
        "features = modelo_rf_os.feature_importances_"
      ],
      "metadata": {
        "id": "NOnGvqXo7bf5"
      },
      "execution_count": 89,
      "outputs": []
    },
    {
      "cell_type": "code",
      "source": [
        "X = pd.DataFrame(X_oversampling_norm, columns=X_oversampling.columns)\n",
        "X.head(2)"
      ],
      "metadata": {
        "colab": {
          "base_uri": "https://localhost:8080/",
          "height": 179
        },
        "id": "z0QDEus8-U8R",
        "outputId": "4cdfb5ff-9fd1-470e-ba36-5a5725673011"
      },
      "execution_count": 93,
      "outputs": [
        {
          "output_type": "execute_result",
          "data": {
            "text/plain": [
              "   SeniorCitizen  Partner  Dependents  tenure  PhoneService  MultipleLines  \\\n",
              "0            0.0      1.0         1.0   0.125           1.0            0.0   \n",
              "1            0.0      0.0         0.0   0.125           1.0            1.0   \n",
              "\n",
              "   OnlineSecurity  OnlineBackup  DeviceProtection  TechSupport  ...  \\\n",
              "0             0.0           1.0               0.0          1.0  ...   \n",
              "1             0.0           0.0               0.0          0.0  ...   \n",
              "\n",
              "   InternetService_dsl  InternetService_fiber optic  InternetService_no  \\\n",
              "0                  1.0                          0.0                 0.0   \n",
              "1                  1.0                          0.0                 0.0   \n",
              "\n",
              "   Contract_month-to-month  Contract_one year  Contract_two year  \\\n",
              "0                      0.0                1.0                0.0   \n",
              "1                      1.0                0.0                0.0   \n",
              "\n",
              "   PaymentMethod_bank transfer  PaymentMethod_credit card  \\\n",
              "0                          0.0                        0.0   \n",
              "1                          0.0                        0.0   \n",
              "\n",
              "   PaymentMethod_electronic check  PaymentMethod_mailed check  \n",
              "0                             0.0                         1.0  \n",
              "1                             0.0                         1.0  \n",
              "\n",
              "[2 rows x 28 columns]"
            ],
            "text/html": [
              "\n",
              "  <div id=\"df-688643c1-c579-4efd-bbd7-0f71e560a509\" class=\"colab-df-container\">\n",
              "    <div>\n",
              "<style scoped>\n",
              "    .dataframe tbody tr th:only-of-type {\n",
              "        vertical-align: middle;\n",
              "    }\n",
              "\n",
              "    .dataframe tbody tr th {\n",
              "        vertical-align: top;\n",
              "    }\n",
              "\n",
              "    .dataframe thead th {\n",
              "        text-align: right;\n",
              "    }\n",
              "</style>\n",
              "<table border=\"1\" class=\"dataframe\">\n",
              "  <thead>\n",
              "    <tr style=\"text-align: right;\">\n",
              "      <th></th>\n",
              "      <th>SeniorCitizen</th>\n",
              "      <th>Partner</th>\n",
              "      <th>Dependents</th>\n",
              "      <th>tenure</th>\n",
              "      <th>PhoneService</th>\n",
              "      <th>MultipleLines</th>\n",
              "      <th>OnlineSecurity</th>\n",
              "      <th>OnlineBackup</th>\n",
              "      <th>DeviceProtection</th>\n",
              "      <th>TechSupport</th>\n",
              "      <th>...</th>\n",
              "      <th>InternetService_dsl</th>\n",
              "      <th>InternetService_fiber optic</th>\n",
              "      <th>InternetService_no</th>\n",
              "      <th>Contract_month-to-month</th>\n",
              "      <th>Contract_one year</th>\n",
              "      <th>Contract_two year</th>\n",
              "      <th>PaymentMethod_bank transfer</th>\n",
              "      <th>PaymentMethod_credit card</th>\n",
              "      <th>PaymentMethod_electronic check</th>\n",
              "      <th>PaymentMethod_mailed check</th>\n",
              "    </tr>\n",
              "  </thead>\n",
              "  <tbody>\n",
              "    <tr>\n",
              "      <th>0</th>\n",
              "      <td>0.0</td>\n",
              "      <td>1.0</td>\n",
              "      <td>1.0</td>\n",
              "      <td>0.125</td>\n",
              "      <td>1.0</td>\n",
              "      <td>0.0</td>\n",
              "      <td>0.0</td>\n",
              "      <td>1.0</td>\n",
              "      <td>0.0</td>\n",
              "      <td>1.0</td>\n",
              "      <td>...</td>\n",
              "      <td>1.0</td>\n",
              "      <td>0.0</td>\n",
              "      <td>0.0</td>\n",
              "      <td>0.0</td>\n",
              "      <td>1.0</td>\n",
              "      <td>0.0</td>\n",
              "      <td>0.0</td>\n",
              "      <td>0.0</td>\n",
              "      <td>0.0</td>\n",
              "      <td>1.0</td>\n",
              "    </tr>\n",
              "    <tr>\n",
              "      <th>1</th>\n",
              "      <td>0.0</td>\n",
              "      <td>0.0</td>\n",
              "      <td>0.0</td>\n",
              "      <td>0.125</td>\n",
              "      <td>1.0</td>\n",
              "      <td>1.0</td>\n",
              "      <td>0.0</td>\n",
              "      <td>0.0</td>\n",
              "      <td>0.0</td>\n",
              "      <td>0.0</td>\n",
              "      <td>...</td>\n",
              "      <td>1.0</td>\n",
              "      <td>0.0</td>\n",
              "      <td>0.0</td>\n",
              "      <td>1.0</td>\n",
              "      <td>0.0</td>\n",
              "      <td>0.0</td>\n",
              "      <td>0.0</td>\n",
              "      <td>0.0</td>\n",
              "      <td>0.0</td>\n",
              "      <td>1.0</td>\n",
              "    </tr>\n",
              "  </tbody>\n",
              "</table>\n",
              "<p>2 rows × 28 columns</p>\n",
              "</div>\n",
              "    <div class=\"colab-df-buttons\">\n",
              "\n",
              "  <div class=\"colab-df-container\">\n",
              "    <button class=\"colab-df-convert\" onclick=\"convertToInteractive('df-688643c1-c579-4efd-bbd7-0f71e560a509')\"\n",
              "            title=\"Convert this dataframe to an interactive table.\"\n",
              "            style=\"display:none;\">\n",
              "\n",
              "  <svg xmlns=\"http://www.w3.org/2000/svg\" height=\"24px\" viewBox=\"0 -960 960 960\">\n",
              "    <path d=\"M120-120v-720h720v720H120Zm60-500h600v-160H180v160Zm220 220h160v-160H400v160Zm0 220h160v-160H400v160ZM180-400h160v-160H180v160Zm440 0h160v-160H620v160ZM180-180h160v-160H180v160Zm440 0h160v-160H620v160Z\"/>\n",
              "  </svg>\n",
              "    </button>\n",
              "\n",
              "  <style>\n",
              "    .colab-df-container {\n",
              "      display:flex;\n",
              "      gap: 12px;\n",
              "    }\n",
              "\n",
              "    .colab-df-convert {\n",
              "      background-color: #E8F0FE;\n",
              "      border: none;\n",
              "      border-radius: 50%;\n",
              "      cursor: pointer;\n",
              "      display: none;\n",
              "      fill: #1967D2;\n",
              "      height: 32px;\n",
              "      padding: 0 0 0 0;\n",
              "      width: 32px;\n",
              "    }\n",
              "\n",
              "    .colab-df-convert:hover {\n",
              "      background-color: #E2EBFA;\n",
              "      box-shadow: 0px 1px 2px rgba(60, 64, 67, 0.3), 0px 1px 3px 1px rgba(60, 64, 67, 0.15);\n",
              "      fill: #174EA6;\n",
              "    }\n",
              "\n",
              "    .colab-df-buttons div {\n",
              "      margin-bottom: 4px;\n",
              "    }\n",
              "\n",
              "    [theme=dark] .colab-df-convert {\n",
              "      background-color: #3B4455;\n",
              "      fill: #D2E3FC;\n",
              "    }\n",
              "\n",
              "    [theme=dark] .colab-df-convert:hover {\n",
              "      background-color: #434B5C;\n",
              "      box-shadow: 0px 1px 3px 1px rgba(0, 0, 0, 0.15);\n",
              "      filter: drop-shadow(0px 1px 2px rgba(0, 0, 0, 0.3));\n",
              "      fill: #FFFFFF;\n",
              "    }\n",
              "  </style>\n",
              "\n",
              "    <script>\n",
              "      const buttonEl =\n",
              "        document.querySelector('#df-688643c1-c579-4efd-bbd7-0f71e560a509 button.colab-df-convert');\n",
              "      buttonEl.style.display =\n",
              "        google.colab.kernel.accessAllowed ? 'block' : 'none';\n",
              "\n",
              "      async function convertToInteractive(key) {\n",
              "        const element = document.querySelector('#df-688643c1-c579-4efd-bbd7-0f71e560a509');\n",
              "        const dataTable =\n",
              "          await google.colab.kernel.invokeFunction('convertToInteractive',\n",
              "                                                    [key], {});\n",
              "        if (!dataTable) return;\n",
              "\n",
              "        const docLinkHtml = 'Like what you see? Visit the ' +\n",
              "          '<a target=\"_blank\" href=https://colab.research.google.com/notebooks/data_table.ipynb>data table notebook</a>'\n",
              "          + ' to learn more about interactive tables.';\n",
              "        element.innerHTML = '';\n",
              "        dataTable['output_type'] = 'display_data';\n",
              "        await google.colab.output.renderOutput(dataTable, element);\n",
              "        const docLink = document.createElement('div');\n",
              "        docLink.innerHTML = docLinkHtml;\n",
              "        element.appendChild(docLink);\n",
              "      }\n",
              "    </script>\n",
              "  </div>\n",
              "\n",
              "\n",
              "    <div id=\"df-4ab8393b-8e47-460f-bad3-c7988daa698e\">\n",
              "      <button class=\"colab-df-quickchart\" onclick=\"quickchart('df-4ab8393b-8e47-460f-bad3-c7988daa698e')\"\n",
              "                title=\"Suggest charts\"\n",
              "                style=\"display:none;\">\n",
              "\n",
              "<svg xmlns=\"http://www.w3.org/2000/svg\" height=\"24px\"viewBox=\"0 0 24 24\"\n",
              "     width=\"24px\">\n",
              "    <g>\n",
              "        <path d=\"M19 3H5c-1.1 0-2 .9-2 2v14c0 1.1.9 2 2 2h14c1.1 0 2-.9 2-2V5c0-1.1-.9-2-2-2zM9 17H7v-7h2v7zm4 0h-2V7h2v10zm4 0h-2v-4h2v4z\"/>\n",
              "    </g>\n",
              "</svg>\n",
              "      </button>\n",
              "\n",
              "<style>\n",
              "  .colab-df-quickchart {\n",
              "      --bg-color: #E8F0FE;\n",
              "      --fill-color: #1967D2;\n",
              "      --hover-bg-color: #E2EBFA;\n",
              "      --hover-fill-color: #174EA6;\n",
              "      --disabled-fill-color: #AAA;\n",
              "      --disabled-bg-color: #DDD;\n",
              "  }\n",
              "\n",
              "  [theme=dark] .colab-df-quickchart {\n",
              "      --bg-color: #3B4455;\n",
              "      --fill-color: #D2E3FC;\n",
              "      --hover-bg-color: #434B5C;\n",
              "      --hover-fill-color: #FFFFFF;\n",
              "      --disabled-bg-color: #3B4455;\n",
              "      --disabled-fill-color: #666;\n",
              "  }\n",
              "\n",
              "  .colab-df-quickchart {\n",
              "    background-color: var(--bg-color);\n",
              "    border: none;\n",
              "    border-radius: 50%;\n",
              "    cursor: pointer;\n",
              "    display: none;\n",
              "    fill: var(--fill-color);\n",
              "    height: 32px;\n",
              "    padding: 0;\n",
              "    width: 32px;\n",
              "  }\n",
              "\n",
              "  .colab-df-quickchart:hover {\n",
              "    background-color: var(--hover-bg-color);\n",
              "    box-shadow: 0 1px 2px rgba(60, 64, 67, 0.3), 0 1px 3px 1px rgba(60, 64, 67, 0.15);\n",
              "    fill: var(--button-hover-fill-color);\n",
              "  }\n",
              "\n",
              "  .colab-df-quickchart-complete:disabled,\n",
              "  .colab-df-quickchart-complete:disabled:hover {\n",
              "    background-color: var(--disabled-bg-color);\n",
              "    fill: var(--disabled-fill-color);\n",
              "    box-shadow: none;\n",
              "  }\n",
              "\n",
              "  .colab-df-spinner {\n",
              "    border: 2px solid var(--fill-color);\n",
              "    border-color: transparent;\n",
              "    border-bottom-color: var(--fill-color);\n",
              "    animation:\n",
              "      spin 1s steps(1) infinite;\n",
              "  }\n",
              "\n",
              "  @keyframes spin {\n",
              "    0% {\n",
              "      border-color: transparent;\n",
              "      border-bottom-color: var(--fill-color);\n",
              "      border-left-color: var(--fill-color);\n",
              "    }\n",
              "    20% {\n",
              "      border-color: transparent;\n",
              "      border-left-color: var(--fill-color);\n",
              "      border-top-color: var(--fill-color);\n",
              "    }\n",
              "    30% {\n",
              "      border-color: transparent;\n",
              "      border-left-color: var(--fill-color);\n",
              "      border-top-color: var(--fill-color);\n",
              "      border-right-color: var(--fill-color);\n",
              "    }\n",
              "    40% {\n",
              "      border-color: transparent;\n",
              "      border-right-color: var(--fill-color);\n",
              "      border-top-color: var(--fill-color);\n",
              "    }\n",
              "    60% {\n",
              "      border-color: transparent;\n",
              "      border-right-color: var(--fill-color);\n",
              "    }\n",
              "    80% {\n",
              "      border-color: transparent;\n",
              "      border-right-color: var(--fill-color);\n",
              "      border-bottom-color: var(--fill-color);\n",
              "    }\n",
              "    90% {\n",
              "      border-color: transparent;\n",
              "      border-bottom-color: var(--fill-color);\n",
              "    }\n",
              "  }\n",
              "</style>\n",
              "\n",
              "      <script>\n",
              "        async function quickchart(key) {\n",
              "          const quickchartButtonEl =\n",
              "            document.querySelector('#' + key + ' button');\n",
              "          quickchartButtonEl.disabled = true;  // To prevent multiple clicks.\n",
              "          quickchartButtonEl.classList.add('colab-df-spinner');\n",
              "          try {\n",
              "            const charts = await google.colab.kernel.invokeFunction(\n",
              "                'suggestCharts', [key], {});\n",
              "          } catch (error) {\n",
              "            console.error('Error during call to suggestCharts:', error);\n",
              "          }\n",
              "          quickchartButtonEl.classList.remove('colab-df-spinner');\n",
              "          quickchartButtonEl.classList.add('colab-df-quickchart-complete');\n",
              "        }\n",
              "        (() => {\n",
              "          let quickchartButtonEl =\n",
              "            document.querySelector('#df-4ab8393b-8e47-460f-bad3-c7988daa698e button');\n",
              "          quickchartButtonEl.style.display =\n",
              "            google.colab.kernel.accessAllowed ? 'block' : 'none';\n",
              "        })();\n",
              "      </script>\n",
              "    </div>\n",
              "\n",
              "    </div>\n",
              "  </div>\n"
            ],
            "application/vnd.google.colaboratory.intrinsic+json": {
              "type": "dataframe",
              "variable_name": "X"
            }
          },
          "metadata": {},
          "execution_count": 93
        }
      ]
    },
    {
      "cell_type": "code",
      "source": [
        "y = y_oversampling"
      ],
      "metadata": {
        "id": "f3O0d0pU_Wxn"
      },
      "execution_count": 96,
      "outputs": []
    },
    {
      "cell_type": "code",
      "source": [
        "features_importances = pd.DataFrame({'Features': X.columns,\n",
        "                                     'Importances': (features*100).round(2)}).sort_values('Importances', ascending=False)\n",
        "features_importances.reset_index(drop=True, inplace=True)\n",
        "features_importances"
      ],
      "metadata": {
        "colab": {
          "base_uri": "https://localhost:8080/",
          "height": 927
        },
        "id": "8GB2SPrg9JoX",
        "outputId": "c33be6d9-0879-4da6-b2d4-b53bbabf916d"
      },
      "execution_count": 101,
      "outputs": [
        {
          "output_type": "execute_result",
          "data": {
            "text/plain": [
              "                          Features  Importances\n",
              "0                           tenure        19.23\n",
              "1                            Total        19.20\n",
              "2                          Monthly         9.68\n",
              "3                   CuentasDiarias         8.83\n",
              "4          Contract_month-to-month         6.11\n",
              "5                      TechSupport         3.08\n",
              "6   PaymentMethod_electronic check         3.00\n",
              "7                   OnlineSecurity         2.77\n",
              "8                Contract_one year         2.48\n",
              "9                Contract_two year         2.39\n",
              "10                PaperlessBilling         1.93\n",
              "11                      Dependents         1.77\n",
              "12                    OnlineBackup         1.62\n",
              "13                   MultipleLines         1.55\n",
              "14                         Partner         1.50\n",
              "15     InternetService_fiber optic         1.41\n",
              "16                DeviceProtection         1.39\n",
              "17                     gender_male         1.37\n",
              "18                   SeniorCitizen         1.34\n",
              "19                     StreamingTV         1.30\n",
              "20     PaymentMethod_bank transfer         1.30\n",
              "21                   gender_female         1.29\n",
              "22             InternetService_dsl         1.20\n",
              "23                 StreamingMovies         1.19\n",
              "24      PaymentMethod_mailed check         0.98\n",
              "25       PaymentMethod_credit card         0.96\n",
              "26                    PhoneService         0.90\n",
              "27              InternetService_no         0.22"
            ],
            "text/html": [
              "\n",
              "  <div id=\"df-b6fc7e9a-c5d4-4525-92f1-d7b18525fe4d\" class=\"colab-df-container\">\n",
              "    <div>\n",
              "<style scoped>\n",
              "    .dataframe tbody tr th:only-of-type {\n",
              "        vertical-align: middle;\n",
              "    }\n",
              "\n",
              "    .dataframe tbody tr th {\n",
              "        vertical-align: top;\n",
              "    }\n",
              "\n",
              "    .dataframe thead th {\n",
              "        text-align: right;\n",
              "    }\n",
              "</style>\n",
              "<table border=\"1\" class=\"dataframe\">\n",
              "  <thead>\n",
              "    <tr style=\"text-align: right;\">\n",
              "      <th></th>\n",
              "      <th>Features</th>\n",
              "      <th>Importances</th>\n",
              "    </tr>\n",
              "  </thead>\n",
              "  <tbody>\n",
              "    <tr>\n",
              "      <th>0</th>\n",
              "      <td>tenure</td>\n",
              "      <td>19.23</td>\n",
              "    </tr>\n",
              "    <tr>\n",
              "      <th>1</th>\n",
              "      <td>Total</td>\n",
              "      <td>19.20</td>\n",
              "    </tr>\n",
              "    <tr>\n",
              "      <th>2</th>\n",
              "      <td>Monthly</td>\n",
              "      <td>9.68</td>\n",
              "    </tr>\n",
              "    <tr>\n",
              "      <th>3</th>\n",
              "      <td>CuentasDiarias</td>\n",
              "      <td>8.83</td>\n",
              "    </tr>\n",
              "    <tr>\n",
              "      <th>4</th>\n",
              "      <td>Contract_month-to-month</td>\n",
              "      <td>6.11</td>\n",
              "    </tr>\n",
              "    <tr>\n",
              "      <th>5</th>\n",
              "      <td>TechSupport</td>\n",
              "      <td>3.08</td>\n",
              "    </tr>\n",
              "    <tr>\n",
              "      <th>6</th>\n",
              "      <td>PaymentMethod_electronic check</td>\n",
              "      <td>3.00</td>\n",
              "    </tr>\n",
              "    <tr>\n",
              "      <th>7</th>\n",
              "      <td>OnlineSecurity</td>\n",
              "      <td>2.77</td>\n",
              "    </tr>\n",
              "    <tr>\n",
              "      <th>8</th>\n",
              "      <td>Contract_one year</td>\n",
              "      <td>2.48</td>\n",
              "    </tr>\n",
              "    <tr>\n",
              "      <th>9</th>\n",
              "      <td>Contract_two year</td>\n",
              "      <td>2.39</td>\n",
              "    </tr>\n",
              "    <tr>\n",
              "      <th>10</th>\n",
              "      <td>PaperlessBilling</td>\n",
              "      <td>1.93</td>\n",
              "    </tr>\n",
              "    <tr>\n",
              "      <th>11</th>\n",
              "      <td>Dependents</td>\n",
              "      <td>1.77</td>\n",
              "    </tr>\n",
              "    <tr>\n",
              "      <th>12</th>\n",
              "      <td>OnlineBackup</td>\n",
              "      <td>1.62</td>\n",
              "    </tr>\n",
              "    <tr>\n",
              "      <th>13</th>\n",
              "      <td>MultipleLines</td>\n",
              "      <td>1.55</td>\n",
              "    </tr>\n",
              "    <tr>\n",
              "      <th>14</th>\n",
              "      <td>Partner</td>\n",
              "      <td>1.50</td>\n",
              "    </tr>\n",
              "    <tr>\n",
              "      <th>15</th>\n",
              "      <td>InternetService_fiber optic</td>\n",
              "      <td>1.41</td>\n",
              "    </tr>\n",
              "    <tr>\n",
              "      <th>16</th>\n",
              "      <td>DeviceProtection</td>\n",
              "      <td>1.39</td>\n",
              "    </tr>\n",
              "    <tr>\n",
              "      <th>17</th>\n",
              "      <td>gender_male</td>\n",
              "      <td>1.37</td>\n",
              "    </tr>\n",
              "    <tr>\n",
              "      <th>18</th>\n",
              "      <td>SeniorCitizen</td>\n",
              "      <td>1.34</td>\n",
              "    </tr>\n",
              "    <tr>\n",
              "      <th>19</th>\n",
              "      <td>StreamingTV</td>\n",
              "      <td>1.30</td>\n",
              "    </tr>\n",
              "    <tr>\n",
              "      <th>20</th>\n",
              "      <td>PaymentMethod_bank transfer</td>\n",
              "      <td>1.30</td>\n",
              "    </tr>\n",
              "    <tr>\n",
              "      <th>21</th>\n",
              "      <td>gender_female</td>\n",
              "      <td>1.29</td>\n",
              "    </tr>\n",
              "    <tr>\n",
              "      <th>22</th>\n",
              "      <td>InternetService_dsl</td>\n",
              "      <td>1.20</td>\n",
              "    </tr>\n",
              "    <tr>\n",
              "      <th>23</th>\n",
              "      <td>StreamingMovies</td>\n",
              "      <td>1.19</td>\n",
              "    </tr>\n",
              "    <tr>\n",
              "      <th>24</th>\n",
              "      <td>PaymentMethod_mailed check</td>\n",
              "      <td>0.98</td>\n",
              "    </tr>\n",
              "    <tr>\n",
              "      <th>25</th>\n",
              "      <td>PaymentMethod_credit card</td>\n",
              "      <td>0.96</td>\n",
              "    </tr>\n",
              "    <tr>\n",
              "      <th>26</th>\n",
              "      <td>PhoneService</td>\n",
              "      <td>0.90</td>\n",
              "    </tr>\n",
              "    <tr>\n",
              "      <th>27</th>\n",
              "      <td>InternetService_no</td>\n",
              "      <td>0.22</td>\n",
              "    </tr>\n",
              "  </tbody>\n",
              "</table>\n",
              "</div>\n",
              "    <div class=\"colab-df-buttons\">\n",
              "\n",
              "  <div class=\"colab-df-container\">\n",
              "    <button class=\"colab-df-convert\" onclick=\"convertToInteractive('df-b6fc7e9a-c5d4-4525-92f1-d7b18525fe4d')\"\n",
              "            title=\"Convert this dataframe to an interactive table.\"\n",
              "            style=\"display:none;\">\n",
              "\n",
              "  <svg xmlns=\"http://www.w3.org/2000/svg\" height=\"24px\" viewBox=\"0 -960 960 960\">\n",
              "    <path d=\"M120-120v-720h720v720H120Zm60-500h600v-160H180v160Zm220 220h160v-160H400v160Zm0 220h160v-160H400v160ZM180-400h160v-160H180v160Zm440 0h160v-160H620v160ZM180-180h160v-160H180v160Zm440 0h160v-160H620v160Z\"/>\n",
              "  </svg>\n",
              "    </button>\n",
              "\n",
              "  <style>\n",
              "    .colab-df-container {\n",
              "      display:flex;\n",
              "      gap: 12px;\n",
              "    }\n",
              "\n",
              "    .colab-df-convert {\n",
              "      background-color: #E8F0FE;\n",
              "      border: none;\n",
              "      border-radius: 50%;\n",
              "      cursor: pointer;\n",
              "      display: none;\n",
              "      fill: #1967D2;\n",
              "      height: 32px;\n",
              "      padding: 0 0 0 0;\n",
              "      width: 32px;\n",
              "    }\n",
              "\n",
              "    .colab-df-convert:hover {\n",
              "      background-color: #E2EBFA;\n",
              "      box-shadow: 0px 1px 2px rgba(60, 64, 67, 0.3), 0px 1px 3px 1px rgba(60, 64, 67, 0.15);\n",
              "      fill: #174EA6;\n",
              "    }\n",
              "\n",
              "    .colab-df-buttons div {\n",
              "      margin-bottom: 4px;\n",
              "    }\n",
              "\n",
              "    [theme=dark] .colab-df-convert {\n",
              "      background-color: #3B4455;\n",
              "      fill: #D2E3FC;\n",
              "    }\n",
              "\n",
              "    [theme=dark] .colab-df-convert:hover {\n",
              "      background-color: #434B5C;\n",
              "      box-shadow: 0px 1px 3px 1px rgba(0, 0, 0, 0.15);\n",
              "      filter: drop-shadow(0px 1px 2px rgba(0, 0, 0, 0.3));\n",
              "      fill: #FFFFFF;\n",
              "    }\n",
              "  </style>\n",
              "\n",
              "    <script>\n",
              "      const buttonEl =\n",
              "        document.querySelector('#df-b6fc7e9a-c5d4-4525-92f1-d7b18525fe4d button.colab-df-convert');\n",
              "      buttonEl.style.display =\n",
              "        google.colab.kernel.accessAllowed ? 'block' : 'none';\n",
              "\n",
              "      async function convertToInteractive(key) {\n",
              "        const element = document.querySelector('#df-b6fc7e9a-c5d4-4525-92f1-d7b18525fe4d');\n",
              "        const dataTable =\n",
              "          await google.colab.kernel.invokeFunction('convertToInteractive',\n",
              "                                                    [key], {});\n",
              "        if (!dataTable) return;\n",
              "\n",
              "        const docLinkHtml = 'Like what you see? Visit the ' +\n",
              "          '<a target=\"_blank\" href=https://colab.research.google.com/notebooks/data_table.ipynb>data table notebook</a>'\n",
              "          + ' to learn more about interactive tables.';\n",
              "        element.innerHTML = '';\n",
              "        dataTable['output_type'] = 'display_data';\n",
              "        await google.colab.output.renderOutput(dataTable, element);\n",
              "        const docLink = document.createElement('div');\n",
              "        docLink.innerHTML = docLinkHtml;\n",
              "        element.appendChild(docLink);\n",
              "      }\n",
              "    </script>\n",
              "  </div>\n",
              "\n",
              "\n",
              "    <div id=\"df-355127c6-4a6d-42dd-aa43-cdb12e2e6b8e\">\n",
              "      <button class=\"colab-df-quickchart\" onclick=\"quickchart('df-355127c6-4a6d-42dd-aa43-cdb12e2e6b8e')\"\n",
              "                title=\"Suggest charts\"\n",
              "                style=\"display:none;\">\n",
              "\n",
              "<svg xmlns=\"http://www.w3.org/2000/svg\" height=\"24px\"viewBox=\"0 0 24 24\"\n",
              "     width=\"24px\">\n",
              "    <g>\n",
              "        <path d=\"M19 3H5c-1.1 0-2 .9-2 2v14c0 1.1.9 2 2 2h14c1.1 0 2-.9 2-2V5c0-1.1-.9-2-2-2zM9 17H7v-7h2v7zm4 0h-2V7h2v10zm4 0h-2v-4h2v4z\"/>\n",
              "    </g>\n",
              "</svg>\n",
              "      </button>\n",
              "\n",
              "<style>\n",
              "  .colab-df-quickchart {\n",
              "      --bg-color: #E8F0FE;\n",
              "      --fill-color: #1967D2;\n",
              "      --hover-bg-color: #E2EBFA;\n",
              "      --hover-fill-color: #174EA6;\n",
              "      --disabled-fill-color: #AAA;\n",
              "      --disabled-bg-color: #DDD;\n",
              "  }\n",
              "\n",
              "  [theme=dark] .colab-df-quickchart {\n",
              "      --bg-color: #3B4455;\n",
              "      --fill-color: #D2E3FC;\n",
              "      --hover-bg-color: #434B5C;\n",
              "      --hover-fill-color: #FFFFFF;\n",
              "      --disabled-bg-color: #3B4455;\n",
              "      --disabled-fill-color: #666;\n",
              "  }\n",
              "\n",
              "  .colab-df-quickchart {\n",
              "    background-color: var(--bg-color);\n",
              "    border: none;\n",
              "    border-radius: 50%;\n",
              "    cursor: pointer;\n",
              "    display: none;\n",
              "    fill: var(--fill-color);\n",
              "    height: 32px;\n",
              "    padding: 0;\n",
              "    width: 32px;\n",
              "  }\n",
              "\n",
              "  .colab-df-quickchart:hover {\n",
              "    background-color: var(--hover-bg-color);\n",
              "    box-shadow: 0 1px 2px rgba(60, 64, 67, 0.3), 0 1px 3px 1px rgba(60, 64, 67, 0.15);\n",
              "    fill: var(--button-hover-fill-color);\n",
              "  }\n",
              "\n",
              "  .colab-df-quickchart-complete:disabled,\n",
              "  .colab-df-quickchart-complete:disabled:hover {\n",
              "    background-color: var(--disabled-bg-color);\n",
              "    fill: var(--disabled-fill-color);\n",
              "    box-shadow: none;\n",
              "  }\n",
              "\n",
              "  .colab-df-spinner {\n",
              "    border: 2px solid var(--fill-color);\n",
              "    border-color: transparent;\n",
              "    border-bottom-color: var(--fill-color);\n",
              "    animation:\n",
              "      spin 1s steps(1) infinite;\n",
              "  }\n",
              "\n",
              "  @keyframes spin {\n",
              "    0% {\n",
              "      border-color: transparent;\n",
              "      border-bottom-color: var(--fill-color);\n",
              "      border-left-color: var(--fill-color);\n",
              "    }\n",
              "    20% {\n",
              "      border-color: transparent;\n",
              "      border-left-color: var(--fill-color);\n",
              "      border-top-color: var(--fill-color);\n",
              "    }\n",
              "    30% {\n",
              "      border-color: transparent;\n",
              "      border-left-color: var(--fill-color);\n",
              "      border-top-color: var(--fill-color);\n",
              "      border-right-color: var(--fill-color);\n",
              "    }\n",
              "    40% {\n",
              "      border-color: transparent;\n",
              "      border-right-color: var(--fill-color);\n",
              "      border-top-color: var(--fill-color);\n",
              "    }\n",
              "    60% {\n",
              "      border-color: transparent;\n",
              "      border-right-color: var(--fill-color);\n",
              "    }\n",
              "    80% {\n",
              "      border-color: transparent;\n",
              "      border-right-color: var(--fill-color);\n",
              "      border-bottom-color: var(--fill-color);\n",
              "    }\n",
              "    90% {\n",
              "      border-color: transparent;\n",
              "      border-bottom-color: var(--fill-color);\n",
              "    }\n",
              "  }\n",
              "</style>\n",
              "\n",
              "      <script>\n",
              "        async function quickchart(key) {\n",
              "          const quickchartButtonEl =\n",
              "            document.querySelector('#' + key + ' button');\n",
              "          quickchartButtonEl.disabled = true;  // To prevent multiple clicks.\n",
              "          quickchartButtonEl.classList.add('colab-df-spinner');\n",
              "          try {\n",
              "            const charts = await google.colab.kernel.invokeFunction(\n",
              "                'suggestCharts', [key], {});\n",
              "          } catch (error) {\n",
              "            console.error('Error during call to suggestCharts:', error);\n",
              "          }\n",
              "          quickchartButtonEl.classList.remove('colab-df-spinner');\n",
              "          quickchartButtonEl.classList.add('colab-df-quickchart-complete');\n",
              "        }\n",
              "        (() => {\n",
              "          let quickchartButtonEl =\n",
              "            document.querySelector('#df-355127c6-4a6d-42dd-aa43-cdb12e2e6b8e button');\n",
              "          quickchartButtonEl.style.display =\n",
              "            google.colab.kernel.accessAllowed ? 'block' : 'none';\n",
              "        })();\n",
              "      </script>\n",
              "    </div>\n",
              "\n",
              "  <div id=\"id_4f35f98c-e096-40b5-91a6-e243987dd7a3\">\n",
              "    <style>\n",
              "      .colab-df-generate {\n",
              "        background-color: #E8F0FE;\n",
              "        border: none;\n",
              "        border-radius: 50%;\n",
              "        cursor: pointer;\n",
              "        display: none;\n",
              "        fill: #1967D2;\n",
              "        height: 32px;\n",
              "        padding: 0 0 0 0;\n",
              "        width: 32px;\n",
              "      }\n",
              "\n",
              "      .colab-df-generate:hover {\n",
              "        background-color: #E2EBFA;\n",
              "        box-shadow: 0px 1px 2px rgba(60, 64, 67, 0.3), 0px 1px 3px 1px rgba(60, 64, 67, 0.15);\n",
              "        fill: #174EA6;\n",
              "      }\n",
              "\n",
              "      [theme=dark] .colab-df-generate {\n",
              "        background-color: #3B4455;\n",
              "        fill: #D2E3FC;\n",
              "      }\n",
              "\n",
              "      [theme=dark] .colab-df-generate:hover {\n",
              "        background-color: #434B5C;\n",
              "        box-shadow: 0px 1px 3px 1px rgba(0, 0, 0, 0.15);\n",
              "        filter: drop-shadow(0px 1px 2px rgba(0, 0, 0, 0.3));\n",
              "        fill: #FFFFFF;\n",
              "      }\n",
              "    </style>\n",
              "    <button class=\"colab-df-generate\" onclick=\"generateWithVariable('features_importances')\"\n",
              "            title=\"Generate code using this dataframe.\"\n",
              "            style=\"display:none;\">\n",
              "\n",
              "  <svg xmlns=\"http://www.w3.org/2000/svg\" height=\"24px\"viewBox=\"0 0 24 24\"\n",
              "       width=\"24px\">\n",
              "    <path d=\"M7,19H8.4L18.45,9,17,7.55,7,17.6ZM5,21V16.75L18.45,3.32a2,2,0,0,1,2.83,0l1.4,1.43a1.91,1.91,0,0,1,.58,1.4,1.91,1.91,0,0,1-.58,1.4L9.25,21ZM18.45,9,17,7.55Zm-12,3A5.31,5.31,0,0,0,4.9,8.1,5.31,5.31,0,0,0,1,6.5,5.31,5.31,0,0,0,4.9,4.9,5.31,5.31,0,0,0,6.5,1,5.31,5.31,0,0,0,8.1,4.9,5.31,5.31,0,0,0,12,6.5,5.46,5.46,0,0,0,6.5,12Z\"/>\n",
              "  </svg>\n",
              "    </button>\n",
              "    <script>\n",
              "      (() => {\n",
              "      const buttonEl =\n",
              "        document.querySelector('#id_4f35f98c-e096-40b5-91a6-e243987dd7a3 button.colab-df-generate');\n",
              "      buttonEl.style.display =\n",
              "        google.colab.kernel.accessAllowed ? 'block' : 'none';\n",
              "\n",
              "      buttonEl.onclick = () => {\n",
              "        google.colab.notebook.generateWithVariable('features_importances');\n",
              "      }\n",
              "      })();\n",
              "    </script>\n",
              "  </div>\n",
              "\n",
              "    </div>\n",
              "  </div>\n"
            ],
            "application/vnd.google.colaboratory.intrinsic+json": {
              "type": "dataframe",
              "variable_name": "features_importances",
              "summary": "{\n  \"name\": \"features_importances\",\n  \"rows\": 28,\n  \"fields\": [\n    {\n      \"column\": \"Features\",\n      \"properties\": {\n        \"dtype\": \"string\",\n        \"num_unique_values\": 28,\n        \"samples\": [\n          \"Contract_two year\",\n          \"PaymentMethod_credit card\",\n          \"Contract_one year\"\n        ],\n        \"semantic_type\": \"\",\n        \"description\": \"\"\n      }\n    },\n    {\n      \"column\": \"Importances\",\n      \"properties\": {\n        \"dtype\": \"number\",\n        \"std\": 4.946958166976966,\n        \"min\": 0.22,\n        \"max\": 19.23,\n        \"num_unique_values\": 27,\n        \"samples\": [\n          2.48,\n          1.55,\n          2.39\n        ],\n        \"semantic_type\": \"\",\n        \"description\": \"\"\n      }\n    }\n  ]\n}"
            }
          },
          "metadata": {},
          "execution_count": 101
        }
      ]
    },
    {
      "cell_type": "code",
      "source": [
        "ct_features = [i if i !=0 else 1 for i in range(16, 21)]\n",
        "ct_features"
      ],
      "metadata": {
        "colab": {
          "base_uri": "https://localhost:8080/"
        },
        "id": "syFZL4Ih_iiC",
        "outputId": "3e736075-d728-4677-a05c-d8b2942a3d26"
      },
      "execution_count": 113,
      "outputs": [
        {
          "output_type": "execute_result",
          "data": {
            "text/plain": [
              "[16, 17, 18, 19, 20]"
            ]
          },
          "metadata": {},
          "execution_count": 113
        }
      ]
    },
    {
      "cell_type": "code",
      "source": [
        "X_train, X_test, y_train, y_test = train_test_split(X, y, test_size=0.2, random_state=5)"
      ],
      "metadata": {
        "id": "7-jloucfA_he"
      },
      "execution_count": 106,
      "outputs": []
    },
    {
      "cell_type": "code",
      "source": [
        "model_features = RandomForestClassifier(max_depth=10, random_state=5)"
      ],
      "metadata": {
        "id": "nPDJ0gqpGe4a"
      },
      "execution_count": 107,
      "outputs": []
    },
    {
      "cell_type": "code",
      "source": [
        "resultados = pd.DataFrame(index=['Precision', 'Recall', 'Accuracy', 'F1_score'])"
      ],
      "metadata": {
        "id": "aE2qJRJDGuDq"
      },
      "execution_count": 116,
      "outputs": []
    },
    {
      "cell_type": "code",
      "source": [
        "def metricas_modelos_features(y_test, y_pred):\n",
        "  precision = precision_score(y_test, y_pred)\n",
        "  recall = recall_score(y_test, y_pred)\n",
        "  accuracy = accuracy_score(y_test, y_pred)\n",
        "  f1 = f1_score(y_test, y_pred)\n",
        "\n",
        "  metricas = {\n",
        "      'Precision': round(precision,2),\n",
        "      'Recall': round(recall,2),\n",
        "      'Accuracy': round(accuracy,2),\n",
        "      'F1_score': round(f1,2)\n",
        "  }\n",
        "  return metricas"
      ],
      "metadata": {
        "id": "CpsNYdImICAw"
      },
      "execution_count": 110,
      "outputs": []
    },
    {
      "cell_type": "code",
      "source": [
        "for i in ct_features:\n",
        "  selected_features = features_importances['Features'].values[:i]\n",
        "  X_train_sel = X_train[selected_features]\n",
        "  X_test_sel = X_test[selected_features]\n",
        "  model_features.fit(X_train_sel, y_train)\n",
        "  y_pred = model_features.predict(X_test_sel)\n",
        "  metricas = metricas_modelos_features(y_test, y_pred)\n",
        "  resultados[i] = list(metricas.values())"
      ],
      "metadata": {
        "id": "c04OO3JMFBf0"
      },
      "execution_count": 117,
      "outputs": []
    },
    {
      "cell_type": "code",
      "source": [
        "resultados"
      ],
      "metadata": {
        "colab": {
          "base_uri": "https://localhost:8080/",
          "height": 175
        },
        "id": "qj5IDcprJTon",
        "outputId": "2ea7edc3-8bec-4da3-9f9c-96f182ff251d"
      },
      "execution_count": 118,
      "outputs": [
        {
          "output_type": "execute_result",
          "data": {
            "text/plain": [
              "             16    17    18    19    20\n",
              "Precision  0.82  0.82  0.82  0.82  0.82\n",
              "Recall     0.86  0.87  0.86  0.86  0.87\n",
              "Accuracy   0.83  0.84  0.84  0.83  0.84\n",
              "F1_score   0.84  0.85  0.84  0.84  0.84"
            ],
            "text/html": [
              "\n",
              "  <div id=\"df-099938de-01e9-4c11-ae0b-f183a9bba341\" class=\"colab-df-container\">\n",
              "    <div>\n",
              "<style scoped>\n",
              "    .dataframe tbody tr th:only-of-type {\n",
              "        vertical-align: middle;\n",
              "    }\n",
              "\n",
              "    .dataframe tbody tr th {\n",
              "        vertical-align: top;\n",
              "    }\n",
              "\n",
              "    .dataframe thead th {\n",
              "        text-align: right;\n",
              "    }\n",
              "</style>\n",
              "<table border=\"1\" class=\"dataframe\">\n",
              "  <thead>\n",
              "    <tr style=\"text-align: right;\">\n",
              "      <th></th>\n",
              "      <th>16</th>\n",
              "      <th>17</th>\n",
              "      <th>18</th>\n",
              "      <th>19</th>\n",
              "      <th>20</th>\n",
              "    </tr>\n",
              "  </thead>\n",
              "  <tbody>\n",
              "    <tr>\n",
              "      <th>Precision</th>\n",
              "      <td>0.82</td>\n",
              "      <td>0.82</td>\n",
              "      <td>0.82</td>\n",
              "      <td>0.82</td>\n",
              "      <td>0.82</td>\n",
              "    </tr>\n",
              "    <tr>\n",
              "      <th>Recall</th>\n",
              "      <td>0.86</td>\n",
              "      <td>0.87</td>\n",
              "      <td>0.86</td>\n",
              "      <td>0.86</td>\n",
              "      <td>0.87</td>\n",
              "    </tr>\n",
              "    <tr>\n",
              "      <th>Accuracy</th>\n",
              "      <td>0.83</td>\n",
              "      <td>0.84</td>\n",
              "      <td>0.84</td>\n",
              "      <td>0.83</td>\n",
              "      <td>0.84</td>\n",
              "    </tr>\n",
              "    <tr>\n",
              "      <th>F1_score</th>\n",
              "      <td>0.84</td>\n",
              "      <td>0.85</td>\n",
              "      <td>0.84</td>\n",
              "      <td>0.84</td>\n",
              "      <td>0.84</td>\n",
              "    </tr>\n",
              "  </tbody>\n",
              "</table>\n",
              "</div>\n",
              "    <div class=\"colab-df-buttons\">\n",
              "\n",
              "  <div class=\"colab-df-container\">\n",
              "    <button class=\"colab-df-convert\" onclick=\"convertToInteractive('df-099938de-01e9-4c11-ae0b-f183a9bba341')\"\n",
              "            title=\"Convert this dataframe to an interactive table.\"\n",
              "            style=\"display:none;\">\n",
              "\n",
              "  <svg xmlns=\"http://www.w3.org/2000/svg\" height=\"24px\" viewBox=\"0 -960 960 960\">\n",
              "    <path d=\"M120-120v-720h720v720H120Zm60-500h600v-160H180v160Zm220 220h160v-160H400v160Zm0 220h160v-160H400v160ZM180-400h160v-160H180v160Zm440 0h160v-160H620v160ZM180-180h160v-160H180v160Zm440 0h160v-160H620v160Z\"/>\n",
              "  </svg>\n",
              "    </button>\n",
              "\n",
              "  <style>\n",
              "    .colab-df-container {\n",
              "      display:flex;\n",
              "      gap: 12px;\n",
              "    }\n",
              "\n",
              "    .colab-df-convert {\n",
              "      background-color: #E8F0FE;\n",
              "      border: none;\n",
              "      border-radius: 50%;\n",
              "      cursor: pointer;\n",
              "      display: none;\n",
              "      fill: #1967D2;\n",
              "      height: 32px;\n",
              "      padding: 0 0 0 0;\n",
              "      width: 32px;\n",
              "    }\n",
              "\n",
              "    .colab-df-convert:hover {\n",
              "      background-color: #E2EBFA;\n",
              "      box-shadow: 0px 1px 2px rgba(60, 64, 67, 0.3), 0px 1px 3px 1px rgba(60, 64, 67, 0.15);\n",
              "      fill: #174EA6;\n",
              "    }\n",
              "\n",
              "    .colab-df-buttons div {\n",
              "      margin-bottom: 4px;\n",
              "    }\n",
              "\n",
              "    [theme=dark] .colab-df-convert {\n",
              "      background-color: #3B4455;\n",
              "      fill: #D2E3FC;\n",
              "    }\n",
              "\n",
              "    [theme=dark] .colab-df-convert:hover {\n",
              "      background-color: #434B5C;\n",
              "      box-shadow: 0px 1px 3px 1px rgba(0, 0, 0, 0.15);\n",
              "      filter: drop-shadow(0px 1px 2px rgba(0, 0, 0, 0.3));\n",
              "      fill: #FFFFFF;\n",
              "    }\n",
              "  </style>\n",
              "\n",
              "    <script>\n",
              "      const buttonEl =\n",
              "        document.querySelector('#df-099938de-01e9-4c11-ae0b-f183a9bba341 button.colab-df-convert');\n",
              "      buttonEl.style.display =\n",
              "        google.colab.kernel.accessAllowed ? 'block' : 'none';\n",
              "\n",
              "      async function convertToInteractive(key) {\n",
              "        const element = document.querySelector('#df-099938de-01e9-4c11-ae0b-f183a9bba341');\n",
              "        const dataTable =\n",
              "          await google.colab.kernel.invokeFunction('convertToInteractive',\n",
              "                                                    [key], {});\n",
              "        if (!dataTable) return;\n",
              "\n",
              "        const docLinkHtml = 'Like what you see? Visit the ' +\n",
              "          '<a target=\"_blank\" href=https://colab.research.google.com/notebooks/data_table.ipynb>data table notebook</a>'\n",
              "          + ' to learn more about interactive tables.';\n",
              "        element.innerHTML = '';\n",
              "        dataTable['output_type'] = 'display_data';\n",
              "        await google.colab.output.renderOutput(dataTable, element);\n",
              "        const docLink = document.createElement('div');\n",
              "        docLink.innerHTML = docLinkHtml;\n",
              "        element.appendChild(docLink);\n",
              "      }\n",
              "    </script>\n",
              "  </div>\n",
              "\n",
              "\n",
              "    <div id=\"df-8deac275-5c91-49f6-80ee-fabb583eb392\">\n",
              "      <button class=\"colab-df-quickchart\" onclick=\"quickchart('df-8deac275-5c91-49f6-80ee-fabb583eb392')\"\n",
              "                title=\"Suggest charts\"\n",
              "                style=\"display:none;\">\n",
              "\n",
              "<svg xmlns=\"http://www.w3.org/2000/svg\" height=\"24px\"viewBox=\"0 0 24 24\"\n",
              "     width=\"24px\">\n",
              "    <g>\n",
              "        <path d=\"M19 3H5c-1.1 0-2 .9-2 2v14c0 1.1.9 2 2 2h14c1.1 0 2-.9 2-2V5c0-1.1-.9-2-2-2zM9 17H7v-7h2v7zm4 0h-2V7h2v10zm4 0h-2v-4h2v4z\"/>\n",
              "    </g>\n",
              "</svg>\n",
              "      </button>\n",
              "\n",
              "<style>\n",
              "  .colab-df-quickchart {\n",
              "      --bg-color: #E8F0FE;\n",
              "      --fill-color: #1967D2;\n",
              "      --hover-bg-color: #E2EBFA;\n",
              "      --hover-fill-color: #174EA6;\n",
              "      --disabled-fill-color: #AAA;\n",
              "      --disabled-bg-color: #DDD;\n",
              "  }\n",
              "\n",
              "  [theme=dark] .colab-df-quickchart {\n",
              "      --bg-color: #3B4455;\n",
              "      --fill-color: #D2E3FC;\n",
              "      --hover-bg-color: #434B5C;\n",
              "      --hover-fill-color: #FFFFFF;\n",
              "      --disabled-bg-color: #3B4455;\n",
              "      --disabled-fill-color: #666;\n",
              "  }\n",
              "\n",
              "  .colab-df-quickchart {\n",
              "    background-color: var(--bg-color);\n",
              "    border: none;\n",
              "    border-radius: 50%;\n",
              "    cursor: pointer;\n",
              "    display: none;\n",
              "    fill: var(--fill-color);\n",
              "    height: 32px;\n",
              "    padding: 0;\n",
              "    width: 32px;\n",
              "  }\n",
              "\n",
              "  .colab-df-quickchart:hover {\n",
              "    background-color: var(--hover-bg-color);\n",
              "    box-shadow: 0 1px 2px rgba(60, 64, 67, 0.3), 0 1px 3px 1px rgba(60, 64, 67, 0.15);\n",
              "    fill: var(--button-hover-fill-color);\n",
              "  }\n",
              "\n",
              "  .colab-df-quickchart-complete:disabled,\n",
              "  .colab-df-quickchart-complete:disabled:hover {\n",
              "    background-color: var(--disabled-bg-color);\n",
              "    fill: var(--disabled-fill-color);\n",
              "    box-shadow: none;\n",
              "  }\n",
              "\n",
              "  .colab-df-spinner {\n",
              "    border: 2px solid var(--fill-color);\n",
              "    border-color: transparent;\n",
              "    border-bottom-color: var(--fill-color);\n",
              "    animation:\n",
              "      spin 1s steps(1) infinite;\n",
              "  }\n",
              "\n",
              "  @keyframes spin {\n",
              "    0% {\n",
              "      border-color: transparent;\n",
              "      border-bottom-color: var(--fill-color);\n",
              "      border-left-color: var(--fill-color);\n",
              "    }\n",
              "    20% {\n",
              "      border-color: transparent;\n",
              "      border-left-color: var(--fill-color);\n",
              "      border-top-color: var(--fill-color);\n",
              "    }\n",
              "    30% {\n",
              "      border-color: transparent;\n",
              "      border-left-color: var(--fill-color);\n",
              "      border-top-color: var(--fill-color);\n",
              "      border-right-color: var(--fill-color);\n",
              "    }\n",
              "    40% {\n",
              "      border-color: transparent;\n",
              "      border-right-color: var(--fill-color);\n",
              "      border-top-color: var(--fill-color);\n",
              "    }\n",
              "    60% {\n",
              "      border-color: transparent;\n",
              "      border-right-color: var(--fill-color);\n",
              "    }\n",
              "    80% {\n",
              "      border-color: transparent;\n",
              "      border-right-color: var(--fill-color);\n",
              "      border-bottom-color: var(--fill-color);\n",
              "    }\n",
              "    90% {\n",
              "      border-color: transparent;\n",
              "      border-bottom-color: var(--fill-color);\n",
              "    }\n",
              "  }\n",
              "</style>\n",
              "\n",
              "      <script>\n",
              "        async function quickchart(key) {\n",
              "          const quickchartButtonEl =\n",
              "            document.querySelector('#' + key + ' button');\n",
              "          quickchartButtonEl.disabled = true;  // To prevent multiple clicks.\n",
              "          quickchartButtonEl.classList.add('colab-df-spinner');\n",
              "          try {\n",
              "            const charts = await google.colab.kernel.invokeFunction(\n",
              "                'suggestCharts', [key], {});\n",
              "          } catch (error) {\n",
              "            console.error('Error during call to suggestCharts:', error);\n",
              "          }\n",
              "          quickchartButtonEl.classList.remove('colab-df-spinner');\n",
              "          quickchartButtonEl.classList.add('colab-df-quickchart-complete');\n",
              "        }\n",
              "        (() => {\n",
              "          let quickchartButtonEl =\n",
              "            document.querySelector('#df-8deac275-5c91-49f6-80ee-fabb583eb392 button');\n",
              "          quickchartButtonEl.style.display =\n",
              "            google.colab.kernel.accessAllowed ? 'block' : 'none';\n",
              "        })();\n",
              "      </script>\n",
              "    </div>\n",
              "\n",
              "  <div id=\"id_b0071be6-2a6a-4568-a149-f677fb69fdeb\">\n",
              "    <style>\n",
              "      .colab-df-generate {\n",
              "        background-color: #E8F0FE;\n",
              "        border: none;\n",
              "        border-radius: 50%;\n",
              "        cursor: pointer;\n",
              "        display: none;\n",
              "        fill: #1967D2;\n",
              "        height: 32px;\n",
              "        padding: 0 0 0 0;\n",
              "        width: 32px;\n",
              "      }\n",
              "\n",
              "      .colab-df-generate:hover {\n",
              "        background-color: #E2EBFA;\n",
              "        box-shadow: 0px 1px 2px rgba(60, 64, 67, 0.3), 0px 1px 3px 1px rgba(60, 64, 67, 0.15);\n",
              "        fill: #174EA6;\n",
              "      }\n",
              "\n",
              "      [theme=dark] .colab-df-generate {\n",
              "        background-color: #3B4455;\n",
              "        fill: #D2E3FC;\n",
              "      }\n",
              "\n",
              "      [theme=dark] .colab-df-generate:hover {\n",
              "        background-color: #434B5C;\n",
              "        box-shadow: 0px 1px 3px 1px rgba(0, 0, 0, 0.15);\n",
              "        filter: drop-shadow(0px 1px 2px rgba(0, 0, 0, 0.3));\n",
              "        fill: #FFFFFF;\n",
              "      }\n",
              "    </style>\n",
              "    <button class=\"colab-df-generate\" onclick=\"generateWithVariable('resultados')\"\n",
              "            title=\"Generate code using this dataframe.\"\n",
              "            style=\"display:none;\">\n",
              "\n",
              "  <svg xmlns=\"http://www.w3.org/2000/svg\" height=\"24px\"viewBox=\"0 0 24 24\"\n",
              "       width=\"24px\">\n",
              "    <path d=\"M7,19H8.4L18.45,9,17,7.55,7,17.6ZM5,21V16.75L18.45,3.32a2,2,0,0,1,2.83,0l1.4,1.43a1.91,1.91,0,0,1,.58,1.4,1.91,1.91,0,0,1-.58,1.4L9.25,21ZM18.45,9,17,7.55Zm-12,3A5.31,5.31,0,0,0,4.9,8.1,5.31,5.31,0,0,0,1,6.5,5.31,5.31,0,0,0,4.9,4.9,5.31,5.31,0,0,0,6.5,1,5.31,5.31,0,0,0,8.1,4.9,5.31,5.31,0,0,0,12,6.5,5.46,5.46,0,0,0,6.5,12Z\"/>\n",
              "  </svg>\n",
              "    </button>\n",
              "    <script>\n",
              "      (() => {\n",
              "      const buttonEl =\n",
              "        document.querySelector('#id_b0071be6-2a6a-4568-a149-f677fb69fdeb button.colab-df-generate');\n",
              "      buttonEl.style.display =\n",
              "        google.colab.kernel.accessAllowed ? 'block' : 'none';\n",
              "\n",
              "      buttonEl.onclick = () => {\n",
              "        google.colab.notebook.generateWithVariable('resultados');\n",
              "      }\n",
              "      })();\n",
              "    </script>\n",
              "  </div>\n",
              "\n",
              "    </div>\n",
              "  </div>\n"
            ],
            "application/vnd.google.colaboratory.intrinsic+json": {
              "type": "dataframe",
              "variable_name": "resultados",
              "summary": "{\n  \"name\": \"resultados\",\n  \"rows\": 4,\n  \"fields\": [\n    {\n      \"column\": 16,\n      \"properties\": {\n        \"dtype\": \"number\",\n        \"std\": 0.017078251276599347,\n        \"min\": 0.82,\n        \"max\": 0.86,\n        \"num_unique_values\": 4,\n        \"samples\": [\n          0.86,\n          0.84,\n          0.82\n        ],\n        \"semantic_type\": \"\",\n        \"description\": \"\"\n      }\n    },\n    {\n      \"column\": 17,\n      \"properties\": {\n        \"dtype\": \"number\",\n        \"std\": 0.020816659994661348,\n        \"min\": 0.82,\n        \"max\": 0.87,\n        \"num_unique_values\": 4,\n        \"samples\": [\n          0.87,\n          0.85,\n          0.82\n        ],\n        \"semantic_type\": \"\",\n        \"description\": \"\"\n      }\n    },\n    {\n      \"column\": 18,\n      \"properties\": {\n        \"dtype\": \"number\",\n        \"std\": 0.016329931618554536,\n        \"min\": 0.82,\n        \"max\": 0.86,\n        \"num_unique_values\": 3,\n        \"samples\": [\n          0.82,\n          0.86,\n          0.84\n        ],\n        \"semantic_type\": \"\",\n        \"description\": \"\"\n      }\n    },\n    {\n      \"column\": 19,\n      \"properties\": {\n        \"dtype\": \"number\",\n        \"std\": 0.017078251276599347,\n        \"min\": 0.82,\n        \"max\": 0.86,\n        \"num_unique_values\": 4,\n        \"samples\": [\n          0.86,\n          0.84,\n          0.82\n        ],\n        \"semantic_type\": \"\",\n        \"description\": \"\"\n      }\n    },\n    {\n      \"column\": 20,\n      \"properties\": {\n        \"dtype\": \"number\",\n        \"std\": 0.020615528128088322,\n        \"min\": 0.82,\n        \"max\": 0.87,\n        \"num_unique_values\": 3,\n        \"samples\": [\n          0.82,\n          0.87,\n          0.84\n        ],\n        \"semantic_type\": \"\",\n        \"description\": \"\"\n      }\n    }\n  ]\n}"
            }
          },
          "metadata": {},
          "execution_count": 118
        }
      ]
    },
    {
      "cell_type": "code",
      "source": [
        "selected_features = features_importances['Features'].values[:17]\n",
        "X_selected_features = X[selected_features]\n",
        "X_selected_features.head(2)"
      ],
      "metadata": {
        "colab": {
          "base_uri": "https://localhost:8080/",
          "height": 149
        },
        "id": "bq1kUgvaKrUg",
        "outputId": "0c31bba4-3c5d-487b-de56-e97488a8cb33"
      },
      "execution_count": 119,
      "outputs": [
        {
          "output_type": "execute_result",
          "data": {
            "text/plain": [
              "   tenure     Total   Monthly  CuentasDiarias  Contract_month-to-month  \\\n",
              "0   0.125  0.068315  0.471144        0.471642                      0.0   \n",
              "1   0.125  0.062454  0.414428        0.414925                      1.0   \n",
              "\n",
              "   TechSupport  PaymentMethod_electronic check  OnlineSecurity  \\\n",
              "0          1.0                             0.0             0.0   \n",
              "1          0.0                             0.0             0.0   \n",
              "\n",
              "   Contract_one year  Contract_two year  PaperlessBilling  Dependents  \\\n",
              "0                1.0                0.0               1.0         1.0   \n",
              "1                0.0                0.0               0.0         0.0   \n",
              "\n",
              "   OnlineBackup  MultipleLines  Partner  InternetService_fiber optic  \\\n",
              "0           1.0            0.0      1.0                          0.0   \n",
              "1           0.0            1.0      0.0                          0.0   \n",
              "\n",
              "   DeviceProtection  \n",
              "0               0.0  \n",
              "1               0.0  "
            ],
            "text/html": [
              "\n",
              "  <div id=\"df-80923a9e-45c3-473d-b2d3-6e7c4f0125c9\" class=\"colab-df-container\">\n",
              "    <div>\n",
              "<style scoped>\n",
              "    .dataframe tbody tr th:only-of-type {\n",
              "        vertical-align: middle;\n",
              "    }\n",
              "\n",
              "    .dataframe tbody tr th {\n",
              "        vertical-align: top;\n",
              "    }\n",
              "\n",
              "    .dataframe thead th {\n",
              "        text-align: right;\n",
              "    }\n",
              "</style>\n",
              "<table border=\"1\" class=\"dataframe\">\n",
              "  <thead>\n",
              "    <tr style=\"text-align: right;\">\n",
              "      <th></th>\n",
              "      <th>tenure</th>\n",
              "      <th>Total</th>\n",
              "      <th>Monthly</th>\n",
              "      <th>CuentasDiarias</th>\n",
              "      <th>Contract_month-to-month</th>\n",
              "      <th>TechSupport</th>\n",
              "      <th>PaymentMethod_electronic check</th>\n",
              "      <th>OnlineSecurity</th>\n",
              "      <th>Contract_one year</th>\n",
              "      <th>Contract_two year</th>\n",
              "      <th>PaperlessBilling</th>\n",
              "      <th>Dependents</th>\n",
              "      <th>OnlineBackup</th>\n",
              "      <th>MultipleLines</th>\n",
              "      <th>Partner</th>\n",
              "      <th>InternetService_fiber optic</th>\n",
              "      <th>DeviceProtection</th>\n",
              "    </tr>\n",
              "  </thead>\n",
              "  <tbody>\n",
              "    <tr>\n",
              "      <th>0</th>\n",
              "      <td>0.125</td>\n",
              "      <td>0.068315</td>\n",
              "      <td>0.471144</td>\n",
              "      <td>0.471642</td>\n",
              "      <td>0.0</td>\n",
              "      <td>1.0</td>\n",
              "      <td>0.0</td>\n",
              "      <td>0.0</td>\n",
              "      <td>1.0</td>\n",
              "      <td>0.0</td>\n",
              "      <td>1.0</td>\n",
              "      <td>1.0</td>\n",
              "      <td>1.0</td>\n",
              "      <td>0.0</td>\n",
              "      <td>1.0</td>\n",
              "      <td>0.0</td>\n",
              "      <td>0.0</td>\n",
              "    </tr>\n",
              "    <tr>\n",
              "      <th>1</th>\n",
              "      <td>0.125</td>\n",
              "      <td>0.062454</td>\n",
              "      <td>0.414428</td>\n",
              "      <td>0.414925</td>\n",
              "      <td>1.0</td>\n",
              "      <td>0.0</td>\n",
              "      <td>0.0</td>\n",
              "      <td>0.0</td>\n",
              "      <td>0.0</td>\n",
              "      <td>0.0</td>\n",
              "      <td>0.0</td>\n",
              "      <td>0.0</td>\n",
              "      <td>0.0</td>\n",
              "      <td>1.0</td>\n",
              "      <td>0.0</td>\n",
              "      <td>0.0</td>\n",
              "      <td>0.0</td>\n",
              "    </tr>\n",
              "  </tbody>\n",
              "</table>\n",
              "</div>\n",
              "    <div class=\"colab-df-buttons\">\n",
              "\n",
              "  <div class=\"colab-df-container\">\n",
              "    <button class=\"colab-df-convert\" onclick=\"convertToInteractive('df-80923a9e-45c3-473d-b2d3-6e7c4f0125c9')\"\n",
              "            title=\"Convert this dataframe to an interactive table.\"\n",
              "            style=\"display:none;\">\n",
              "\n",
              "  <svg xmlns=\"http://www.w3.org/2000/svg\" height=\"24px\" viewBox=\"0 -960 960 960\">\n",
              "    <path d=\"M120-120v-720h720v720H120Zm60-500h600v-160H180v160Zm220 220h160v-160H400v160Zm0 220h160v-160H400v160ZM180-400h160v-160H180v160Zm440 0h160v-160H620v160ZM180-180h160v-160H180v160Zm440 0h160v-160H620v160Z\"/>\n",
              "  </svg>\n",
              "    </button>\n",
              "\n",
              "  <style>\n",
              "    .colab-df-container {\n",
              "      display:flex;\n",
              "      gap: 12px;\n",
              "    }\n",
              "\n",
              "    .colab-df-convert {\n",
              "      background-color: #E8F0FE;\n",
              "      border: none;\n",
              "      border-radius: 50%;\n",
              "      cursor: pointer;\n",
              "      display: none;\n",
              "      fill: #1967D2;\n",
              "      height: 32px;\n",
              "      padding: 0 0 0 0;\n",
              "      width: 32px;\n",
              "    }\n",
              "\n",
              "    .colab-df-convert:hover {\n",
              "      background-color: #E2EBFA;\n",
              "      box-shadow: 0px 1px 2px rgba(60, 64, 67, 0.3), 0px 1px 3px 1px rgba(60, 64, 67, 0.15);\n",
              "      fill: #174EA6;\n",
              "    }\n",
              "\n",
              "    .colab-df-buttons div {\n",
              "      margin-bottom: 4px;\n",
              "    }\n",
              "\n",
              "    [theme=dark] .colab-df-convert {\n",
              "      background-color: #3B4455;\n",
              "      fill: #D2E3FC;\n",
              "    }\n",
              "\n",
              "    [theme=dark] .colab-df-convert:hover {\n",
              "      background-color: #434B5C;\n",
              "      box-shadow: 0px 1px 3px 1px rgba(0, 0, 0, 0.15);\n",
              "      filter: drop-shadow(0px 1px 2px rgba(0, 0, 0, 0.3));\n",
              "      fill: #FFFFFF;\n",
              "    }\n",
              "  </style>\n",
              "\n",
              "    <script>\n",
              "      const buttonEl =\n",
              "        document.querySelector('#df-80923a9e-45c3-473d-b2d3-6e7c4f0125c9 button.colab-df-convert');\n",
              "      buttonEl.style.display =\n",
              "        google.colab.kernel.accessAllowed ? 'block' : 'none';\n",
              "\n",
              "      async function convertToInteractive(key) {\n",
              "        const element = document.querySelector('#df-80923a9e-45c3-473d-b2d3-6e7c4f0125c9');\n",
              "        const dataTable =\n",
              "          await google.colab.kernel.invokeFunction('convertToInteractive',\n",
              "                                                    [key], {});\n",
              "        if (!dataTable) return;\n",
              "\n",
              "        const docLinkHtml = 'Like what you see? Visit the ' +\n",
              "          '<a target=\"_blank\" href=https://colab.research.google.com/notebooks/data_table.ipynb>data table notebook</a>'\n",
              "          + ' to learn more about interactive tables.';\n",
              "        element.innerHTML = '';\n",
              "        dataTable['output_type'] = 'display_data';\n",
              "        await google.colab.output.renderOutput(dataTable, element);\n",
              "        const docLink = document.createElement('div');\n",
              "        docLink.innerHTML = docLinkHtml;\n",
              "        element.appendChild(docLink);\n",
              "      }\n",
              "    </script>\n",
              "  </div>\n",
              "\n",
              "\n",
              "    <div id=\"df-c9af604c-a8da-4f08-b8ca-3af77cab6e3d\">\n",
              "      <button class=\"colab-df-quickchart\" onclick=\"quickchart('df-c9af604c-a8da-4f08-b8ca-3af77cab6e3d')\"\n",
              "                title=\"Suggest charts\"\n",
              "                style=\"display:none;\">\n",
              "\n",
              "<svg xmlns=\"http://www.w3.org/2000/svg\" height=\"24px\"viewBox=\"0 0 24 24\"\n",
              "     width=\"24px\">\n",
              "    <g>\n",
              "        <path d=\"M19 3H5c-1.1 0-2 .9-2 2v14c0 1.1.9 2 2 2h14c1.1 0 2-.9 2-2V5c0-1.1-.9-2-2-2zM9 17H7v-7h2v7zm4 0h-2V7h2v10zm4 0h-2v-4h2v4z\"/>\n",
              "    </g>\n",
              "</svg>\n",
              "      </button>\n",
              "\n",
              "<style>\n",
              "  .colab-df-quickchart {\n",
              "      --bg-color: #E8F0FE;\n",
              "      --fill-color: #1967D2;\n",
              "      --hover-bg-color: #E2EBFA;\n",
              "      --hover-fill-color: #174EA6;\n",
              "      --disabled-fill-color: #AAA;\n",
              "      --disabled-bg-color: #DDD;\n",
              "  }\n",
              "\n",
              "  [theme=dark] .colab-df-quickchart {\n",
              "      --bg-color: #3B4455;\n",
              "      --fill-color: #D2E3FC;\n",
              "      --hover-bg-color: #434B5C;\n",
              "      --hover-fill-color: #FFFFFF;\n",
              "      --disabled-bg-color: #3B4455;\n",
              "      --disabled-fill-color: #666;\n",
              "  }\n",
              "\n",
              "  .colab-df-quickchart {\n",
              "    background-color: var(--bg-color);\n",
              "    border: none;\n",
              "    border-radius: 50%;\n",
              "    cursor: pointer;\n",
              "    display: none;\n",
              "    fill: var(--fill-color);\n",
              "    height: 32px;\n",
              "    padding: 0;\n",
              "    width: 32px;\n",
              "  }\n",
              "\n",
              "  .colab-df-quickchart:hover {\n",
              "    background-color: var(--hover-bg-color);\n",
              "    box-shadow: 0 1px 2px rgba(60, 64, 67, 0.3), 0 1px 3px 1px rgba(60, 64, 67, 0.15);\n",
              "    fill: var(--button-hover-fill-color);\n",
              "  }\n",
              "\n",
              "  .colab-df-quickchart-complete:disabled,\n",
              "  .colab-df-quickchart-complete:disabled:hover {\n",
              "    background-color: var(--disabled-bg-color);\n",
              "    fill: var(--disabled-fill-color);\n",
              "    box-shadow: none;\n",
              "  }\n",
              "\n",
              "  .colab-df-spinner {\n",
              "    border: 2px solid var(--fill-color);\n",
              "    border-color: transparent;\n",
              "    border-bottom-color: var(--fill-color);\n",
              "    animation:\n",
              "      spin 1s steps(1) infinite;\n",
              "  }\n",
              "\n",
              "  @keyframes spin {\n",
              "    0% {\n",
              "      border-color: transparent;\n",
              "      border-bottom-color: var(--fill-color);\n",
              "      border-left-color: var(--fill-color);\n",
              "    }\n",
              "    20% {\n",
              "      border-color: transparent;\n",
              "      border-left-color: var(--fill-color);\n",
              "      border-top-color: var(--fill-color);\n",
              "    }\n",
              "    30% {\n",
              "      border-color: transparent;\n",
              "      border-left-color: var(--fill-color);\n",
              "      border-top-color: var(--fill-color);\n",
              "      border-right-color: var(--fill-color);\n",
              "    }\n",
              "    40% {\n",
              "      border-color: transparent;\n",
              "      border-right-color: var(--fill-color);\n",
              "      border-top-color: var(--fill-color);\n",
              "    }\n",
              "    60% {\n",
              "      border-color: transparent;\n",
              "      border-right-color: var(--fill-color);\n",
              "    }\n",
              "    80% {\n",
              "      border-color: transparent;\n",
              "      border-right-color: var(--fill-color);\n",
              "      border-bottom-color: var(--fill-color);\n",
              "    }\n",
              "    90% {\n",
              "      border-color: transparent;\n",
              "      border-bottom-color: var(--fill-color);\n",
              "    }\n",
              "  }\n",
              "</style>\n",
              "\n",
              "      <script>\n",
              "        async function quickchart(key) {\n",
              "          const quickchartButtonEl =\n",
              "            document.querySelector('#' + key + ' button');\n",
              "          quickchartButtonEl.disabled = true;  // To prevent multiple clicks.\n",
              "          quickchartButtonEl.classList.add('colab-df-spinner');\n",
              "          try {\n",
              "            const charts = await google.colab.kernel.invokeFunction(\n",
              "                'suggestCharts', [key], {});\n",
              "          } catch (error) {\n",
              "            console.error('Error during call to suggestCharts:', error);\n",
              "          }\n",
              "          quickchartButtonEl.classList.remove('colab-df-spinner');\n",
              "          quickchartButtonEl.classList.add('colab-df-quickchart-complete');\n",
              "        }\n",
              "        (() => {\n",
              "          let quickchartButtonEl =\n",
              "            document.querySelector('#df-c9af604c-a8da-4f08-b8ca-3af77cab6e3d button');\n",
              "          quickchartButtonEl.style.display =\n",
              "            google.colab.kernel.accessAllowed ? 'block' : 'none';\n",
              "        })();\n",
              "      </script>\n",
              "    </div>\n",
              "\n",
              "    </div>\n",
              "  </div>\n"
            ],
            "application/vnd.google.colaboratory.intrinsic+json": {
              "type": "dataframe",
              "variable_name": "X_selected_features",
              "summary": "{\n  \"name\": \"X_selected_features\",\n  \"rows\": 10796,\n  \"fields\": [\n    {\n      \"column\": \"tenure\",\n      \"properties\": {\n        \"dtype\": \"number\",\n        \"std\": 0.3322491649918518,\n        \"min\": 0.0,\n        \"max\": 1.0,\n        \"num_unique_values\": 73,\n        \"samples\": [\n          0.986111111111111,\n          0.736111111111111,\n          0.3611111111111111\n        ],\n        \"semantic_type\": \"\",\n        \"description\": \"\"\n      }\n    },\n    {\n      \"column\": \"Total\",\n      \"properties\": {\n        \"dtype\": \"number\",\n        \"std\": 0.25068941401160083,\n        \"min\": 0.0,\n        \"max\": 1.0,\n        \"num_unique_values\": 10013,\n        \"samples\": [\n          0.31344417833456156,\n          0.058251197494473106,\n          0.021813973839351512\n        ],\n        \"semantic_type\": \"\",\n        \"description\": \"\"\n      }\n    },\n    {\n      \"column\": \"Monthly\",\n      \"properties\": {\n        \"dtype\": \"number\",\n        \"std\": 0.28450285296173716,\n        \"min\": 0.0,\n        \"max\": 0.9999999999999999,\n        \"num_unique_values\": 5061,\n        \"samples\": [\n          0.9706467661691541,\n          0.7091003419291341,\n          0.6046095455842895\n        ],\n        \"semantic_type\": \"\",\n        \"description\": \"\"\n      }\n    },\n    {\n      \"column\": \"CuentasDiarias\",\n      \"properties\": {\n        \"dtype\": \"number\",\n        \"std\": 0.28453323278982745,\n        \"min\": 0.0,\n        \"max\": 1.0,\n        \"num_unique_values\": 3621,\n        \"samples\": [\n          0.5616018087926117,\n          0.5090365334517074,\n          0.5110258554326507\n        ],\n        \"semantic_type\": \"\",\n        \"description\": \"\"\n      }\n    },\n    {\n      \"column\": \"Contract_month-to-month\",\n      \"properties\": {\n        \"dtype\": \"number\",\n        \"std\": 0.4796540910823283,\n        \"min\": 0.0,\n        \"max\": 1.0,\n        \"num_unique_values\": 2,\n        \"samples\": [\n          1.0,\n          0.0\n        ],\n        \"semantic_type\": \"\",\n        \"description\": \"\"\n      }\n    },\n    {\n      \"column\": \"TechSupport\",\n      \"properties\": {\n        \"dtype\": \"number\",\n        \"std\": 0.4049213792827652,\n        \"min\": 0.0,\n        \"max\": 1.0,\n        \"num_unique_values\": 2,\n        \"samples\": [\n          0.0,\n          1.0\n        ],\n        \"semantic_type\": \"\",\n        \"description\": \"\"\n      }\n    },\n    {\n      \"column\": \"PaymentMethod_electronic check\",\n      \"properties\": {\n        \"dtype\": \"number\",\n        \"std\": 0.47786816210573213,\n        \"min\": 0.0,\n        \"max\": 1.0,\n        \"num_unique_values\": 2,\n        \"samples\": [\n          1.0,\n          0.0\n        ],\n        \"semantic_type\": \"\",\n        \"description\": \"\"\n      }\n    },\n    {\n      \"column\": \"OnlineSecurity\",\n      \"properties\": {\n        \"dtype\": \"number\",\n        \"std\": 0.4026208317194559,\n        \"min\": 0.0,\n        \"max\": 1.0,\n        \"num_unique_values\": 2,\n        \"samples\": [\n          1.0,\n          0.0\n        ],\n        \"semantic_type\": \"\",\n        \"description\": \"\"\n      }\n    },\n    {\n      \"column\": \"Contract_one year\",\n      \"properties\": {\n        \"dtype\": \"number\",\n        \"std\": 0.3531025108989942,\n        \"min\": 0.0,\n        \"max\": 1.0,\n        \"num_unique_values\": 2,\n        \"samples\": [\n          0.0,\n          1.0\n        ],\n        \"semantic_type\": \"\",\n        \"description\": \"\"\n      }\n    },\n    {\n      \"column\": \"Contract_two year\",\n      \"properties\": {\n        \"dtype\": \"number\",\n        \"std\": 0.3699945610821872,\n        \"min\": 0.0,\n        \"max\": 1.0,\n        \"num_unique_values\": 2,\n        \"samples\": [\n          1.0,\n          0.0\n        ],\n        \"semantic_type\": \"\",\n        \"description\": \"\"\n      }\n    },\n    {\n      \"column\": \"PaperlessBilling\",\n      \"properties\": {\n        \"dtype\": \"number\",\n        \"std\": 0.4908360897247121,\n        \"min\": 0.0,\n        \"max\": 1.0,\n        \"num_unique_values\": 2,\n        \"samples\": [\n          0.0,\n          1.0\n        ],\n        \"semantic_type\": \"\",\n        \"description\": \"\"\n      }\n    },\n    {\n      \"column\": \"Dependents\",\n      \"properties\": {\n        \"dtype\": \"number\",\n        \"std\": 0.41012358252697373,\n        \"min\": 0.0,\n        \"max\": 1.0,\n        \"num_unique_values\": 2,\n        \"samples\": [\n          0.0,\n          1.0\n        ],\n        \"semantic_type\": \"\",\n        \"description\": \"\"\n      }\n    },\n    {\n      \"column\": \"OnlineBackup\",\n      \"properties\": {\n        \"dtype\": \"number\",\n        \"std\": 0.4448911977268476,\n        \"min\": 0.0,\n        \"max\": 1.0,\n        \"num_unique_values\": 2,\n        \"samples\": [\n          0.0,\n          1.0\n        ],\n        \"semantic_type\": \"\",\n        \"description\": \"\"\n      }\n    },\n    {\n      \"column\": \"MultipleLines\",\n      \"properties\": {\n        \"dtype\": \"number\",\n        \"std\": 0.4876165883809512,\n        \"min\": 0.0,\n        \"max\": 1.0,\n        \"num_unique_values\": 2,\n        \"samples\": [\n          1.0,\n          0.0\n        ],\n        \"semantic_type\": \"\",\n        \"description\": \"\"\n      }\n    },\n    {\n      \"column\": \"Partner\",\n      \"properties\": {\n        \"dtype\": \"number\",\n        \"std\": 0.48367535675197154,\n        \"min\": 0.0,\n        \"max\": 1.0,\n        \"num_unique_values\": 2,\n        \"samples\": [\n          0.0,\n          1.0\n        ],\n        \"semantic_type\": \"\",\n        \"description\": \"\"\n      }\n    },\n    {\n      \"column\": \"InternetService_fiber optic\",\n      \"properties\": {\n        \"dtype\": \"number\",\n        \"std\": 0.49980070304634644,\n        \"min\": 0.0,\n        \"max\": 1.0,\n        \"num_unique_values\": 2,\n        \"samples\": [\n          1.0,\n          0.0\n        ],\n        \"semantic_type\": \"\",\n        \"description\": \"\"\n      }\n    },\n    {\n      \"column\": \"DeviceProtection\",\n      \"properties\": {\n        \"dtype\": \"number\",\n        \"std\": 0.44630595105593945,\n        \"min\": 0.0,\n        \"max\": 1.0,\n        \"num_unique_values\": 2,\n        \"samples\": [\n          1.0,\n          0.0\n        ],\n        \"semantic_type\": \"\",\n        \"description\": \"\"\n      }\n    }\n  ]\n}"
            }
          },
          "metadata": {},
          "execution_count": 119
        }
      ]
    },
    {
      "cell_type": "code",
      "source": [
        "X_selected_features.columns"
      ],
      "metadata": {
        "colab": {
          "base_uri": "https://localhost:8080/"
        },
        "id": "oQDwsU44UI1Z",
        "outputId": "269115b2-ac26-4d93-a792-d8381eb1470f"
      },
      "execution_count": 138,
      "outputs": [
        {
          "output_type": "execute_result",
          "data": {
            "text/plain": [
              "Index(['tenure', 'Total', 'Monthly', 'CuentasDiarias',\n",
              "       'Contract_month-to-month', 'TechSupport',\n",
              "       'PaymentMethod_electronic check', 'OnlineSecurity', 'Contract_one year',\n",
              "       'Contract_two year', 'PaperlessBilling', 'Dependents', 'OnlineBackup',\n",
              "       'MultipleLines', 'Partner', 'InternetService_fiber optic',\n",
              "       'DeviceProtection'],\n",
              "      dtype='object')"
            ]
          },
          "metadata": {},
          "execution_count": 138
        }
      ]
    },
    {
      "cell_type": "code",
      "source": [
        "X_train, X_test, y_train, y_test = train_test_split(X_selected_features, y, test_size=0.2, random_state=5)"
      ],
      "metadata": {
        "id": "n2MSs3BgLfrU"
      },
      "execution_count": 120,
      "outputs": []
    },
    {
      "cell_type": "code",
      "source": [
        "param_grid = {\n",
        "    'max_depth': [5,10,15],\n",
        "    'min_samples_leaf': [1,2,3],\n",
        "    'min_samples_split': [2,4,6],\n",
        "    'n_estimators': [100,150,200]\n",
        "}"
      ],
      "metadata": {
        "id": "Wwox7cbILzhn"
      },
      "execution_count": 121,
      "outputs": []
    },
    {
      "cell_type": "code",
      "source": [
        "from sklearn.model_selection import GridSearchCV, StratifiedKFold"
      ],
      "metadata": {
        "id": "AVAVMi7sL1SZ"
      },
      "execution_count": 123,
      "outputs": []
    },
    {
      "cell_type": "code",
      "source": [
        "skf = StratifiedKFold(n_splits=5, shuffle=True, random_state=5)"
      ],
      "metadata": {
        "id": "SyWTSiGEMnMm"
      },
      "execution_count": 124,
      "outputs": []
    },
    {
      "cell_type": "code",
      "source": [
        "model_grid = GridSearchCV(RandomForestClassifier(random_state=5), param_grid=param_grid, cv=skf, scoring='recall')\n",
        "model_grid.fit(X_train, y_train)"
      ],
      "metadata": {
        "colab": {
          "base_uri": "https://localhost:8080/",
          "height": 164
        },
        "id": "t8JdukzoL6Eg",
        "outputId": "4bd3aac8-aa2e-47d2-a378-99ff66cc344b"
      },
      "execution_count": 125,
      "outputs": [
        {
          "output_type": "execute_result",
          "data": {
            "text/plain": [
              "GridSearchCV(cv=StratifiedKFold(n_splits=5, random_state=5, shuffle=True),\n",
              "             estimator=RandomForestClassifier(random_state=5),\n",
              "             param_grid={'max_depth': [5, 10, 15],\n",
              "                         'min_samples_leaf': [1, 2, 3],\n",
              "                         'min_samples_split': [2, 4, 6],\n",
              "                         'n_estimators': [100, 150, 200]},\n",
              "             scoring='recall')"
            ],
            "text/html": [
              "<style>#sk-container-id-1 {\n",
              "  /* Definition of color scheme common for light and dark mode */\n",
              "  --sklearn-color-text: #000;\n",
              "  --sklearn-color-text-muted: #666;\n",
              "  --sklearn-color-line: gray;\n",
              "  /* Definition of color scheme for unfitted estimators */\n",
              "  --sklearn-color-unfitted-level-0: #fff5e6;\n",
              "  --sklearn-color-unfitted-level-1: #f6e4d2;\n",
              "  --sklearn-color-unfitted-level-2: #ffe0b3;\n",
              "  --sklearn-color-unfitted-level-3: chocolate;\n",
              "  /* Definition of color scheme for fitted estimators */\n",
              "  --sklearn-color-fitted-level-0: #f0f8ff;\n",
              "  --sklearn-color-fitted-level-1: #d4ebff;\n",
              "  --sklearn-color-fitted-level-2: #b3dbfd;\n",
              "  --sklearn-color-fitted-level-3: cornflowerblue;\n",
              "\n",
              "  /* Specific color for light theme */\n",
              "  --sklearn-color-text-on-default-background: var(--sg-text-color, var(--theme-code-foreground, var(--jp-content-font-color1, black)));\n",
              "  --sklearn-color-background: var(--sg-background-color, var(--theme-background, var(--jp-layout-color0, white)));\n",
              "  --sklearn-color-border-box: var(--sg-text-color, var(--theme-code-foreground, var(--jp-content-font-color1, black)));\n",
              "  --sklearn-color-icon: #696969;\n",
              "\n",
              "  @media (prefers-color-scheme: dark) {\n",
              "    /* Redefinition of color scheme for dark theme */\n",
              "    --sklearn-color-text-on-default-background: var(--sg-text-color, var(--theme-code-foreground, var(--jp-content-font-color1, white)));\n",
              "    --sklearn-color-background: var(--sg-background-color, var(--theme-background, var(--jp-layout-color0, #111)));\n",
              "    --sklearn-color-border-box: var(--sg-text-color, var(--theme-code-foreground, var(--jp-content-font-color1, white)));\n",
              "    --sklearn-color-icon: #878787;\n",
              "  }\n",
              "}\n",
              "\n",
              "#sk-container-id-1 {\n",
              "  color: var(--sklearn-color-text);\n",
              "}\n",
              "\n",
              "#sk-container-id-1 pre {\n",
              "  padding: 0;\n",
              "}\n",
              "\n",
              "#sk-container-id-1 input.sk-hidden--visually {\n",
              "  border: 0;\n",
              "  clip: rect(1px 1px 1px 1px);\n",
              "  clip: rect(1px, 1px, 1px, 1px);\n",
              "  height: 1px;\n",
              "  margin: -1px;\n",
              "  overflow: hidden;\n",
              "  padding: 0;\n",
              "  position: absolute;\n",
              "  width: 1px;\n",
              "}\n",
              "\n",
              "#sk-container-id-1 div.sk-dashed-wrapped {\n",
              "  border: 1px dashed var(--sklearn-color-line);\n",
              "  margin: 0 0.4em 0.5em 0.4em;\n",
              "  box-sizing: border-box;\n",
              "  padding-bottom: 0.4em;\n",
              "  background-color: var(--sklearn-color-background);\n",
              "}\n",
              "\n",
              "#sk-container-id-1 div.sk-container {\n",
              "  /* jupyter's `normalize.less` sets `[hidden] { display: none; }`\n",
              "     but bootstrap.min.css set `[hidden] { display: none !important; }`\n",
              "     so we also need the `!important` here to be able to override the\n",
              "     default hidden behavior on the sphinx rendered scikit-learn.org.\n",
              "     See: https://github.com/scikit-learn/scikit-learn/issues/21755 */\n",
              "  display: inline-block !important;\n",
              "  position: relative;\n",
              "}\n",
              "\n",
              "#sk-container-id-1 div.sk-text-repr-fallback {\n",
              "  display: none;\n",
              "}\n",
              "\n",
              "div.sk-parallel-item,\n",
              "div.sk-serial,\n",
              "div.sk-item {\n",
              "  /* draw centered vertical line to link estimators */\n",
              "  background-image: linear-gradient(var(--sklearn-color-text-on-default-background), var(--sklearn-color-text-on-default-background));\n",
              "  background-size: 2px 100%;\n",
              "  background-repeat: no-repeat;\n",
              "  background-position: center center;\n",
              "}\n",
              "\n",
              "/* Parallel-specific style estimator block */\n",
              "\n",
              "#sk-container-id-1 div.sk-parallel-item::after {\n",
              "  content: \"\";\n",
              "  width: 100%;\n",
              "  border-bottom: 2px solid var(--sklearn-color-text-on-default-background);\n",
              "  flex-grow: 1;\n",
              "}\n",
              "\n",
              "#sk-container-id-1 div.sk-parallel {\n",
              "  display: flex;\n",
              "  align-items: stretch;\n",
              "  justify-content: center;\n",
              "  background-color: var(--sklearn-color-background);\n",
              "  position: relative;\n",
              "}\n",
              "\n",
              "#sk-container-id-1 div.sk-parallel-item {\n",
              "  display: flex;\n",
              "  flex-direction: column;\n",
              "}\n",
              "\n",
              "#sk-container-id-1 div.sk-parallel-item:first-child::after {\n",
              "  align-self: flex-end;\n",
              "  width: 50%;\n",
              "}\n",
              "\n",
              "#sk-container-id-1 div.sk-parallel-item:last-child::after {\n",
              "  align-self: flex-start;\n",
              "  width: 50%;\n",
              "}\n",
              "\n",
              "#sk-container-id-1 div.sk-parallel-item:only-child::after {\n",
              "  width: 0;\n",
              "}\n",
              "\n",
              "/* Serial-specific style estimator block */\n",
              "\n",
              "#sk-container-id-1 div.sk-serial {\n",
              "  display: flex;\n",
              "  flex-direction: column;\n",
              "  align-items: center;\n",
              "  background-color: var(--sklearn-color-background);\n",
              "  padding-right: 1em;\n",
              "  padding-left: 1em;\n",
              "}\n",
              "\n",
              "\n",
              "/* Toggleable style: style used for estimator/Pipeline/ColumnTransformer box that is\n",
              "clickable and can be expanded/collapsed.\n",
              "- Pipeline and ColumnTransformer use this feature and define the default style\n",
              "- Estimators will overwrite some part of the style using the `sk-estimator` class\n",
              "*/\n",
              "\n",
              "/* Pipeline and ColumnTransformer style (default) */\n",
              "\n",
              "#sk-container-id-1 div.sk-toggleable {\n",
              "  /* Default theme specific background. It is overwritten whether we have a\n",
              "  specific estimator or a Pipeline/ColumnTransformer */\n",
              "  background-color: var(--sklearn-color-background);\n",
              "}\n",
              "\n",
              "/* Toggleable label */\n",
              "#sk-container-id-1 label.sk-toggleable__label {\n",
              "  cursor: pointer;\n",
              "  display: flex;\n",
              "  width: 100%;\n",
              "  margin-bottom: 0;\n",
              "  padding: 0.5em;\n",
              "  box-sizing: border-box;\n",
              "  text-align: center;\n",
              "  align-items: start;\n",
              "  justify-content: space-between;\n",
              "  gap: 0.5em;\n",
              "}\n",
              "\n",
              "#sk-container-id-1 label.sk-toggleable__label .caption {\n",
              "  font-size: 0.6rem;\n",
              "  font-weight: lighter;\n",
              "  color: var(--sklearn-color-text-muted);\n",
              "}\n",
              "\n",
              "#sk-container-id-1 label.sk-toggleable__label-arrow:before {\n",
              "  /* Arrow on the left of the label */\n",
              "  content: \"▸\";\n",
              "  float: left;\n",
              "  margin-right: 0.25em;\n",
              "  color: var(--sklearn-color-icon);\n",
              "}\n",
              "\n",
              "#sk-container-id-1 label.sk-toggleable__label-arrow:hover:before {\n",
              "  color: var(--sklearn-color-text);\n",
              "}\n",
              "\n",
              "/* Toggleable content - dropdown */\n",
              "\n",
              "#sk-container-id-1 div.sk-toggleable__content {\n",
              "  max-height: 0;\n",
              "  max-width: 0;\n",
              "  overflow: hidden;\n",
              "  text-align: left;\n",
              "  /* unfitted */\n",
              "  background-color: var(--sklearn-color-unfitted-level-0);\n",
              "}\n",
              "\n",
              "#sk-container-id-1 div.sk-toggleable__content.fitted {\n",
              "  /* fitted */\n",
              "  background-color: var(--sklearn-color-fitted-level-0);\n",
              "}\n",
              "\n",
              "#sk-container-id-1 div.sk-toggleable__content pre {\n",
              "  margin: 0.2em;\n",
              "  border-radius: 0.25em;\n",
              "  color: var(--sklearn-color-text);\n",
              "  /* unfitted */\n",
              "  background-color: var(--sklearn-color-unfitted-level-0);\n",
              "}\n",
              "\n",
              "#sk-container-id-1 div.sk-toggleable__content.fitted pre {\n",
              "  /* unfitted */\n",
              "  background-color: var(--sklearn-color-fitted-level-0);\n",
              "}\n",
              "\n",
              "#sk-container-id-1 input.sk-toggleable__control:checked~div.sk-toggleable__content {\n",
              "  /* Expand drop-down */\n",
              "  max-height: 200px;\n",
              "  max-width: 100%;\n",
              "  overflow: auto;\n",
              "}\n",
              "\n",
              "#sk-container-id-1 input.sk-toggleable__control:checked~label.sk-toggleable__label-arrow:before {\n",
              "  content: \"▾\";\n",
              "}\n",
              "\n",
              "/* Pipeline/ColumnTransformer-specific style */\n",
              "\n",
              "#sk-container-id-1 div.sk-label input.sk-toggleable__control:checked~label.sk-toggleable__label {\n",
              "  color: var(--sklearn-color-text);\n",
              "  background-color: var(--sklearn-color-unfitted-level-2);\n",
              "}\n",
              "\n",
              "#sk-container-id-1 div.sk-label.fitted input.sk-toggleable__control:checked~label.sk-toggleable__label {\n",
              "  background-color: var(--sklearn-color-fitted-level-2);\n",
              "}\n",
              "\n",
              "/* Estimator-specific style */\n",
              "\n",
              "/* Colorize estimator box */\n",
              "#sk-container-id-1 div.sk-estimator input.sk-toggleable__control:checked~label.sk-toggleable__label {\n",
              "  /* unfitted */\n",
              "  background-color: var(--sklearn-color-unfitted-level-2);\n",
              "}\n",
              "\n",
              "#sk-container-id-1 div.sk-estimator.fitted input.sk-toggleable__control:checked~label.sk-toggleable__label {\n",
              "  /* fitted */\n",
              "  background-color: var(--sklearn-color-fitted-level-2);\n",
              "}\n",
              "\n",
              "#sk-container-id-1 div.sk-label label.sk-toggleable__label,\n",
              "#sk-container-id-1 div.sk-label label {\n",
              "  /* The background is the default theme color */\n",
              "  color: var(--sklearn-color-text-on-default-background);\n",
              "}\n",
              "\n",
              "/* On hover, darken the color of the background */\n",
              "#sk-container-id-1 div.sk-label:hover label.sk-toggleable__label {\n",
              "  color: var(--sklearn-color-text);\n",
              "  background-color: var(--sklearn-color-unfitted-level-2);\n",
              "}\n",
              "\n",
              "/* Label box, darken color on hover, fitted */\n",
              "#sk-container-id-1 div.sk-label.fitted:hover label.sk-toggleable__label.fitted {\n",
              "  color: var(--sklearn-color-text);\n",
              "  background-color: var(--sklearn-color-fitted-level-2);\n",
              "}\n",
              "\n",
              "/* Estimator label */\n",
              "\n",
              "#sk-container-id-1 div.sk-label label {\n",
              "  font-family: monospace;\n",
              "  font-weight: bold;\n",
              "  display: inline-block;\n",
              "  line-height: 1.2em;\n",
              "}\n",
              "\n",
              "#sk-container-id-1 div.sk-label-container {\n",
              "  text-align: center;\n",
              "}\n",
              "\n",
              "/* Estimator-specific */\n",
              "#sk-container-id-1 div.sk-estimator {\n",
              "  font-family: monospace;\n",
              "  border: 1px dotted var(--sklearn-color-border-box);\n",
              "  border-radius: 0.25em;\n",
              "  box-sizing: border-box;\n",
              "  margin-bottom: 0.5em;\n",
              "  /* unfitted */\n",
              "  background-color: var(--sklearn-color-unfitted-level-0);\n",
              "}\n",
              "\n",
              "#sk-container-id-1 div.sk-estimator.fitted {\n",
              "  /* fitted */\n",
              "  background-color: var(--sklearn-color-fitted-level-0);\n",
              "}\n",
              "\n",
              "/* on hover */\n",
              "#sk-container-id-1 div.sk-estimator:hover {\n",
              "  /* unfitted */\n",
              "  background-color: var(--sklearn-color-unfitted-level-2);\n",
              "}\n",
              "\n",
              "#sk-container-id-1 div.sk-estimator.fitted:hover {\n",
              "  /* fitted */\n",
              "  background-color: var(--sklearn-color-fitted-level-2);\n",
              "}\n",
              "\n",
              "/* Specification for estimator info (e.g. \"i\" and \"?\") */\n",
              "\n",
              "/* Common style for \"i\" and \"?\" */\n",
              "\n",
              ".sk-estimator-doc-link,\n",
              "a:link.sk-estimator-doc-link,\n",
              "a:visited.sk-estimator-doc-link {\n",
              "  float: right;\n",
              "  font-size: smaller;\n",
              "  line-height: 1em;\n",
              "  font-family: monospace;\n",
              "  background-color: var(--sklearn-color-background);\n",
              "  border-radius: 1em;\n",
              "  height: 1em;\n",
              "  width: 1em;\n",
              "  text-decoration: none !important;\n",
              "  margin-left: 0.5em;\n",
              "  text-align: center;\n",
              "  /* unfitted */\n",
              "  border: var(--sklearn-color-unfitted-level-1) 1pt solid;\n",
              "  color: var(--sklearn-color-unfitted-level-1);\n",
              "}\n",
              "\n",
              ".sk-estimator-doc-link.fitted,\n",
              "a:link.sk-estimator-doc-link.fitted,\n",
              "a:visited.sk-estimator-doc-link.fitted {\n",
              "  /* fitted */\n",
              "  border: var(--sklearn-color-fitted-level-1) 1pt solid;\n",
              "  color: var(--sklearn-color-fitted-level-1);\n",
              "}\n",
              "\n",
              "/* On hover */\n",
              "div.sk-estimator:hover .sk-estimator-doc-link:hover,\n",
              ".sk-estimator-doc-link:hover,\n",
              "div.sk-label-container:hover .sk-estimator-doc-link:hover,\n",
              ".sk-estimator-doc-link:hover {\n",
              "  /* unfitted */\n",
              "  background-color: var(--sklearn-color-unfitted-level-3);\n",
              "  color: var(--sklearn-color-background);\n",
              "  text-decoration: none;\n",
              "}\n",
              "\n",
              "div.sk-estimator.fitted:hover .sk-estimator-doc-link.fitted:hover,\n",
              ".sk-estimator-doc-link.fitted:hover,\n",
              "div.sk-label-container:hover .sk-estimator-doc-link.fitted:hover,\n",
              ".sk-estimator-doc-link.fitted:hover {\n",
              "  /* fitted */\n",
              "  background-color: var(--sklearn-color-fitted-level-3);\n",
              "  color: var(--sklearn-color-background);\n",
              "  text-decoration: none;\n",
              "}\n",
              "\n",
              "/* Span, style for the box shown on hovering the info icon */\n",
              ".sk-estimator-doc-link span {\n",
              "  display: none;\n",
              "  z-index: 9999;\n",
              "  position: relative;\n",
              "  font-weight: normal;\n",
              "  right: .2ex;\n",
              "  padding: .5ex;\n",
              "  margin: .5ex;\n",
              "  width: min-content;\n",
              "  min-width: 20ex;\n",
              "  max-width: 50ex;\n",
              "  color: var(--sklearn-color-text);\n",
              "  box-shadow: 2pt 2pt 4pt #999;\n",
              "  /* unfitted */\n",
              "  background: var(--sklearn-color-unfitted-level-0);\n",
              "  border: .5pt solid var(--sklearn-color-unfitted-level-3);\n",
              "}\n",
              "\n",
              ".sk-estimator-doc-link.fitted span {\n",
              "  /* fitted */\n",
              "  background: var(--sklearn-color-fitted-level-0);\n",
              "  border: var(--sklearn-color-fitted-level-3);\n",
              "}\n",
              "\n",
              ".sk-estimator-doc-link:hover span {\n",
              "  display: block;\n",
              "}\n",
              "\n",
              "/* \"?\"-specific style due to the `<a>` HTML tag */\n",
              "\n",
              "#sk-container-id-1 a.estimator_doc_link {\n",
              "  float: right;\n",
              "  font-size: 1rem;\n",
              "  line-height: 1em;\n",
              "  font-family: monospace;\n",
              "  background-color: var(--sklearn-color-background);\n",
              "  border-radius: 1rem;\n",
              "  height: 1rem;\n",
              "  width: 1rem;\n",
              "  text-decoration: none;\n",
              "  /* unfitted */\n",
              "  color: var(--sklearn-color-unfitted-level-1);\n",
              "  border: var(--sklearn-color-unfitted-level-1) 1pt solid;\n",
              "}\n",
              "\n",
              "#sk-container-id-1 a.estimator_doc_link.fitted {\n",
              "  /* fitted */\n",
              "  border: var(--sklearn-color-fitted-level-1) 1pt solid;\n",
              "  color: var(--sklearn-color-fitted-level-1);\n",
              "}\n",
              "\n",
              "/* On hover */\n",
              "#sk-container-id-1 a.estimator_doc_link:hover {\n",
              "  /* unfitted */\n",
              "  background-color: var(--sklearn-color-unfitted-level-3);\n",
              "  color: var(--sklearn-color-background);\n",
              "  text-decoration: none;\n",
              "}\n",
              "\n",
              "#sk-container-id-1 a.estimator_doc_link.fitted:hover {\n",
              "  /* fitted */\n",
              "  background-color: var(--sklearn-color-fitted-level-3);\n",
              "}\n",
              "</style><div id=\"sk-container-id-1\" class=\"sk-top-container\"><div class=\"sk-text-repr-fallback\"><pre>GridSearchCV(cv=StratifiedKFold(n_splits=5, random_state=5, shuffle=True),\n",
              "             estimator=RandomForestClassifier(random_state=5),\n",
              "             param_grid={&#x27;max_depth&#x27;: [5, 10, 15],\n",
              "                         &#x27;min_samples_leaf&#x27;: [1, 2, 3],\n",
              "                         &#x27;min_samples_split&#x27;: [2, 4, 6],\n",
              "                         &#x27;n_estimators&#x27;: [100, 150, 200]},\n",
              "             scoring=&#x27;recall&#x27;)</pre><b>In a Jupyter environment, please rerun this cell to show the HTML representation or trust the notebook. <br />On GitHub, the HTML representation is unable to render, please try loading this page with nbviewer.org.</b></div><div class=\"sk-container\" hidden><div class=\"sk-item sk-dashed-wrapped\"><div class=\"sk-label-container\"><div class=\"sk-label fitted sk-toggleable\"><input class=\"sk-toggleable__control sk-hidden--visually\" id=\"sk-estimator-id-1\" type=\"checkbox\" ><label for=\"sk-estimator-id-1\" class=\"sk-toggleable__label fitted sk-toggleable__label-arrow\"><div><div>GridSearchCV</div></div><div><a class=\"sk-estimator-doc-link fitted\" rel=\"noreferrer\" target=\"_blank\" href=\"https://scikit-learn.org/1.6/modules/generated/sklearn.model_selection.GridSearchCV.html\">?<span>Documentation for GridSearchCV</span></a><span class=\"sk-estimator-doc-link fitted\">i<span>Fitted</span></span></div></label><div class=\"sk-toggleable__content fitted\"><pre>GridSearchCV(cv=StratifiedKFold(n_splits=5, random_state=5, shuffle=True),\n",
              "             estimator=RandomForestClassifier(random_state=5),\n",
              "             param_grid={&#x27;max_depth&#x27;: [5, 10, 15],\n",
              "                         &#x27;min_samples_leaf&#x27;: [1, 2, 3],\n",
              "                         &#x27;min_samples_split&#x27;: [2, 4, 6],\n",
              "                         &#x27;n_estimators&#x27;: [100, 150, 200]},\n",
              "             scoring=&#x27;recall&#x27;)</pre></div> </div></div><div class=\"sk-parallel\"><div class=\"sk-parallel-item\"><div class=\"sk-item\"><div class=\"sk-label-container\"><div class=\"sk-label fitted sk-toggleable\"><input class=\"sk-toggleable__control sk-hidden--visually\" id=\"sk-estimator-id-2\" type=\"checkbox\" ><label for=\"sk-estimator-id-2\" class=\"sk-toggleable__label fitted sk-toggleable__label-arrow\"><div><div>best_estimator_: RandomForestClassifier</div></div></label><div class=\"sk-toggleable__content fitted\"><pre>RandomForestClassifier(max_depth=5, min_samples_split=4, n_estimators=200,\n",
              "                       random_state=5)</pre></div> </div></div><div class=\"sk-serial\"><div class=\"sk-item\"><div class=\"sk-estimator fitted sk-toggleable\"><input class=\"sk-toggleable__control sk-hidden--visually\" id=\"sk-estimator-id-3\" type=\"checkbox\" ><label for=\"sk-estimator-id-3\" class=\"sk-toggleable__label fitted sk-toggleable__label-arrow\"><div><div>RandomForestClassifier</div></div><div><a class=\"sk-estimator-doc-link fitted\" rel=\"noreferrer\" target=\"_blank\" href=\"https://scikit-learn.org/1.6/modules/generated/sklearn.ensemble.RandomForestClassifier.html\">?<span>Documentation for RandomForestClassifier</span></a></div></label><div class=\"sk-toggleable__content fitted\"><pre>RandomForestClassifier(max_depth=5, min_samples_split=4, n_estimators=200,\n",
              "                       random_state=5)</pre></div> </div></div></div></div></div></div></div></div></div>"
            ]
          },
          "metadata": {},
          "execution_count": 125
        }
      ]
    },
    {
      "cell_type": "code",
      "source": [
        "model_grid.best_params_"
      ],
      "metadata": {
        "colab": {
          "base_uri": "https://localhost:8080/"
        },
        "id": "gFz8u7GiPJ-c",
        "outputId": "265ec757-cb2b-4b6c-856b-cac5d147fbde"
      },
      "execution_count": 126,
      "outputs": [
        {
          "output_type": "execute_result",
          "data": {
            "text/plain": [
              "{'max_depth': 5,\n",
              " 'min_samples_leaf': 1,\n",
              " 'min_samples_split': 4,\n",
              " 'n_estimators': 200}"
            ]
          },
          "metadata": {},
          "execution_count": 126
        }
      ]
    },
    {
      "cell_type": "code",
      "source": [
        "y_pred_model_grid = model_grid.predict(X_test)\n",
        "metricas_model_grid = metricas_modelos_features(y_test, y_pred_model_grid)"
      ],
      "metadata": {
        "id": "XIdFfPdwPbSy"
      },
      "execution_count": 127,
      "outputs": []
    },
    {
      "cell_type": "code",
      "source": [
        "metricas_model_grid"
      ],
      "metadata": {
        "colab": {
          "base_uri": "https://localhost:8080/"
        },
        "id": "aOsSZCnwPz7W",
        "outputId": "63f65e6c-c637-4c38-cd3d-34542b6fff3a"
      },
      "execution_count": 128,
      "outputs": [
        {
          "output_type": "execute_result",
          "data": {
            "text/plain": [
              "{'Precision': 0.79, 'Recall': 0.87, 'Accuracy': 0.82, 'F1_score': 0.83}"
            ]
          },
          "metadata": {},
          "execution_count": 128
        }
      ]
    },
    {
      "cell_type": "code",
      "source": [
        "resultados['model_grid'] = list(metricas_model_grid.values())\n",
        "resultados"
      ],
      "metadata": {
        "colab": {
          "base_uri": "https://localhost:8080/",
          "height": 175
        },
        "id": "85ZxWxFYP7Hl",
        "outputId": "110cd561-1c3f-4fc3-fdbc-75f8c8f2cd42"
      },
      "execution_count": 129,
      "outputs": [
        {
          "output_type": "execute_result",
          "data": {
            "text/plain": [
              "             16    17    18    19    20  model_grid\n",
              "Precision  0.82  0.82  0.82  0.82  0.82        0.79\n",
              "Recall     0.86  0.87  0.86  0.86  0.87        0.87\n",
              "Accuracy   0.83  0.84  0.84  0.83  0.84        0.82\n",
              "F1_score   0.84  0.85  0.84  0.84  0.84        0.83"
            ],
            "text/html": [
              "\n",
              "  <div id=\"df-ec0fa84d-144f-45b6-99e9-4f94a73d56a5\" class=\"colab-df-container\">\n",
              "    <div>\n",
              "<style scoped>\n",
              "    .dataframe tbody tr th:only-of-type {\n",
              "        vertical-align: middle;\n",
              "    }\n",
              "\n",
              "    .dataframe tbody tr th {\n",
              "        vertical-align: top;\n",
              "    }\n",
              "\n",
              "    .dataframe thead th {\n",
              "        text-align: right;\n",
              "    }\n",
              "</style>\n",
              "<table border=\"1\" class=\"dataframe\">\n",
              "  <thead>\n",
              "    <tr style=\"text-align: right;\">\n",
              "      <th></th>\n",
              "      <th>16</th>\n",
              "      <th>17</th>\n",
              "      <th>18</th>\n",
              "      <th>19</th>\n",
              "      <th>20</th>\n",
              "      <th>model_grid</th>\n",
              "    </tr>\n",
              "  </thead>\n",
              "  <tbody>\n",
              "    <tr>\n",
              "      <th>Precision</th>\n",
              "      <td>0.82</td>\n",
              "      <td>0.82</td>\n",
              "      <td>0.82</td>\n",
              "      <td>0.82</td>\n",
              "      <td>0.82</td>\n",
              "      <td>0.79</td>\n",
              "    </tr>\n",
              "    <tr>\n",
              "      <th>Recall</th>\n",
              "      <td>0.86</td>\n",
              "      <td>0.87</td>\n",
              "      <td>0.86</td>\n",
              "      <td>0.86</td>\n",
              "      <td>0.87</td>\n",
              "      <td>0.87</td>\n",
              "    </tr>\n",
              "    <tr>\n",
              "      <th>Accuracy</th>\n",
              "      <td>0.83</td>\n",
              "      <td>0.84</td>\n",
              "      <td>0.84</td>\n",
              "      <td>0.83</td>\n",
              "      <td>0.84</td>\n",
              "      <td>0.82</td>\n",
              "    </tr>\n",
              "    <tr>\n",
              "      <th>F1_score</th>\n",
              "      <td>0.84</td>\n",
              "      <td>0.85</td>\n",
              "      <td>0.84</td>\n",
              "      <td>0.84</td>\n",
              "      <td>0.84</td>\n",
              "      <td>0.83</td>\n",
              "    </tr>\n",
              "  </tbody>\n",
              "</table>\n",
              "</div>\n",
              "    <div class=\"colab-df-buttons\">\n",
              "\n",
              "  <div class=\"colab-df-container\">\n",
              "    <button class=\"colab-df-convert\" onclick=\"convertToInteractive('df-ec0fa84d-144f-45b6-99e9-4f94a73d56a5')\"\n",
              "            title=\"Convert this dataframe to an interactive table.\"\n",
              "            style=\"display:none;\">\n",
              "\n",
              "  <svg xmlns=\"http://www.w3.org/2000/svg\" height=\"24px\" viewBox=\"0 -960 960 960\">\n",
              "    <path d=\"M120-120v-720h720v720H120Zm60-500h600v-160H180v160Zm220 220h160v-160H400v160Zm0 220h160v-160H400v160ZM180-400h160v-160H180v160Zm440 0h160v-160H620v160ZM180-180h160v-160H180v160Zm440 0h160v-160H620v160Z\"/>\n",
              "  </svg>\n",
              "    </button>\n",
              "\n",
              "  <style>\n",
              "    .colab-df-container {\n",
              "      display:flex;\n",
              "      gap: 12px;\n",
              "    }\n",
              "\n",
              "    .colab-df-convert {\n",
              "      background-color: #E8F0FE;\n",
              "      border: none;\n",
              "      border-radius: 50%;\n",
              "      cursor: pointer;\n",
              "      display: none;\n",
              "      fill: #1967D2;\n",
              "      height: 32px;\n",
              "      padding: 0 0 0 0;\n",
              "      width: 32px;\n",
              "    }\n",
              "\n",
              "    .colab-df-convert:hover {\n",
              "      background-color: #E2EBFA;\n",
              "      box-shadow: 0px 1px 2px rgba(60, 64, 67, 0.3), 0px 1px 3px 1px rgba(60, 64, 67, 0.15);\n",
              "      fill: #174EA6;\n",
              "    }\n",
              "\n",
              "    .colab-df-buttons div {\n",
              "      margin-bottom: 4px;\n",
              "    }\n",
              "\n",
              "    [theme=dark] .colab-df-convert {\n",
              "      background-color: #3B4455;\n",
              "      fill: #D2E3FC;\n",
              "    }\n",
              "\n",
              "    [theme=dark] .colab-df-convert:hover {\n",
              "      background-color: #434B5C;\n",
              "      box-shadow: 0px 1px 3px 1px rgba(0, 0, 0, 0.15);\n",
              "      filter: drop-shadow(0px 1px 2px rgba(0, 0, 0, 0.3));\n",
              "      fill: #FFFFFF;\n",
              "    }\n",
              "  </style>\n",
              "\n",
              "    <script>\n",
              "      const buttonEl =\n",
              "        document.querySelector('#df-ec0fa84d-144f-45b6-99e9-4f94a73d56a5 button.colab-df-convert');\n",
              "      buttonEl.style.display =\n",
              "        google.colab.kernel.accessAllowed ? 'block' : 'none';\n",
              "\n",
              "      async function convertToInteractive(key) {\n",
              "        const element = document.querySelector('#df-ec0fa84d-144f-45b6-99e9-4f94a73d56a5');\n",
              "        const dataTable =\n",
              "          await google.colab.kernel.invokeFunction('convertToInteractive',\n",
              "                                                    [key], {});\n",
              "        if (!dataTable) return;\n",
              "\n",
              "        const docLinkHtml = 'Like what you see? Visit the ' +\n",
              "          '<a target=\"_blank\" href=https://colab.research.google.com/notebooks/data_table.ipynb>data table notebook</a>'\n",
              "          + ' to learn more about interactive tables.';\n",
              "        element.innerHTML = '';\n",
              "        dataTable['output_type'] = 'display_data';\n",
              "        await google.colab.output.renderOutput(dataTable, element);\n",
              "        const docLink = document.createElement('div');\n",
              "        docLink.innerHTML = docLinkHtml;\n",
              "        element.appendChild(docLink);\n",
              "      }\n",
              "    </script>\n",
              "  </div>\n",
              "\n",
              "\n",
              "    <div id=\"df-5e238d4c-94e2-4fc0-80e7-d62d08cba9e1\">\n",
              "      <button class=\"colab-df-quickchart\" onclick=\"quickchart('df-5e238d4c-94e2-4fc0-80e7-d62d08cba9e1')\"\n",
              "                title=\"Suggest charts\"\n",
              "                style=\"display:none;\">\n",
              "\n",
              "<svg xmlns=\"http://www.w3.org/2000/svg\" height=\"24px\"viewBox=\"0 0 24 24\"\n",
              "     width=\"24px\">\n",
              "    <g>\n",
              "        <path d=\"M19 3H5c-1.1 0-2 .9-2 2v14c0 1.1.9 2 2 2h14c1.1 0 2-.9 2-2V5c0-1.1-.9-2-2-2zM9 17H7v-7h2v7zm4 0h-2V7h2v10zm4 0h-2v-4h2v4z\"/>\n",
              "    </g>\n",
              "</svg>\n",
              "      </button>\n",
              "\n",
              "<style>\n",
              "  .colab-df-quickchart {\n",
              "      --bg-color: #E8F0FE;\n",
              "      --fill-color: #1967D2;\n",
              "      --hover-bg-color: #E2EBFA;\n",
              "      --hover-fill-color: #174EA6;\n",
              "      --disabled-fill-color: #AAA;\n",
              "      --disabled-bg-color: #DDD;\n",
              "  }\n",
              "\n",
              "  [theme=dark] .colab-df-quickchart {\n",
              "      --bg-color: #3B4455;\n",
              "      --fill-color: #D2E3FC;\n",
              "      --hover-bg-color: #434B5C;\n",
              "      --hover-fill-color: #FFFFFF;\n",
              "      --disabled-bg-color: #3B4455;\n",
              "      --disabled-fill-color: #666;\n",
              "  }\n",
              "\n",
              "  .colab-df-quickchart {\n",
              "    background-color: var(--bg-color);\n",
              "    border: none;\n",
              "    border-radius: 50%;\n",
              "    cursor: pointer;\n",
              "    display: none;\n",
              "    fill: var(--fill-color);\n",
              "    height: 32px;\n",
              "    padding: 0;\n",
              "    width: 32px;\n",
              "  }\n",
              "\n",
              "  .colab-df-quickchart:hover {\n",
              "    background-color: var(--hover-bg-color);\n",
              "    box-shadow: 0 1px 2px rgba(60, 64, 67, 0.3), 0 1px 3px 1px rgba(60, 64, 67, 0.15);\n",
              "    fill: var(--button-hover-fill-color);\n",
              "  }\n",
              "\n",
              "  .colab-df-quickchart-complete:disabled,\n",
              "  .colab-df-quickchart-complete:disabled:hover {\n",
              "    background-color: var(--disabled-bg-color);\n",
              "    fill: var(--disabled-fill-color);\n",
              "    box-shadow: none;\n",
              "  }\n",
              "\n",
              "  .colab-df-spinner {\n",
              "    border: 2px solid var(--fill-color);\n",
              "    border-color: transparent;\n",
              "    border-bottom-color: var(--fill-color);\n",
              "    animation:\n",
              "      spin 1s steps(1) infinite;\n",
              "  }\n",
              "\n",
              "  @keyframes spin {\n",
              "    0% {\n",
              "      border-color: transparent;\n",
              "      border-bottom-color: var(--fill-color);\n",
              "      border-left-color: var(--fill-color);\n",
              "    }\n",
              "    20% {\n",
              "      border-color: transparent;\n",
              "      border-left-color: var(--fill-color);\n",
              "      border-top-color: var(--fill-color);\n",
              "    }\n",
              "    30% {\n",
              "      border-color: transparent;\n",
              "      border-left-color: var(--fill-color);\n",
              "      border-top-color: var(--fill-color);\n",
              "      border-right-color: var(--fill-color);\n",
              "    }\n",
              "    40% {\n",
              "      border-color: transparent;\n",
              "      border-right-color: var(--fill-color);\n",
              "      border-top-color: var(--fill-color);\n",
              "    }\n",
              "    60% {\n",
              "      border-color: transparent;\n",
              "      border-right-color: var(--fill-color);\n",
              "    }\n",
              "    80% {\n",
              "      border-color: transparent;\n",
              "      border-right-color: var(--fill-color);\n",
              "      border-bottom-color: var(--fill-color);\n",
              "    }\n",
              "    90% {\n",
              "      border-color: transparent;\n",
              "      border-bottom-color: var(--fill-color);\n",
              "    }\n",
              "  }\n",
              "</style>\n",
              "\n",
              "      <script>\n",
              "        async function quickchart(key) {\n",
              "          const quickchartButtonEl =\n",
              "            document.querySelector('#' + key + ' button');\n",
              "          quickchartButtonEl.disabled = true;  // To prevent multiple clicks.\n",
              "          quickchartButtonEl.classList.add('colab-df-spinner');\n",
              "          try {\n",
              "            const charts = await google.colab.kernel.invokeFunction(\n",
              "                'suggestCharts', [key], {});\n",
              "          } catch (error) {\n",
              "            console.error('Error during call to suggestCharts:', error);\n",
              "          }\n",
              "          quickchartButtonEl.classList.remove('colab-df-spinner');\n",
              "          quickchartButtonEl.classList.add('colab-df-quickchart-complete');\n",
              "        }\n",
              "        (() => {\n",
              "          let quickchartButtonEl =\n",
              "            document.querySelector('#df-5e238d4c-94e2-4fc0-80e7-d62d08cba9e1 button');\n",
              "          quickchartButtonEl.style.display =\n",
              "            google.colab.kernel.accessAllowed ? 'block' : 'none';\n",
              "        })();\n",
              "      </script>\n",
              "    </div>\n",
              "\n",
              "  <div id=\"id_088fc5bd-ba04-4976-8b0a-a1fc472ba76d\">\n",
              "    <style>\n",
              "      .colab-df-generate {\n",
              "        background-color: #E8F0FE;\n",
              "        border: none;\n",
              "        border-radius: 50%;\n",
              "        cursor: pointer;\n",
              "        display: none;\n",
              "        fill: #1967D2;\n",
              "        height: 32px;\n",
              "        padding: 0 0 0 0;\n",
              "        width: 32px;\n",
              "      }\n",
              "\n",
              "      .colab-df-generate:hover {\n",
              "        background-color: #E2EBFA;\n",
              "        box-shadow: 0px 1px 2px rgba(60, 64, 67, 0.3), 0px 1px 3px 1px rgba(60, 64, 67, 0.15);\n",
              "        fill: #174EA6;\n",
              "      }\n",
              "\n",
              "      [theme=dark] .colab-df-generate {\n",
              "        background-color: #3B4455;\n",
              "        fill: #D2E3FC;\n",
              "      }\n",
              "\n",
              "      [theme=dark] .colab-df-generate:hover {\n",
              "        background-color: #434B5C;\n",
              "        box-shadow: 0px 1px 3px 1px rgba(0, 0, 0, 0.15);\n",
              "        filter: drop-shadow(0px 1px 2px rgba(0, 0, 0, 0.3));\n",
              "        fill: #FFFFFF;\n",
              "      }\n",
              "    </style>\n",
              "    <button class=\"colab-df-generate\" onclick=\"generateWithVariable('resultados')\"\n",
              "            title=\"Generate code using this dataframe.\"\n",
              "            style=\"display:none;\">\n",
              "\n",
              "  <svg xmlns=\"http://www.w3.org/2000/svg\" height=\"24px\"viewBox=\"0 0 24 24\"\n",
              "       width=\"24px\">\n",
              "    <path d=\"M7,19H8.4L18.45,9,17,7.55,7,17.6ZM5,21V16.75L18.45,3.32a2,2,0,0,1,2.83,0l1.4,1.43a1.91,1.91,0,0,1,.58,1.4,1.91,1.91,0,0,1-.58,1.4L9.25,21ZM18.45,9,17,7.55Zm-12,3A5.31,5.31,0,0,0,4.9,8.1,5.31,5.31,0,0,0,1,6.5,5.31,5.31,0,0,0,4.9,4.9,5.31,5.31,0,0,0,6.5,1,5.31,5.31,0,0,0,8.1,4.9,5.31,5.31,0,0,0,12,6.5,5.46,5.46,0,0,0,6.5,12Z\"/>\n",
              "  </svg>\n",
              "    </button>\n",
              "    <script>\n",
              "      (() => {\n",
              "      const buttonEl =\n",
              "        document.querySelector('#id_088fc5bd-ba04-4976-8b0a-a1fc472ba76d button.colab-df-generate');\n",
              "      buttonEl.style.display =\n",
              "        google.colab.kernel.accessAllowed ? 'block' : 'none';\n",
              "\n",
              "      buttonEl.onclick = () => {\n",
              "        google.colab.notebook.generateWithVariable('resultados');\n",
              "      }\n",
              "      })();\n",
              "    </script>\n",
              "  </div>\n",
              "\n",
              "    </div>\n",
              "  </div>\n"
            ],
            "application/vnd.google.colaboratory.intrinsic+json": {
              "type": "dataframe",
              "variable_name": "resultados",
              "summary": "{\n  \"name\": \"resultados\",\n  \"rows\": 4,\n  \"fields\": [\n    {\n      \"column\": 16,\n      \"properties\": {\n        \"dtype\": \"number\",\n        \"std\": 0.017078251276599347,\n        \"min\": 0.82,\n        \"max\": 0.86,\n        \"num_unique_values\": 4,\n        \"samples\": [\n          0.86,\n          0.84,\n          0.82\n        ],\n        \"semantic_type\": \"\",\n        \"description\": \"\"\n      }\n    },\n    {\n      \"column\": 17,\n      \"properties\": {\n        \"dtype\": \"number\",\n        \"std\": 0.020816659994661348,\n        \"min\": 0.82,\n        \"max\": 0.87,\n        \"num_unique_values\": 4,\n        \"samples\": [\n          0.87,\n          0.85,\n          0.82\n        ],\n        \"semantic_type\": \"\",\n        \"description\": \"\"\n      }\n    },\n    {\n      \"column\": 18,\n      \"properties\": {\n        \"dtype\": \"number\",\n        \"std\": 0.016329931618554536,\n        \"min\": 0.82,\n        \"max\": 0.86,\n        \"num_unique_values\": 3,\n        \"samples\": [\n          0.82,\n          0.86,\n          0.84\n        ],\n        \"semantic_type\": \"\",\n        \"description\": \"\"\n      }\n    },\n    {\n      \"column\": 19,\n      \"properties\": {\n        \"dtype\": \"number\",\n        \"std\": 0.017078251276599347,\n        \"min\": 0.82,\n        \"max\": 0.86,\n        \"num_unique_values\": 4,\n        \"samples\": [\n          0.86,\n          0.84,\n          0.82\n        ],\n        \"semantic_type\": \"\",\n        \"description\": \"\"\n      }\n    },\n    {\n      \"column\": 20,\n      \"properties\": {\n        \"dtype\": \"number\",\n        \"std\": 0.020615528128088322,\n        \"min\": 0.82,\n        \"max\": 0.87,\n        \"num_unique_values\": 3,\n        \"samples\": [\n          0.82,\n          0.87,\n          0.84\n        ],\n        \"semantic_type\": \"\",\n        \"description\": \"\"\n      }\n    },\n    {\n      \"column\": \"model_grid\",\n      \"properties\": {\n        \"dtype\": \"number\",\n        \"std\": 0.033040379335998335,\n        \"min\": 0.79,\n        \"max\": 0.87,\n        \"num_unique_values\": 4,\n        \"samples\": [\n          0.87,\n          0.83,\n          0.79\n        ],\n        \"semantic_type\": \"\",\n        \"description\": \"\"\n      }\n    }\n  ]\n}"
            }
          },
          "metadata": {},
          "execution_count": 129
        }
      ]
    },
    {
      "cell_type": "markdown",
      "source": [
        "### Matriz de Confusion Model Grid con Random Forest"
      ],
      "metadata": {
        "id": "SoAQ9NvvSNMc"
      }
    },
    {
      "cell_type": "code",
      "source": [
        "matriz_confusion_model_grid = confusion_matrix(y_test, y_pred_model_grid)\n",
        "visualizacion_model_grid = ConfusionMatrixDisplay(confusion_matrix=matriz_confusion_model_grid, display_labels=['No Cancelan', 'Cancelan'])\n",
        "visualizacion_model_grid.plot()\n",
        "plt.grid(False)\n",
        "plt.show()"
      ],
      "metadata": {
        "colab": {
          "base_uri": "https://localhost:8080/",
          "height": 503
        },
        "id": "MqZ7DYc9Q11I",
        "outputId": "0fda0a24-afb9-4588-9c42-082d323b9073"
      },
      "execution_count": 139,
      "outputs": [
        {
          "output_type": "display_data",
          "data": {
            "text/plain": [
              "<Figure size 800x550 with 2 Axes>"
            ],
            "image/png": "[encoded data removed]"
          },
          "metadata": {}
        }
      ]
    },
    {
      "cell_type": "markdown",
      "source": [
        "## **2 - Conclusión**"
      ],
      "metadata": {
        "id": "njWXiZ3fYtf4"
      }
    },
    {
      "cell_type": "markdown",
      "source": [
        "### Informe de Análisis de Cancelación de Clientes y Estrategias de Retención"
      ],
      "metadata": {
        "id": "TYfatGBcYz2T"
      }
    },
    {
      "cell_type": "markdown",
      "source": [
        "#### **Introducción**\n",
        "\n",
        "Este informe tiene como objetivo identificar los factores clave que influyen en la cancelación de clientes y proponer estrategias de retención basadas en los hallazgos de un modelo de Machine Learning. Para este análisis, se entrenaron y evaluaron diferentes modelos de clasificación, siendo el Random Forest Classifier el que demostró el mejor rendimiento en la generalización de la cancelación de clientes."
      ],
      "metadata": {
        "id": "0tdTXISKY6Dk"
      }
    },
    {
      "cell_type": "markdown",
      "source": [
        "#### **Metodología**\n",
        "\n",
        "Se utilizaron los siguientes modelos de clasificación:\n",
        "\n",
        "* K-Nearest Neighbors (KNN) Classifier\n",
        "\n",
        "* Random Forest Classifier\n",
        "\n",
        "El Random Forest Classifier inicial se mejoró aún más utilizando GridSearchCV para la optimización de hiperparámetros. Los parámetros explorados en param_grid fueron:\n",
        "\n",
        "* max_depth: [5, 10, 15]\n",
        "\n",
        "* min_samples_leaf: [1, 2, 3]\n",
        "\n",
        "* min_samples_split: [2, 4, 6]\n",
        "\n",
        "* n_estimators: [100, 150, 200]\n",
        "\n",
        "La estrategia de validación cruzada utilizada fue StratifiedKFold (SKF) con n_splits=5, shuffle=True y random_state=5. La métrica de evaluación principal para la optimización fue el **recall**, dada su importancia en la identificación de clientes propensos a la cancelación. El random_state para el modelo base de Random Forest se fijó en 5."
      ],
      "metadata": {
        "id": "6ro1OtdBZHA5"
      }
    },
    {
      "cell_type": "markdown",
      "source": [
        "#### **Rendimiento del Modelo**\n",
        "\n",
        "A continuación, se presentan las métricas de rendimiento para el Random Forest Classifier inicial y el modelo optimizado con GridSearchCV:\n",
        "\n",
        "**Random Forest Classifier (Inicial - max_depth=10):**\n",
        "\n",
        "* Precisión: 0.80\n",
        "\n",
        "* Sensibilidad (Recall): 0.70\n",
        "\n",
        "* Exactitud (Accuracy): 0.76\n",
        "\n",
        "* F1-score: 0.75\n",
        "\n",
        "**Random Forest Classifier (Optimizado con GridSearchCV):**\n",
        "\n",
        "Los mejores parámetros encontrados por GridSearchCV fueron: {'max_depth': 5, 'min_samples_leaf': 1, 'min_samples_split': 4, 'n_estimators': 200}.\n",
        "\n",
        "* Precisión: 0.79\n",
        "\n",
        "* Sensibilidad (Recall): 0.87\n",
        "\n",
        "* Exactitud (Accuracy): 0.82\n",
        "\n",
        "* F1-score: 0.83\n",
        "\n",
        "Como se puede observar, el modelo optimizado con GridSearchCV mostró una mejora significativa en todas las métricas, especialmente en la sensibilidad (recall), que aumentó de **0.70 a 0.87**. Esto indica que el modelo optimizado es mucho más efectivo en la identificación correcta de clientes que eventualmente cancelarán su servicio, lo cual es crucial para implementar estrategias de retención proactivas."
      ],
      "metadata": {
        "id": "0GmRb9tsZymW"
      }
    },
    {
      "cell_type": "markdown",
      "source": [
        "#### **Factores Clave que Influyen en la Cancelación**\n",
        "\n",
        "El Random Forest Classifier, al ser un modelo basado en árboles, permite identificar la importancia de las variables (features) en la predicción. Las características más influyentes en la cancelación de clientes, según el modelo, son las siguientes:\n",
        "\n",
        "* Tenure: La duración de la relación del cliente con la empresa es un factor crítico. Es común que los clientes con menor antigüedad sean más propensos a la cancelación, o que en etapas específicas de su ciclo de vida (por ejemplo, después de un período promocional inicial) aumente el riesgo de abandono.\n",
        "\n",
        "* Total: El monto total facturado al cliente. Podría indicar que los clientes con facturas acumuladas más bajas o más altas tienen diferentes propensiones a cancelar.\n",
        "\n",
        "* Monthly: El importe que el cliente paga cada mes. Los clientes que perciben un alto costo mensual en relación con el valor que reciben son más propensos a cancelar.\n",
        "\n",
        "* CuentasDiarias: Aunque no se especificó la naturaleza exacta de esta variable, su importancia sugiere que la frecuencia o el patrón de uso diario del servicio podría ser un indicador de satisfacción o insatisfacción.\n",
        "\n",
        "* Contract_month-to-month: Los clientes con contratos mensuales tienen una flexibilidad mucho mayor para cancelar en comparación con aquellos con contratos a más largo plazo (uno o dos años). Este tipo de contrato es un indicador de alto riesgo de abandono.\n",
        "\n",
        "* TechSupport: La ausencia o baja calidad del soporte técnico es un irritante común que lleva a la cancelación. Los clientes que no tienen soporte técnico o que reportan problemas recurrentes son más propensos a irse.\n",
        "\n",
        "* PaymentMethod_electronic check: Este método de pago ha demostrado ser un factor de riesgo. Podría estar asociado con un segmento de clientes más volátil o con experiencias negativas relacionadas con el proceso de pago.\n",
        "\n",
        "* OnlineSecurity: La falta de seguridad en línea como un servicio adicional podría ser un factor para la cancelación, lo que sugiere que los clientes valoran la seguridad de sus datos y transacciones.\n",
        "\n",
        "* Contract_one year y Contract_two year: Estos tipos de contratos, al ser a largo plazo, actúan como factores de retención. Los clientes con estos contratos son menos propensos a cancelar, lo que resalta la importancia de incentivar compromisos a más largo plazo.\n",
        "\n",
        "* PaperlessBilling: Los clientes que optan por la facturación electrónica pueden tener un comportamiento diferente. Su relación con la cancelación podría ser directa o inversa dependiendo de la facilidad de uso del servicio.\n",
        "\n",
        "* Dependents: La presencia de dependientes podría influir en la estabilidad del cliente, lo que podría indicar una menor propensión a cancelar servicios esenciales para el hogar.\n",
        "\n",
        "* OnlineBackup: Similar a la seguridad en línea, la falta de este servicio podría contribuir a la insatisfacción y, en consecuencia, a la cancelación.\n",
        "\n",
        "* MultipleLines: Los clientes con múltiples líneas de servicio pueden tener una mayor dependencia del proveedor y, por lo tanto, una menor propensión a cancelar.\n",
        "\n",
        "* Partner: La presencia de una pareja en el hogar podría estar relacionada con una mayor estabilidad del cliente.\n",
        "\n",
        "* InternetService_fiber optic: El tipo de servicio de internet puede influir en la satisfacción del cliente. Si hay problemas con la fibra óptica (velocidad, interrupciones), podría ser un factor de cancelación.\n",
        "\n",
        "* DeviceProtection: Similar a otros servicios de valor añadido, la ausencia o percepción negativa de este servicio podría ser un factor de riesgo."
      ],
      "metadata": {
        "id": "xLtoEp9aafX-"
      }
    },
    {
      "cell_type": "markdown",
      "source": [
        "#### **Estrategias de Retención Basadas en los Resultados**\n",
        "\n",
        "Basándose en los factores identificados, se proponen las siguientes estrategias de retención:\n",
        "\n",
        "**1 - Enfocarse en Clientes con Contratos Mes a Mes**\n",
        "\n",
        "Estrategia: Implementar programas de incentivos para que los clientes con contratos mes a mes migren a planes de 1 o 2 años. Estos incentivos pueden incluir descuentos, beneficios adicionales (más datos, servicios premium) o tarifas preferenciales.\n",
        "\n",
        "Acción: Contactar proactivamente a estos clientes después de un período inicial (ej., 3-6 meses) para ofrecerles opciones de contratos más largos con beneficios claros.\n",
        "\n",
        "**2 - Mejorar la Experiencia del Cliente en Soporte Técnico:**\n",
        "\n",
        "Estrategia: Fortalecer el departamento de soporte técnico, asegurando tiempos de respuesta rápidos, resolución efectiva de problemas y personal capacitado y empático.\n",
        "\n",
        "Acción: Monitorear de cerca las interacciones de soporte técnico, implementar encuestas de satisfacción post-interacción y utilizar los datos para identificar y corregir puntos débiles. Considerar un seguimiento proactivo a clientes que hayan experimentado múltiples problemas técnicos.\n",
        "\n",
        "**3 - Monitorear y Optimizar la Facturación y los Cargos Mensuales/Totales:**\n",
        "\n",
        "Estrategia: Asegurar la transparencia en la facturación y ofrecer planes que se ajusten a las necesidades y presupuestos de los clientes.\n",
        "\n",
        "Acción: Analizar los patrones de \"Cargos Mensuales\" y \"Cargos Totales\" para identificar umbrales de riesgo. Ofrecer opciones de ajuste de plan o paquetes que brinden un mejor valor a clientes que se acerquen a esos umbrales o que expresen preocupación por los costos.\n",
        "\n",
        "**4 - Atención Especial a Clientes con Baja Antigüedad (tenure):**\n",
        "\n",
        "Estrategia: Implementar un programa de \"bienvenida\" o \"primeros meses\" que asegure una experiencia positiva desde el inicio.\n",
        "\n",
        "Acción: Realizar llamadas de seguimiento proactivas, ofrecer recursos para el uso del servicio y estar atentos a cualquier señal de insatisfacción temprana. Considerar ofrecer beneficios especiales o un soporte dedicado durante este período crítico.\n",
        "\n",
        "**5 - Optimizar Métodos de Pago y Promover la Seguridad Online:**\n",
        "\n",
        "Estrategia: Investigar por qué el \"cheque electrónico\" está asociado a la cancelación y, si es posible, ofrecer alternativas o mejorar la experiencia para los usuarios de este método. Promover activamente los servicios de seguridad en línea y copia de seguridad.\n",
        "\n",
        "Acción: Revisar el proceso de pago con cheque electrónico para identificar fricciones. Destacar los beneficios y la importancia de los servicios de seguridad y backup en la comunicación con los clientes, posiblemente ofreciendo pruebas gratuitas o descuentos iniciales."
      ],
      "metadata": {
        "id": "Ewu0hallbS7N"
      }
    },
    {
      "cell_type": "markdown",
      "source": [
        "#### **Conclusión**\n",
        "\n",
        "El análisis detallado y la optimización del modelo Random Forest han permitido identificar con alta precisión a los clientes propensos a la cancelación y los factores que más influyen en esta decisión. La mejora significativa en la sensibilidad (recall) del modelo optimizado a 0.87 es fundamental para el éxito de las iniciativas de retención. Al enfocarse en las estrategias propuestas, la empresa estará mejor posicionada para reducir la tasa de abandono de clientes y fomentar relaciones a largo plazo."
      ],
      "metadata": {
        "id": "arxcnZ-3cFZv"
      }
    },
    {
      "cell_type": "markdown",
      "source": [
        "# **Exportar el modelo champion**"
      ],
      "metadata": {
        "id": "wPzcsmSxdB-6"
      }
    },
    {
      "cell_type": "code",
      "source": [
        "import pickle"
      ],
      "metadata": {
        "id": "QaM7MlLQdIsS"
      },
      "execution_count": 140,
      "outputs": []
    },
    {
      "cell_type": "code",
      "source": [
        "try:\n",
        "  with open('modelo_grid_random_forest_champion.pkl', 'wb') as file:\n",
        "    pickle.dump(model_grid.best_estimator_, file)\n",
        "    print('Modelo serializado con éxito')\n",
        "except Exception as e:\n",
        "  print(f'Error al serializar el modelo: {e}')"
      ],
      "metadata": {
        "colab": {
          "base_uri": "https://localhost:8080/"
        },
        "id": "TgA9ttRwdK_k",
        "outputId": "70fb6f0c-0b65-47cc-8b66-dc23b5f1c5ba"
      },
      "execution_count": 141,
      "outputs": [
        {
          "output_type": "stream",
          "name": "stdout",
          "text": [
            "Modelo serializado con éxito\n"
          ]
        }
      ]
    }
  ]
}